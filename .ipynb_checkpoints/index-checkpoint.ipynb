{
 "cells": [
  {
   "cell_type": "markdown",
   "id": "c4dae1b6",
   "metadata": {},
   "source": [
    "<!-- ---\n",
    "title: \"Week 6\"\n",
    "title-block-banner: true\n",
    "title-block-style: default\n",
    "execute:\n",
    "  freeze: true\n",
    "  cache: true\n",
    "format: html\n",
    "# format: pdf\n",
    "--- -->"
   ]
  },
  {
   "cell_type": "code",
   "execution_count": 1,
   "id": "99d0176d-3028-42c9-b4db-e49ae5d032fa",
   "metadata": {
    "tags": [],
    "vscode": {
     "languageId": "r"
    }
   },
   "outputs": [],
   "source": [
    "dir <- \"~/work/courses/stat380/weeks/week-12/\"\n",
    "# renv::activate(dir)"
   ]
  },
  {
   "cell_type": "markdown",
   "id": "9d71c7bf",
   "metadata": {},
   "source": [
    "\n",
    "#### Packages we will require this week"
   ]
  },
  {
   "cell_type": "code",
   "execution_count": 3,
   "id": "8d19e576-83a6-4d5a-b2e4-58be67e2b81c",
   "metadata": {
    "tags": [],
    "vscode": {
     "languageId": "r"
    }
   },
   "outputs": [
    {
     "data": {
      "text/html": [
       "<style>\n",
       ".dl-inline {width: auto; margin:0; padding: 0}\n",
       ".dl-inline>dt, .dl-inline>dd {float: none; width: auto; display: inline-block}\n",
       ".dl-inline>dt::after {content: \":\\0020\"; padding-right: .5ex}\n",
       ".dl-inline>dt:not(:first-of-type) {padding-left: .5ex}\n",
       "</style><dl class=dl-inline><dt>ISLR2</dt><dd>TRUE</dd><dt>dplyr</dt><dd>TRUE</dd><dt>tidyr</dt><dd>TRUE</dd><dt>readr</dt><dd>TRUE</dd><dt>purrr</dt><dd>TRUE</dd><dt>repr</dt><dd>TRUE</dd><dt>tidyverse</dt><dd>TRUE</dd><dt>kableExtra</dt><dd>TRUE</dd><dt>IRdisplay</dt><dd>TRUE</dd><dt>torch</dt><dd>TRUE</dd><dt>torchvision</dt><dd>TRUE</dd><dt>luz</dt><dd>TRUE</dd></dl>\n"
      ],
      "text/latex": [
       "\\begin{description*}\n",
       "\\item[ISLR2] TRUE\n",
       "\\item[dplyr] TRUE\n",
       "\\item[tidyr] TRUE\n",
       "\\item[readr] TRUE\n",
       "\\item[purrr] TRUE\n",
       "\\item[repr] TRUE\n",
       "\\item[tidyverse] TRUE\n",
       "\\item[kableExtra] TRUE\n",
       "\\item[IRdisplay] TRUE\n",
       "\\item[torch] TRUE\n",
       "\\item[torchvision] TRUE\n",
       "\\item[luz] TRUE\n",
       "\\end{description*}\n"
      ],
      "text/markdown": [
       "ISLR2\n",
       ":   TRUEdplyr\n",
       ":   TRUEtidyr\n",
       ":   TRUEreadr\n",
       ":   TRUEpurrr\n",
       ":   TRUErepr\n",
       ":   TRUEtidyverse\n",
       ":   TRUEkableExtra\n",
       ":   TRUEIRdisplay\n",
       ":   TRUEtorch\n",
       ":   TRUEtorchvision\n",
       ":   TRUEluz\n",
       ":   TRUE\n",
       "\n"
      ],
      "text/plain": [
       "      ISLR2       dplyr       tidyr       readr       purrr        repr \n",
       "       TRUE        TRUE        TRUE        TRUE        TRUE        TRUE \n",
       "  tidyverse  kableExtra   IRdisplay       torch torchvision         luz \n",
       "       TRUE        TRUE        TRUE        TRUE        TRUE        TRUE "
      ]
     },
     "metadata": {},
     "output_type": "display_data"
    }
   ],
   "source": [
    "packages <- c(\n",
    "    # Old packages\n",
    "    \"ISLR2\",\n",
    "    \"dplyr\",\n",
    "    \"tidyr\",\n",
    "    \"readr\",\n",
    "    \"purrr\",\n",
    "    \"repr\",\n",
    "    \"tidyverse\",\n",
    "    \"kableExtra\",\n",
    "    \"IRdisplay\",\n",
    "    # NEW\n",
    "    \"torch\",\n",
    "    \"torchvision\",\n",
    "    \"luz\"\n",
    ")\n",
    "\n",
    "# renv::install(packages)\n",
    "sapply(packages, require, character.only=TRUE)"
   ]
  },
  {
   "cell_type": "markdown",
   "id": "e18b6e96-5de0-4b42-b23b-23f1702d799d",
   "metadata": {},
   "source": [
    "---\n",
    "\n",
    "# Tue, Apr 12\n",
    "\n",
    "### Agenda:\n",
    "\n",
    "1. Real-world neural network classification\n",
    "1. Dataloaders\n",
    "1. Torch for image classification"
   ]
  },
  {
   "cell_type": "markdown",
   "id": "91df4c23-4c94-40ce-b864-19be9a4d2cb7",
   "metadata": {},
   "source": [
    "<br><br><br>"
   ]
  },
  {
   "cell_type": "markdown",
   "id": "d5fbad6f-b207-4c8f-8907-9480141473e2",
   "metadata": {},
   "source": [
    "## Titanic"
   ]
  },
  {
   "cell_type": "code",
   "execution_count": 74,
   "id": "aac147d0-3915-4d86-91e4-0eae3f0226bf",
   "metadata": {
    "tags": []
   },
   "outputs": [],
   "source": [
    "# url <- \"https://web.stanford.edu/class/archive/cs/cs109/cs109.1166/stuff/titanic.csv\"\n",
    "\n",
    "# df <- read_csv(url) %>%\n",
    "#     mutate_if(\\(x) is.character(x), as.factor) %>%\n",
    "#     mutate(y = Survived) %>%\n",
    "#     select(-c(Name, Survived)) %>%\n",
    "#     (\\(x) {\n",
    "#         names(x) <- tolower(names(x))\n",
    "#         x\n",
    "#     })\n",
    "\n",
    "# df %>% head"
   ]
  },
  {
   "cell_type": "markdown",
   "id": "f9e0f368-824e-42fc-b985-a033396bd7eb",
   "metadata": {},
   "source": [
    "## Breast Cancer Prediction"
   ]
  },
  {
   "cell_type": "code",
   "execution_count": 75,
   "id": "233fddea-2bdb-4603-a002-481a2ddcd3af",
   "metadata": {
    "tags": []
   },
   "outputs": [],
   "source": [
    "# url <- \"https://archive.ics.uci.edu/ml/machine-learning-databases/breast-cancer-wisconsin/wdbc.data\"\n",
    "\n",
    "# col_names <- c(\"id\", \"diagnosis\", paste0(\"feat\", 1:30))\n",
    "\n",
    "# df <- read_csv(\n",
    "#         url, col_names, col_types = cols()\n",
    "#     ) %>% \n",
    "#     select(-id) %>% \n",
    "#     mutate(y = ifelse(diagnosis == \"M\", 1, 0)) %>%\n",
    "#     select(-diagnosis)\n",
    "\n",
    "\n",
    "# df %>% head"
   ]
  },
  {
   "cell_type": "markdown",
   "id": "3f5cbbe6-ea0c-4071-9527-b6555d565d9d",
   "metadata": {},
   "source": [
    "### Train/Test Split"
   ]
  },
  {
   "cell_type": "code",
   "execution_count": 36,
   "id": "0017b3a4-c40f-40bc-b811-6a92f2633d6c",
   "metadata": {
    "tags": []
   },
   "outputs": [],
   "source": [
    "k <- 5\n",
    "\n",
    "test_ind <- sample(\n",
    "    1:nrow(df), \n",
    "    floor(nrow(df) / k),\n",
    "    replace=FALSE\n",
    ")"
   ]
  },
  {
   "cell_type": "code",
   "execution_count": 73,
   "id": "47817320-3901-4d9b-9812-a1c6353fe26a",
   "metadata": {
    "tags": []
   },
   "outputs": [],
   "source": [
    "# df_train <- df[-test_ind, ]\n",
    "# df_test  <- df[test_ind, ]\n",
    "\n",
    "# nrow(df_train) + nrow(df_test) == nrow(df)"
   ]
  },
  {
   "cell_type": "markdown",
   "id": "761a47d2-3694-4b2b-830d-be22bd4a501b",
   "metadata": {},
   "source": [
    "### Benchmark with Logistic Regression"
   ]
  },
  {
   "cell_type": "code",
   "execution_count": 72,
   "id": "42fe55ad-647a-49f4-93de-d87ea7ff7cad",
   "metadata": {
    "tags": []
   },
   "outputs": [],
   "source": [
    "# fit_glm <- glm(\n",
    "#     y ~ ., \n",
    "#     df_train %>% mutate_at(\"y\", factor), \n",
    "#     family = binomial()\n",
    "# )\n",
    "\n",
    "# glm_test <- predict(\n",
    "#     fit_glm, \n",
    "#     df_test,\n",
    "#     output = \"response\"\n",
    "# )\n",
    "\n",
    "# glm_preds <- ifelse(glm_test > 0.5, 1, 0)\n",
    "# table(glm_preds, df_test$y)"
   ]
  },
  {
   "cell_type": "markdown",
   "id": "5fc08e27-54b7-4763-b388-fbaf0b5396f1",
   "metadata": {},
   "source": [
    "### Neural Net Model"
   ]
  },
  {
   "cell_type": "code",
   "execution_count": 39,
   "id": "5aaac2c1-e98c-4ede-8ebd-c777d51e58a3",
   "metadata": {
    "tags": []
   },
   "outputs": [],
   "source": [
    "NNet <- nn_module(\n",
    "  initialize = function(p, q1, q2, q3) {  \n",
    "    self$hidden1 <- nn_linear(p, q1)\n",
    "    self$hidden2 <- nn_linear(q1, q2)\n",
    "    self$hidden3 <- nn_linear(q2, q3)\n",
    "    self$output <- nn_linear(q3, 1)\n",
    "    self$activation <- nn_relu()\n",
    "    self$sigmoid <- nn_sigmoid()\n",
    "  },\n",
    "    \n",
    "  forward = function(x) {\n",
    "    x %>% \n",
    "      self$hidden1() %>% self$activation() %>% \n",
    "      self$hidden2() %>% self$activation() %>% \n",
    "      self$hidden3() %>% self$activation() %>% \n",
    "      self$output() %>% self$sigmoid()\n",
    "  }\n",
    ")"
   ]
  },
  {
   "cell_type": "markdown",
   "id": "97e0f9bb-35c7-43fd-91f8-ae80c6c5dc92",
   "metadata": {},
   "source": [
    "### Fit using Luz"
   ]
  },
  {
   "cell_type": "code",
   "execution_count": 60,
   "id": "90129a4b-e587-43e3-8dd3-3a0c6694c609",
   "metadata": {
    "tags": []
   },
   "outputs": [],
   "source": [
    "# model.matrix(y ~ 0 + ., data = df_train)"
   ]
  },
  {
   "cell_type": "code",
   "execution_count": 69,
   "id": "ddd5d752-e740-4670-890c-e8795fe6f453",
   "metadata": {
    "tags": []
   },
   "outputs": [
    {
     "ename": "ERROR",
     "evalue": "Error in eval(expr, envir, enclos): '...' used in an incorrect context\n",
     "output_type": "error",
     "traceback": [
      "Error in eval(expr, envir, enclos): '...' used in an incorrect context\nTraceback:\n"
     ]
    }
   ],
   "source": [
    "fit_nn <- NNet %>%\n",
    "    #\n",
    "    # Setup the model\n",
    "    #\n",
    "    ...\n",
    "    #\n",
    "    # Set the hyperparameters\n",
    "    #\n",
    "    ...\n",
    "    #\n",
    "    # Fit the model\n",
    "    #\n",
    "    ..."
   ]
  },
  {
   "cell_type": "code",
   "execution_count": 70,
   "id": "49081481-d781-426b-a123-3067539b57cd",
   "metadata": {
    "tags": []
   },
   "outputs": [],
   "source": [
    "# plot(fit_nn)"
   ]
  },
  {
   "cell_type": "code",
   "execution_count": 71,
   "id": "842aaf61-7ea7-417c-b09f-5362f4b3a571",
   "metadata": {
    "tags": []
   },
   "outputs": [],
   "source": [
    "# nn_test <- predict(\n",
    "#     fit_nn, \n",
    "#     model.matrix(y ~ . - 1, data = df_test)\n",
    "# )\n",
    "# # nn_test\n",
    "# nn_preds <- ifelse(nn_test > 0.5, 1, 0)\n",
    "\n",
    "# table(nn_preds, df_test$y)"
   ]
  },
  {
   "cell_type": "markdown",
   "id": "d1bf68ab-aaac-449d-a591-27c5125a0ba8",
   "metadata": {
    "tags": []
   },
   "source": [
    "<br><br><br><br>\n",
    "\n",
    "---\n",
    "\n",
    "### DataLoaders\n",
    "\n",
    "* Dataloaders are a key component in the machine learning pipeline.\n",
    "\n",
    "* They handle loading and preprocessing data in a way that is efficient for training and evaluating models.\n",
    "\n",
    "* Dataloaders make it easy to work with large datasets by loading the data in smaller chunks (called **batches**) and applying transformations _on-the-fly_.\n",
    "\n",
    "\n",
    "##### Why use Dataloaders?\n",
    "\n",
    "> * **Efficient memory management:** loading data in smaller chunks reduces memory usage.\n",
    ">\n",
    "> * **Parallelism:**  supports asynchronous data loading for faster processing.\n",
    ">\n",
    "> * **Preprocessing:**  apply data transformations on-the-fly during training and evaluation.\n",
    ">\n",
    "> * **Flexibility:**  easily switch between different datasets or preprocessing steps.\n",
    ">\n",
    "> * **Standardization:**  consistent data format across various machine learning projects.\n",
    ">"
   ]
  },
  {
   "cell_type": "code",
   "execution_count": 85,
   "id": "dafa657c-e10a-40b1-bc2c-6e92024b716d",
   "metadata": {
    "tags": []
   },
   "outputs": [],
   "source": [
    "# ?dataloader"
   ]
  },
  {
   "cell_type": "code",
   "execution_count": 580,
   "id": "93a5ec2c-7024-4df8-8494-f3cb3c71e92c",
   "metadata": {
    "tags": []
   },
   "outputs": [],
   "source": [
    "# transform <- \\(x) x %>% \n",
    "#     torch_tensor() %>% \n",
    "#     torch_flatten() %>% \n",
    "#     torch_div(255)\n",
    "# }"
   ]
  },
  {
   "cell_type": "code",
   "execution_count": 581,
   "id": "7571d567-5a99-4639-b4a6-0d3a6427f909",
   "metadata": {
    "tags": []
   },
   "outputs": [],
   "source": [
    "dir <- \"./mnist\"\n",
    "\n",
    "mnist_dataset2 <- torch::dataset(\n",
    "  inherit = mnist_dataset,\n",
    "  .getitem = function(i) {\n",
    "    output <- super$.getitem(i)\n",
    "    output$y <- output$x\n",
    "    output\n",
    "  }\n",
    ")\n",
    "\n",
    "train_ds <- mnist_dataset2(\n",
    "  dir,\n",
    "  download = TRUE,\n",
    "  transform = transform\n",
    ")\n",
    "\n",
    "test_ds <- mnist_dataset2(\n",
    "  dir,\n",
    "  download = TRUE,\n",
    "  train = FALSE,\n",
    "  transform = transform\n",
    ")"
   ]
  },
  {
   "cell_type": "code",
   "execution_count": 366,
   "id": "43b4d04e-6a27-493f-b3f5-63d52d1fdcf2",
   "metadata": {
    "tags": []
   },
   "outputs": [],
   "source": [
    "# typeof(train_ds)\n",
    "# length(train_ds)\n",
    "# train_ds$data[100, ,]"
   ]
  },
  {
   "cell_type": "code",
   "execution_count": 582,
   "id": "d093b385-d14c-4ec1-bd12-f492910b1f03",
   "metadata": {
    "tags": []
   },
   "outputs": [
    {
     "data": {
      "image/png": "[encoded data removed]",
      "text/plain": [
       "Plot with title “7”"
      ]
     },
     "metadata": {
      "image/png": {
       "height": 600,
       "width": 600
      }
     },
     "output_type": "display_data"
    }
   ],
   "source": [
    "options(repr.plot.width=10, repr.plot.height=10)\n",
    "\n",
    "i <- sample(1:length(train_ds), 1)\n",
    "x <- train_ds$data[i, ,] %>% t\n",
    "\n",
    "image(x[1:28, 28:1], useRaster=TRUE, axes=FALSE, col=gray.colors(1000), main = train_ds$targets[i]-1 )"
   ]
  },
  {
   "cell_type": "code",
   "execution_count": 583,
   "id": "b5a5d53b-923a-4c7b-b6c9-e5cb7491c29f",
   "metadata": {
    "tags": []
   },
   "outputs": [
    {
     "data": {
      "image/png": "[encoded data removed]",
      "text/plain": [
       "Plot with title “1”"
      ]
     },
     "metadata": {
      "image/png": {
       "height": 600,
       "width": 600
      }
     },
     "output_type": "display_data"
    }
   ],
   "source": [
    "par(mfrow=c(3,3))\n",
    "options(repr.plot.width=10, repr.plot.height=10)\n",
    "\n",
    "for(iter in 1:9){\n",
    "    i <- sample(1:length(train_ds), 1)\n",
    "    x <- train_ds$data[i, ,] %>% t\n",
    "    image(x[1:28, 28:1], useRaster=TRUE, axes=FALSE, col=gray.colors(1000), main = train_ds$targets[i]-1 )\n",
    "}"
   ]
  },
  {
   "cell_type": "markdown",
   "id": "a675824c-263b-4d64-b40d-ccd49aed012d",
   "metadata": {},
   "source": [
    "<br><br><br><br>\n",
    "<br><br><br><br>\n"
   ]
  },
  {
   "cell_type": "markdown",
   "id": "a113d801-8927-4b20-b4ca-bdb81329341b",
   "metadata": {},
   "source": [
    "---"
   ]
  },
  {
   "cell_type": "markdown",
   "id": "928330ce-4fea-4c42-ba1f-cd541831a84b",
   "metadata": {},
   "source": [
    "# Image Classification"
   ]
  },
  {
   "cell_type": "code",
   "execution_count": 588,
   "id": "94a67d0f-e62a-4ce6-bdf0-8e36dec295f1",
   "metadata": {
    "tags": []
   },
   "outputs": [],
   "source": [
    "train_dl <- dataloader(train_ds, batch_size = 128, shuffle = TRUE)\n",
    "test_dl <- dataloader(test_ds, batch_size = 128)"
   ]
  },
  {
   "cell_type": "code",
   "execution_count": 589,
   "id": "11e71457-79de-4c11-9252-76483d3a5b85",
   "metadata": {
    "tags": []
   },
   "outputs": [],
   "source": [
    "# 28 * 28"
   ]
  },
  {
   "cell_type": "code",
   "execution_count": 590,
   "id": "fce5deee-0a61-4a7e-a175-8ae5e9a32d74",
   "metadata": {
    "tags": []
   },
   "outputs": [],
   "source": [
    "NNet_10 <- nn_module(\n",
    "  initialize = function(p, q1, q2, q3) {\n",
    "    self$hidden1 <- nn_linear(p, q1)\n",
    "    self$hidden2 <- nn_linear(q1, q2)\n",
    "    self$hidden3 <- nn_linear(q2, q3)\n",
    "    self$activation <- nn_relu()\n",
    "  },\n",
    "  forward = function(x) {\n",
    "    x %>% \n",
    "        self$hidden1() %>%\n",
    "        self$activation() %>% \n",
    "        self$hidden2() %>%\n",
    "        self$activation() %>% \n",
    "        self$hidden3()\n",
    "  }\n",
    ")"
   ]
  },
  {
   "cell_type": "code",
   "execution_count": 592,
   "id": "6bc7a75f-b617-4722-acfc-557b7c63ea78",
   "metadata": {
    "tags": []
   },
   "outputs": [
    {
     "name": "stderr",
     "output_type": "stream",
     "text": [
      "Epoch 1/10\n"
     ]
    }
   ],
   "source": [
    "fit_nn <- NNet_10 %>%\n",
    "    #\n",
    "    # Setup the model\n",
    "    #\n",
    "    setup(\n",
    "        loss = nn_cross_entropy_loss(),\n",
    "        optimizer = optim_rmsprop,\n",
    "        metrics = list(\n",
    "            luz_metric_accuracy()\n",
    "        )\n",
    "    ) %>%\n",
    "    #\n",
    "    # Set the hyperparameters\n",
    "    #\n",
    "    set_hparams(p=28*28, q1=256, q2=128, q3=10) %>% \n",
    "    #\n",
    "    # Fit the model\n",
    "    #\n",
    "    fit(\n",
    "        #\n",
    "        # Training Data\n",
    "        #\n",
    "        epochs = 10,\n",
    "        data = train_dl,\n",
    "        valid_data = test_dl,\n",
    "        # data = train_ds,\n",
    "        # valid_data = 0.2,\n",
    "        # dataloader_options = list(batch_size = 128),\n",
    "        verbose=TRUE\n",
    "    )"
   ]
  },
  {
   "cell_type": "code",
   "execution_count": null,
   "id": "364bd46e-7dbb-4404-bd3d-e54ca674ba3d",
   "metadata": {},
   "outputs": [],
   "source": [
    "NN10_preds <- fit_nn %>% \n",
    "  predict(test_ds) %>% \n",
    "  torch_argmax(dim = 2) %>%\n",
    "  as_array()"
   ]
  },
  {
   "cell_type": "markdown",
   "id": "192d4f4d-a253-4b9d-9e40-3cd0c674436c",
   "metadata": {},
   "source": [
    "<br><br><br><br>\n",
    "<br><br><br><br>\n",
    "<br><br><br><br>\n",
    "<br><br><br><br>\n",
    "\n",
    "---\n",
    "\n",
    "# Appendix\n",
    "\n",
    "```R\n",
    "fit_nn <- NNet %>%\n",
    "    #\n",
    "    # Setup the model\n",
    "    #\n",
    "    setup(\n",
    "        loss = nn_bce_loss(),\n",
    "        optimizer = optim_adam,\n",
    "        metrics = list(\n",
    "            luz_metric_binary_auroc()\n",
    "        )\n",
    "    ) %>%\n",
    "    #\n",
    "    # Set the hyperparameters\n",
    "    #\n",
    "    set_hparams(p=7, q1=5, q2=7, q3=5) %>% \n",
    "    set_opt_hparams(lr=0.005) %>%\n",
    "    #\n",
    "    # Fit the model\n",
    "    #\n",
    "    fit(\n",
    "        \n",
    "        #\n",
    "        # Training Data\n",
    "        #\n",
    "        data = list(\n",
    "            model.matrix(y ~ . - 1, data = df_train),\n",
    "            as.matrix(df_train$y)\n",
    "        ),\n",
    "        #\n",
    "        # Validation Data\n",
    "        #\n",
    "        valid_data = list(\n",
    "            model.matrix(y ~ . - 1, data = df_test),\n",
    "            as.matrix(df_test$y)\n",
    "        ),\n",
    "        epochs = 100,\n",
    "        verbose=TRUE\n",
    "    )\n",
    "```"
   ]
  },
  {
   "cell_type": "code",
   "execution_count": null,
   "id": "7bc0c66c-98d5-4139-b451-8fb2bd10c7e5",
   "metadata": {},
   "outputs": [],
   "source": []
  }
 ],
 "metadata": {
  "hide_input": false,
  "kernelspec": {
   "display_name": "R v4.2",
   "language": "R",
   "name": "ir42"
  },
  "language_info": {
   "codemirror_mode": "r",
   "file_extension": ".r",
   "mimetype": "text/x-r-source",
   "name": "R",
   "pygments_lexer": "r",
   "version": "4.2.2"
  },
  "widgets": {
   "application/vnd.jupyter.widget-state+json": {
    "state": {},
    "version_major": 2,
    "version_minor": 0
   }
  }
 },
 "nbformat": 4,
 "nbformat_minor": 5
}
