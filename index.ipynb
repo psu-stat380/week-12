{
 "cells": [
  {
   "attachments": {},
   "cell_type": "markdown",
   "id": "c4dae1b6",
   "metadata": {},
   "source": [
    "<!-- ---\n",
    "title: \"Week 6\"\n",
    "title-block-banner: true\n",
    "title-block-style: default\n",
    "execute:\n",
    "  freeze: true\n",
    "  cache: true\n",
    "format: html\n",
    "# format: pdf\n",
    "--- -->"
   ]
  },
  {
   "cell_type": "code",
   "execution_count": 1,
   "id": "99d0176d-3028-42c9-b4db-e49ae5d032fa",
   "metadata": {
    "tags": [],
    "vscode": {
     "languageId": "r"
    }
   },
   "outputs": [],
   "source": [
    "dir <- \"~/work/courses/stat380/weeks/week-12/\"\n",
    "# renv::activate(dir)"
   ]
  },
  {
   "attachments": {},
   "cell_type": "markdown",
   "id": "9d71c7bf",
   "metadata": {},
   "source": [
    "\n",
    "#### Packages we will require this week"
   ]
  },
  {
   "cell_type": "code",
   "execution_count": 3,
   "id": "8d19e576-83a6-4d5a-b2e4-58be67e2b81c",
   "metadata": {
    "tags": [],
    "vscode": {
     "languageId": "r"
    }
   },
   "outputs": [
    {
     "data": {
      "text/html": [
       "<style>\n",
       ".dl-inline {width: auto; margin:0; padding: 0}\n",
       ".dl-inline>dt, .dl-inline>dd {float: none; width: auto; display: inline-block}\n",
       ".dl-inline>dt::after {content: \":\\0020\"; padding-right: .5ex}\n",
       ".dl-inline>dt:not(:first-of-type) {padding-left: .5ex}\n",
       "</style><dl class=dl-inline><dt>ISLR2</dt><dd>TRUE</dd><dt>dplyr</dt><dd>TRUE</dd><dt>tidyr</dt><dd>TRUE</dd><dt>readr</dt><dd>TRUE</dd><dt>purrr</dt><dd>TRUE</dd><dt>repr</dt><dd>TRUE</dd><dt>tidyverse</dt><dd>TRUE</dd><dt>kableExtra</dt><dd>TRUE</dd><dt>IRdisplay</dt><dd>TRUE</dd><dt>torch</dt><dd>TRUE</dd><dt>torchvision</dt><dd>TRUE</dd><dt>luz</dt><dd>TRUE</dd></dl>\n"
      ],
      "text/latex": [
       "\\begin{description*}\n",
       "\\item[ISLR2] TRUE\n",
       "\\item[dplyr] TRUE\n",
       "\\item[tidyr] TRUE\n",
       "\\item[readr] TRUE\n",
       "\\item[purrr] TRUE\n",
       "\\item[repr] TRUE\n",
       "\\item[tidyverse] TRUE\n",
       "\\item[kableExtra] TRUE\n",
       "\\item[IRdisplay] TRUE\n",
       "\\item[torch] TRUE\n",
       "\\item[torchvision] TRUE\n",
       "\\item[luz] TRUE\n",
       "\\end{description*}\n"
      ],
      "text/markdown": [
       "ISLR2\n",
       ":   TRUEdplyr\n",
       ":   TRUEtidyr\n",
       ":   TRUEreadr\n",
       ":   TRUEpurrr\n",
       ":   TRUErepr\n",
       ":   TRUEtidyverse\n",
       ":   TRUEkableExtra\n",
       ":   TRUEIRdisplay\n",
       ":   TRUEtorch\n",
       ":   TRUEtorchvision\n",
       ":   TRUEluz\n",
       ":   TRUE\n",
       "\n"
      ],
      "text/plain": [
       "      ISLR2       dplyr       tidyr       readr       purrr        repr \n",
       "       TRUE        TRUE        TRUE        TRUE        TRUE        TRUE \n",
       "  tidyverse  kableExtra   IRdisplay       torch torchvision         luz \n",
       "       TRUE        TRUE        TRUE        TRUE        TRUE        TRUE "
      ]
     },
     "metadata": {},
     "output_type": "display_data"
    }
   ],
   "source": [
    "packages <- c(\n",
    "    # Old packages\n",
    "    \"ISLR2\",\n",
    "    \"dplyr\",\n",
    "    \"tidyr\",\n",
    "    \"readr\",\n",
    "    \"purrr\",\n",
    "    \"repr\",\n",
    "    \"tidyverse\",\n",
    "    \"kableExtra\",\n",
    "    \"IRdisplay\",\n",
    "    # NEW\n",
    "    \"torch\",\n",
    "    \"torchvision\",\n",
    "    \"luz\"\n",
    ")\n",
    "\n",
    "# renv::install(packages)\n",
    "sapply(packages, require, character.only=TRUE)"
   ]
  },
  {
   "attachments": {},
   "cell_type": "markdown",
   "id": "e18b6e96-5de0-4b42-b23b-23f1702d799d",
   "metadata": {},
   "source": [
    "---\n",
    "\n",
    "# Tue, Apr 12\n",
    "\n",
    "### Agenda:\n",
    "\n",
    "1. Real-world neural network classification\n",
    "1. Dataloaders\n",
    "1. Torch for image classification"
   ]
  },
  {
   "attachments": {},
   "cell_type": "markdown",
   "id": "91df4c23-4c94-40ce-b864-19be9a4d2cb7",
   "metadata": {},
   "source": [
    "<br><br><br>"
   ]
  },
  {
   "attachments": {},
   "cell_type": "markdown",
   "id": "d5fbad6f-b207-4c8f-8907-9480141473e2",
   "metadata": {},
   "source": [
    "## Titanic"
   ]
  },
  {
   "cell_type": "code",
   "execution_count": 4,
   "id": "aac147d0-3915-4d86-91e4-0eae3f0226bf",
   "metadata": {
    "tags": [],
    "vscode": {
     "languageId": "r"
    }
   },
   "outputs": [
    {
     "name": "stderr",
     "output_type": "stream",
     "text": [
      "\u001b[1mRows: \u001b[22m\u001b[34m887\u001b[39m \u001b[1mColumns: \u001b[22m\u001b[34m8\u001b[39m\n",
      "\u001b[36m──\u001b[39m \u001b[1mColumn specification\u001b[22m \u001b[36m────────────────────────────────────────────────────────\u001b[39m\n",
      "\u001b[1mDelimiter:\u001b[22m \",\"\n",
      "\u001b[31mchr\u001b[39m (2): Name, Sex\n",
      "\u001b[32mdbl\u001b[39m (6): Survived, Pclass, Age, Siblings/Spouses Aboard, Parents/Children Ab...\n",
      "\n",
      "\u001b[36mℹ\u001b[39m Use `spec()` to retrieve the full column specification for this data.\n",
      "\u001b[36mℹ\u001b[39m Specify the column types or set `show_col_types = FALSE` to quiet this message.\n"
     ]
    },
    {
     "data": {
      "text/html": [
       "<table class=\"dataframe\">\n",
       "<caption>A tibble: 6 × 7</caption>\n",
       "<thead>\n",
       "\t<tr><th scope=col>pclass</th><th scope=col>sex</th><th scope=col>age</th><th scope=col>siblings/spouses aboard</th><th scope=col>parents/children aboard</th><th scope=col>fare</th><th scope=col>y</th></tr>\n",
       "\t<tr><th scope=col>&lt;dbl&gt;</th><th scope=col>&lt;fct&gt;</th><th scope=col>&lt;dbl&gt;</th><th scope=col>&lt;dbl&gt;</th><th scope=col>&lt;dbl&gt;</th><th scope=col>&lt;dbl&gt;</th><th scope=col>&lt;dbl&gt;</th></tr>\n",
       "</thead>\n",
       "<tbody>\n",
       "\t<tr><td>3</td><td>male  </td><td>22</td><td>1</td><td>0</td><td> 7.2500</td><td>0</td></tr>\n",
       "\t<tr><td>1</td><td>female</td><td>38</td><td>1</td><td>0</td><td>71.2833</td><td>1</td></tr>\n",
       "\t<tr><td>3</td><td>female</td><td>26</td><td>0</td><td>0</td><td> 7.9250</td><td>1</td></tr>\n",
       "\t<tr><td>1</td><td>female</td><td>35</td><td>1</td><td>0</td><td>53.1000</td><td>1</td></tr>\n",
       "\t<tr><td>3</td><td>male  </td><td>35</td><td>0</td><td>0</td><td> 8.0500</td><td>0</td></tr>\n",
       "\t<tr><td>3</td><td>male  </td><td>27</td><td>0</td><td>0</td><td> 8.4583</td><td>0</td></tr>\n",
       "</tbody>\n",
       "</table>\n"
      ],
      "text/latex": [
       "A tibble: 6 × 7\n",
       "\\begin{tabular}{lllllll}\n",
       " pclass & sex & age & siblings/spouses aboard & parents/children aboard & fare & y\\\\\n",
       " <dbl> & <fct> & <dbl> & <dbl> & <dbl> & <dbl> & <dbl>\\\\\n",
       "\\hline\n",
       "\t 3 & male   & 22 & 1 & 0 &  7.2500 & 0\\\\\n",
       "\t 1 & female & 38 & 1 & 0 & 71.2833 & 1\\\\\n",
       "\t 3 & female & 26 & 0 & 0 &  7.9250 & 1\\\\\n",
       "\t 1 & female & 35 & 1 & 0 & 53.1000 & 1\\\\\n",
       "\t 3 & male   & 35 & 0 & 0 &  8.0500 & 0\\\\\n",
       "\t 3 & male   & 27 & 0 & 0 &  8.4583 & 0\\\\\n",
       "\\end{tabular}\n"
      ],
      "text/markdown": [
       "\n",
       "A tibble: 6 × 7\n",
       "\n",
       "| pclass &lt;dbl&gt; | sex &lt;fct&gt; | age &lt;dbl&gt; | siblings/spouses aboard &lt;dbl&gt; | parents/children aboard &lt;dbl&gt; | fare &lt;dbl&gt; | y &lt;dbl&gt; |\n",
       "|---|---|---|---|---|---|---|\n",
       "| 3 | male   | 22 | 1 | 0 |  7.2500 | 0 |\n",
       "| 1 | female | 38 | 1 | 0 | 71.2833 | 1 |\n",
       "| 3 | female | 26 | 0 | 0 |  7.9250 | 1 |\n",
       "| 1 | female | 35 | 1 | 0 | 53.1000 | 1 |\n",
       "| 3 | male   | 35 | 0 | 0 |  8.0500 | 0 |\n",
       "| 3 | male   | 27 | 0 | 0 |  8.4583 | 0 |\n",
       "\n"
      ],
      "text/plain": [
       "  pclass sex    age siblings/spouses aboard parents/children aboard fare    y\n",
       "1 3      male   22  1                       0                        7.2500 0\n",
       "2 1      female 38  1                       0                       71.2833 1\n",
       "3 3      female 26  0                       0                        7.9250 1\n",
       "4 1      female 35  1                       0                       53.1000 1\n",
       "5 3      male   35  0                       0                        8.0500 0\n",
       "6 3      male   27  0                       0                        8.4583 0"
      ]
     },
     "metadata": {},
     "output_type": "display_data"
    }
   ],
   "source": [
    "url <- \"https://web.stanford.edu/class/archive/cs/cs109/cs109.1166/stuff/titanic.csv\"\n",
    "\n",
    "df <- read_csv(url) %>%\n",
    "    mutate_if(\\(x) is.character(x), as.factor) %>%\n",
    "    mutate(y = Survived) %>%\n",
    "    select(-c(Name, Survived)) %>%\n",
    "    (\\(x) {\n",
    "        names(x) <- tolower(names(x))\n",
    "        x\n",
    "    })\n",
    "\n",
    "df %>% head"
   ]
  },
  {
   "attachments": {},
   "cell_type": "markdown",
   "id": "f9e0f368-824e-42fc-b985-a033396bd7eb",
   "metadata": {},
   "source": [
    "## Breast Cancer Prediction"
   ]
  },
  {
   "cell_type": "code",
   "execution_count": 5,
   "id": "233fddea-2bdb-4603-a002-481a2ddcd3af",
   "metadata": {
    "tags": [],
    "vscode": {
     "languageId": "r"
    }
   },
   "outputs": [],
   "source": [
    "# url <- \"https://archive.ics.uci.edu/ml/machine-learning-databases/breast-cancer-wisconsin/wdbc.data\"\n",
    "\n",
    "# col_names <- c(\"id\", \"diagnosis\", paste0(\"feat\", 1:30))\n",
    "\n",
    "# df <- read_csv(\n",
    "#         url, col_names, col_types = cols()\n",
    "#     ) %>% \n",
    "#     select(-id) %>% \n",
    "#     mutate(y = ifelse(diagnosis == \"M\", 1, 0)) %>%\n",
    "#     select(-diagnosis)\n",
    "\n",
    "\n",
    "# df %>% head"
   ]
  },
  {
   "attachments": {},
   "cell_type": "markdown",
   "id": "3f5cbbe6-ea0c-4071-9527-b6555d565d9d",
   "metadata": {},
   "source": [
    "### Train/Test Split"
   ]
  },
  {
   "cell_type": "code",
   "execution_count": 6,
   "id": "0017b3a4-c40f-40bc-b811-6a92f2633d6c",
   "metadata": {
    "tags": [],
    "vscode": {
     "languageId": "r"
    }
   },
   "outputs": [],
   "source": [
    "k <- 5\n",
    "\n",
    "test_ind <- sample(\n",
    "    1:nrow(df), \n",
    "    floor(nrow(df) / k),\n",
    "    replace=FALSE\n",
    ")"
   ]
  },
  {
   "cell_type": "code",
   "execution_count": 7,
   "id": "47817320-3901-4d9b-9812-a1c6353fe26a",
   "metadata": {
    "tags": [],
    "vscode": {
     "languageId": "r"
    }
   },
   "outputs": [
    {
     "data": {
      "text/html": [
       "TRUE"
      ],
      "text/latex": [
       "TRUE"
      ],
      "text/markdown": [
       "TRUE"
      ],
      "text/plain": [
       "[1] TRUE"
      ]
     },
     "metadata": {},
     "output_type": "display_data"
    }
   ],
   "source": [
    "df_train <- df[-test_ind, ]\n",
    "df_test  <- df[test_ind, ]\n",
    "\n",
    "nrow(df_train) + nrow(df_test) == nrow(df)"
   ]
  },
  {
   "attachments": {},
   "cell_type": "markdown",
   "id": "761a47d2-3694-4b2b-830d-be22bd4a501b",
   "metadata": {},
   "source": [
    "### Benchmark with Logistic Regression"
   ]
  },
  {
   "cell_type": "code",
   "execution_count": 8,
   "id": "42fe55ad-647a-49f4-93de-d87ea7ff7cad",
   "metadata": {
    "tags": [],
    "vscode": {
     "languageId": "r"
    }
   },
   "outputs": [
    {
     "data": {
      "text/plain": [
       "         \n",
       "glm_preds   0   1\n",
       "        0 103  24\n",
       "        1  14  36"
      ]
     },
     "metadata": {},
     "output_type": "display_data"
    }
   ],
   "source": [
    "fit_glm <- glm(\n",
    "    y ~ ., \n",
    "    df_train %>% mutate_at(\"y\", factor), \n",
    "    family = binomial()\n",
    ")\n",
    "\n",
    "glm_test <- predict(\n",
    "    fit_glm, \n",
    "    df_test,\n",
    "    output = \"response\"\n",
    ")\n",
    "\n",
    "glm_preds <- ifelse(glm_test > 0.5, 1, 0)\n",
    "table(glm_preds, df_test$y)"
   ]
  },
  {
   "attachments": {},
   "cell_type": "markdown",
   "id": "5fc08e27-54b7-4763-b388-fbaf0b5396f1",
   "metadata": {},
   "source": [
    "### Neural Net Model"
   ]
  },
  {
   "cell_type": "code",
   "execution_count": 9,
   "id": "5aaac2c1-e98c-4ede-8ebd-c777d51e58a3",
   "metadata": {
    "tags": [],
    "vscode": {
     "languageId": "r"
    }
   },
   "outputs": [],
   "source": [
    "NNet <- nn_module(\n",
    "  initialize = function(p, q1, q2, q3) {  \n",
    "    self$hidden1 <- nn_linear(p, q1)\n",
    "    self$hidden2 <- nn_linear(q1, q2)\n",
    "    self$hidden3 <- nn_linear(q2, q3)\n",
    "    self$output <- nn_linear(q3, 1)\n",
    "    self$activation <- nn_relu()\n",
    "    self$sigmoid <- nn_sigmoid()\n",
    "  },\n",
    "    \n",
    "  forward = function(x) {\n",
    "    x %>% \n",
    "      self$hidden1() %>% self$activation() %>% \n",
    "      self$hidden2() %>% self$activation() %>% \n",
    "      self$hidden3() %>% self$activation() %>% \n",
    "      self$output() %>% self$sigmoid()\n",
    "  }\n",
    ")"
   ]
  },
  {
   "attachments": {},
   "cell_type": "markdown",
   "id": "97e0f9bb-35c7-43fd-91f8-ae80c6c5dc92",
   "metadata": {},
   "source": [
    "### Fit using Luz"
   ]
  },
  {
   "cell_type": "code",
   "execution_count": 10,
   "id": "90129a4b-e587-43e3-8dd3-3a0c6694c609",
   "metadata": {
    "tags": [],
    "vscode": {
     "languageId": "r"
    }
   },
   "outputs": [],
   "source": [
    "M <- model.matrix(y ~ 0 + ., data = df_train)"
   ]
  },
  {
   "cell_type": "code",
   "execution_count": 25,
   "id": "ddd5d752-e740-4670-890c-e8795fe6f453",
   "metadata": {
    "tags": [],
    "vscode": {
     "languageId": "r"
    }
   },
   "outputs": [
    {
     "name": "stderr",
     "output_type": "stream",
     "text": [
      "Epoch 1/50\n",
      "Train metrics: Loss: 0.9301 - Acc: 12.6\n",
      "Valid metrics: Loss: 0.6699 - Acc: 10.339\n",
      "Epoch 2/50\n",
      "Train metrics: Loss: 0.6201 - Acc: 12.6366\n",
      "Valid metrics: Loss: 0.5808 - Acc: 10.339\n",
      "Epoch 3/50\n",
      "Train metrics: Loss: 0.6084 - Acc: 12.6\n",
      "Valid metrics: Loss: 0.5833 - Acc: 10.339\n",
      "Epoch 4/50\n",
      "Train metrics: Loss: 0.5848 - Acc: 12.6366\n",
      "Valid metrics: Loss: 0.578 - Acc: 10.339\n",
      "Epoch 5/50\n",
      "Train metrics: Loss: 0.592 - Acc: 12.6\n",
      "Valid metrics: Loss: 0.5696 - Acc: 10.339\n",
      "Epoch 6/50\n",
      "Train metrics: Loss: 0.5715 - Acc: 12.7099\n",
      "Valid metrics: Loss: 0.5781 - Acc: 10.339\n",
      "Epoch 7/50\n",
      "Train metrics: Loss: 0.5766 - Acc: 12.6\n",
      "Valid metrics: Loss: 0.5332 - Acc: 10.339\n",
      "Epoch 8/50\n",
      "Train metrics: Loss: 0.5695 - Acc: 12.6\n",
      "Valid metrics: Loss: 0.531 - Acc: 10.339\n",
      "Epoch 9/50\n",
      "Train metrics: Loss: 0.5543 - Acc: 12.6\n",
      "Valid metrics: Loss: 0.6284 - Acc: 10.339\n",
      "Epoch 10/50\n",
      "Train metrics: Loss: 0.5257 - Acc: 12.6366\n",
      "Valid metrics: Loss: 0.5255 - Acc: 10.339\n",
      "Epoch 11/50\n",
      "Train metrics: Loss: 0.5313 - Acc: 12.6\n",
      "Valid metrics: Loss: 0.5007 - Acc: 10.339\n",
      "Epoch 12/50\n",
      "Train metrics: Loss: 0.5224 - Acc: 12.6366\n",
      "Valid metrics: Loss: 0.5122 - Acc: 10.339\n",
      "Epoch 13/50\n",
      "Train metrics: Loss: 0.5115 - Acc: 12.5634\n",
      "Valid metrics: Loss: 0.5639 - Acc: 10.339\n",
      "Epoch 14/50\n",
      "Train metrics: Loss: 0.5047 - Acc: 12.6732\n",
      "Valid metrics: Loss: 0.52 - Acc: 10.339\n",
      "Epoch 15/50\n",
      "Train metrics: Loss: 0.5088 - Acc: 12.5634\n",
      "Valid metrics: Loss: 0.6148 - Acc: 10.339\n",
      "Epoch 16/50\n",
      "Train metrics: Loss: 0.5095 - Acc: 12.6366\n",
      "Valid metrics: Loss: 0.4786 - Acc: 10.339\n",
      "Epoch 17/50\n",
      "Train metrics: Loss: 0.4702 - Acc: 12.6366\n",
      "Valid metrics: Loss: 0.4606 - Acc: 10.339\n",
      "Epoch 18/50\n",
      "Train metrics: Loss: 0.4676 - Acc: 12.5634\n",
      "Valid metrics: Loss: 0.5627 - Acc: 10.339\n",
      "Epoch 19/50\n",
      "Train metrics: Loss: 0.4798 - Acc: 12.6366\n",
      "Valid metrics: Loss: 0.4519 - Acc: 10.339\n",
      "Epoch 20/50\n",
      "Train metrics: Loss: 0.4872 - Acc: 12.6366\n",
      "Valid metrics: Loss: 0.4876 - Acc: 10.339\n",
      "Epoch 21/50\n",
      "Train metrics: Loss: 0.4599 - Acc: 12.6366\n",
      "Valid metrics: Loss: 0.4674 - Acc: 10.339\n",
      "Epoch 22/50\n",
      "Train metrics: Loss: 0.476 - Acc: 12.7099\n",
      "Valid metrics: Loss: 0.5935 - Acc: 10.339\n",
      "Epoch 23/50\n",
      "Train metrics: Loss: 0.4833 - Acc: 12.6\n",
      "Valid metrics: Loss: 0.4964 - Acc: 10.339\n",
      "Epoch 24/50\n",
      "Train metrics: Loss: 0.4513 - Acc: 12.6\n",
      "Valid metrics: Loss: 0.4805 - Acc: 10.339\n",
      "Epoch 25/50\n",
      "Train metrics: Loss: 0.4541 - Acc: 12.6732\n",
      "Valid metrics: Loss: 0.5607 - Acc: 10.339\n",
      "Epoch 26/50\n",
      "Train metrics: Loss: 0.4446 - Acc: 12.6732\n",
      "Valid metrics: Loss: 0.4389 - Acc: 10.339\n",
      "Epoch 27/50\n",
      "Train metrics: Loss: 0.4382 - Acc: 12.6732\n",
      "Valid metrics: Loss: 0.4491 - Acc: 10.339\n",
      "Epoch 28/50\n",
      "Train metrics: Loss: 0.443 - Acc: 12.6\n",
      "Valid metrics: Loss: 0.4677 - Acc: 10.339\n",
      "Epoch 29/50\n",
      "Train metrics: Loss: 0.4454 - Acc: 12.5634\n",
      "Valid metrics: Loss: 0.4621 - Acc: 10.339\n",
      "Epoch 30/50\n",
      "Train metrics: Loss: 0.4513 - Acc: 12.6366\n",
      "Valid metrics: Loss: 0.4353 - Acc: 10.339\n",
      "Epoch 31/50\n",
      "Train metrics: Loss: 0.4284 - Acc: 12.6732\n",
      "Valid metrics: Loss: 0.4347 - Acc: 10.339\n",
      "Epoch 32/50\n",
      "Train metrics: Loss: 0.4396 - Acc: 12.6\n",
      "Valid metrics: Loss: 0.4673 - Acc: 10.339\n",
      "Epoch 33/50\n",
      "Train metrics: Loss: 0.4585 - Acc: 12.5634\n",
      "Valid metrics: Loss: 0.4626 - Acc: 10.339\n",
      "Epoch 34/50\n",
      "Train metrics: Loss: 0.4243 - Acc: 12.6\n",
      "Valid metrics: Loss: 0.4342 - Acc: 10.339\n",
      "Epoch 35/50\n",
      "Train metrics: Loss: 0.4142 - Acc: 12.6366\n",
      "Valid metrics: Loss: 0.4371 - Acc: 10.339\n",
      "Epoch 36/50\n",
      "Train metrics: Loss: 0.4472 - Acc: 12.5634\n",
      "Valid metrics: Loss: 0.4723 - Acc: 10.339\n",
      "Epoch 37/50\n",
      "Train metrics: Loss: 0.4366 - Acc: 12.6366\n",
      "Valid metrics: Loss: 0.5436 - Acc: 10.339\n",
      "Epoch 38/50\n",
      "Train metrics: Loss: 0.4345 - Acc: 12.5634\n",
      "Valid metrics: Loss: 0.4367 - Acc: 10.339\n",
      "Epoch 39/50\n",
      "Train metrics: Loss: 0.4156 - Acc: 12.5634\n",
      "Valid metrics: Loss: 0.4735 - Acc: 10.339\n",
      "Epoch 40/50\n",
      "Train metrics: Loss: 0.4226 - Acc: 12.6\n",
      "Valid metrics: Loss: 0.4581 - Acc: 10.339\n",
      "Epoch 41/50\n",
      "Train metrics: Loss: 0.4233 - Acc: 12.6366\n",
      "Valid metrics: Loss: 0.4495 - Acc: 10.339\n",
      "Epoch 42/50\n",
      "Train metrics: Loss: 0.4069 - Acc: 12.6\n",
      "Valid metrics: Loss: 0.4655 - Acc: 10.339\n",
      "Epoch 43/50\n",
      "Train metrics: Loss: 0.422 - Acc: 12.6\n",
      "Valid metrics: Loss: 0.4516 - Acc: 10.339\n",
      "Epoch 44/50\n",
      "Train metrics: Loss: 0.4525 - Acc: 12.6366\n",
      "Valid metrics: Loss: 0.4576 - Acc: 10.339\n",
      "Epoch 45/50\n",
      "Train metrics: Loss: 0.4245 - Acc: 12.7099\n",
      "Valid metrics: Loss: 0.5279 - Acc: 10.339\n",
      "Epoch 46/50\n",
      "Train metrics: Loss: 0.4213 - Acc: 12.6\n",
      "Valid metrics: Loss: 0.4492 - Acc: 10.339\n",
      "Epoch 47/50\n",
      "Train metrics: Loss: 0.4106 - Acc: 12.7099\n",
      "Valid metrics: Loss: 0.6979 - Acc: 10.339\n",
      "Epoch 48/50\n",
      "Train metrics: Loss: 0.4193 - Acc: 12.6366\n",
      "Valid metrics: Loss: 0.4718 - Acc: 10.339\n",
      "Epoch 49/50\n",
      "Train metrics: Loss: 0.4244 - Acc: 12.5634\n",
      "Valid metrics: Loss: 0.444 - Acc: 10.339\n",
      "Epoch 50/50\n",
      "Train metrics: Loss: 0.4185 - Acc: 12.6366\n",
      "Valid metrics: Loss: 0.4527 - Acc: 10.339\n"
     ]
    }
   ],
   "source": [
    "fit_nn <- NNet %>%\n",
    "    #\n",
    "    # Setup the model\n",
    "    #\n",
    "    setup(\n",
    "        loss = nn_bce_loss(),\n",
    "        optimizer = optim_adagrad, \n",
    "        metrics = list(\n",
    "            luz_metric_accuracy()\n",
    "        )\n",
    "    ) %>% \n",
    "    #\n",
    "    # Set the hyperparameters\n",
    "    #\n",
    "    set_hparams(p=ncol(M), q1=256, q2=128, q3=64) %>% \n",
    "    set_opt_hparams(lr=1e-2) %>% \n",
    "    #\n",
    "    # Fit the model\n",
    "    #\n",
    "    fit(\n",
    "        data = list(\n",
    "            model.matrix(y ~ 0 + ., data = df_train),\n",
    "            df_train %>% select(y) %>% as.matrix\n",
    "        ),\n",
    "        valid_data = list(\n",
    "            model.matrix(y ~ 0 + ., data = df_test),\n",
    "            df_test %>% select(y) %>% as.matrix\n",
    "        ),\n",
    "        epochs = 50, \n",
    "        verbose = TRUE\n",
    "    )"
   ]
  },
  {
   "cell_type": "code",
   "execution_count": 26,
   "id": "49081481-d781-426b-a123-3067539b57cd",
   "metadata": {
    "tags": [],
    "vscode": {
     "languageId": "r"
    }
   },
   "outputs": [
    {
     "data": {
      "image/png": "[encoded data removed]",
      "text/plain": [
       "plot without title"
      ]
     },
     "metadata": {
      "image/png": {
       "height": 420,
       "width": 420
      }
     },
     "output_type": "display_data"
    }
   ],
   "source": [
    "plot(fit_nn)"
   ]
  },
  {
   "cell_type": "code",
   "execution_count": 27,
   "id": "842aaf61-7ea7-417c-b09f-5362f4b3a571",
   "metadata": {
    "tags": [],
    "vscode": {
     "languageId": "r"
    }
   },
   "outputs": [
    {
     "data": {
      "text/plain": [
       "        \n",
       "nn_preds   0   1\n",
       "       0 103  21\n",
       "       1  14  39"
      ]
     },
     "metadata": {},
     "output_type": "display_data"
    },
    {
     "data": {
      "text/html": [
       "0.80225988700565"
      ],
      "text/latex": [
       "0.80225988700565"
      ],
      "text/markdown": [
       "0.80225988700565"
      ],
      "text/plain": [
       "[1] 0.8022599"
      ]
     },
     "metadata": {},
     "output_type": "display_data"
    }
   ],
   "source": [
    "nn_test <- predict(\n",
    "    fit_nn, \n",
    "    model.matrix(y ~ . - 1, data = df_test)\n",
    ")\n",
    "# nn_test\n",
    "nn_preds <- ifelse(nn_test > 0.5, 1, 0)\n",
    "\n",
    "table(nn_preds, df_test$y)\n",
    "mean(nn_preds == df_test$y)"
   ]
  },
  {
   "cell_type": "code",
   "execution_count": 28,
   "id": "1432d789",
   "metadata": {
    "vscode": {
     "languageId": "r"
    }
   },
   "outputs": [
    {
     "data": {
      "text/plain": [
       "         \n",
       "glm_preds   0   1\n",
       "        0 103  24\n",
       "        1  14  36"
      ]
     },
     "metadata": {},
     "output_type": "display_data"
    },
    {
     "data": {
      "text/html": [
       "0.785310734463277"
      ],
      "text/latex": [
       "0.785310734463277"
      ],
      "text/markdown": [
       "0.785310734463277"
      ],
      "text/plain": [
       "[1] 0.7853107"
      ]
     },
     "metadata": {},
     "output_type": "display_data"
    }
   ],
   "source": [
    "table(glm_preds, df_test$y)\n",
    "mean(glm_preds == df_test$y)"
   ]
  },
  {
   "attachments": {},
   "cell_type": "markdown",
   "id": "d1bf68ab-aaac-449d-a591-27c5125a0ba8",
   "metadata": {
    "tags": []
   },
   "source": [
    "<br><br><br><br>\n",
    "\n",
    "---\n",
    "\n",
    "### DataLoaders\n",
    "\n",
    "* Dataloaders are a key component in the machine learning pipeline.\n",
    "\n",
    "* They handle loading and preprocessing data in a way that is efficient for training and evaluating models.\n",
    "\n",
    "* Dataloaders make it easy to work with large datasets by loading the data in smaller chunks (called **batches**) and applying transformations _on-the-fly_.\n",
    "\n",
    "\n",
    "##### Why use Dataloaders?\n",
    "\n",
    "> * **Efficient memory management:** loading data in smaller chunks reduces memory usage.\n",
    ">\n",
    "> * **Parallelism:**  supports asynchronous data loading for faster processing.\n",
    ">\n",
    "> * **Preprocessing:**  apply data transformations on-the-fly during training and evaluation.\n",
    ">\n",
    "> * **Flexibility:**  easily switch between different datasets or preprocessing steps.\n",
    ">\n",
    "> * **Standardization:**  consistent data format across various machine learning projects.\n",
    ">"
   ]
  },
  {
   "cell_type": "code",
   "execution_count": 85,
   "id": "dafa657c-e10a-40b1-bc2c-6e92024b716d",
   "metadata": {
    "tags": [],
    "vscode": {
     "languageId": "r"
    }
   },
   "outputs": [],
   "source": [
    "# ?dataloader"
   ]
  },
  {
   "cell_type": "code",
   "execution_count": 29,
   "id": "93a5ec2c-7024-4df8-8494-f3cb3c71e92c",
   "metadata": {
    "tags": [],
    "vscode": {
     "languageId": "r"
    }
   },
   "outputs": [],
   "source": [
    "transform <- function(x) x %>% \n",
    "    torch_tensor() %>% \n",
    "    torch_flatten() %>% \n",
    "    torch_div(255)"
   ]
  },
  {
   "cell_type": "code",
   "execution_count": 30,
   "id": "7571d567-5a99-4639-b4a6-0d3a6427f909",
   "metadata": {
    "tags": [],
    "vscode": {
     "languageId": "r"
    }
   },
   "outputs": [],
   "source": [
    "dir <- \"./mnist\"\n",
    "\n",
    "train_ds <- mnist_dataset(\n",
    "  dir,\n",
    "  download = TRUE,\n",
    "  transform = transform\n",
    ")\n",
    "\n",
    "test_ds <- mnist_dataset(\n",
    "  dir,\n",
    "  download = TRUE,\n",
    "  train = FALSE,\n",
    "  transform = transform\n",
    ")"
   ]
  },
  {
   "cell_type": "code",
   "execution_count": 31,
   "id": "43b4d04e-6a27-493f-b3f5-63d52d1fdcf2",
   "metadata": {
    "tags": [],
    "vscode": {
     "languageId": "r"
    }
   },
   "outputs": [
    {
     "data": {
      "text/html": [
       "'environment'"
      ],
      "text/latex": [
       "'environment'"
      ],
      "text/markdown": [
       "'environment'"
      ],
      "text/plain": [
       "[1] \"environment\""
      ]
     },
     "metadata": {},
     "output_type": "display_data"
    },
    {
     "data": {
      "text/html": [
       "60000"
      ],
      "text/latex": [
       "60000"
      ],
      "text/markdown": [
       "60000"
      ],
      "text/plain": [
       "[1] 60000"
      ]
     },
     "metadata": {},
     "output_type": "display_data"
    },
    {
     "data": {
      "text/html": [
       "<table class=\"dataframe\">\n",
       "<caption>A matrix: 28 × 28 of type int</caption>\n",
       "<tbody>\n",
       "\t<tr><td>0</td><td>0</td><td>0</td><td>0</td><td>0</td><td>  0</td><td>  0</td><td>  0</td><td>  0</td><td>  0</td><td>⋯</td><td>  0</td><td>  0</td><td>  0</td><td>  0</td><td>  0</td><td>  0</td><td>  0</td><td>0</td><td>0</td><td>0</td></tr>\n",
       "\t<tr><td>0</td><td>0</td><td>0</td><td>0</td><td>0</td><td>  0</td><td>  0</td><td>  0</td><td>  0</td><td>  0</td><td>⋯</td><td>  0</td><td>  0</td><td>  0</td><td>  0</td><td>  0</td><td>  0</td><td>  0</td><td>0</td><td>0</td><td>0</td></tr>\n",
       "\t<tr><td>0</td><td>0</td><td>0</td><td>0</td><td>0</td><td>  0</td><td>  0</td><td>  0</td><td>  0</td><td>  0</td><td>⋯</td><td>  0</td><td>  0</td><td>  0</td><td>  0</td><td>  0</td><td>  0</td><td>  0</td><td>0</td><td>0</td><td>0</td></tr>\n",
       "\t<tr><td>0</td><td>0</td><td>0</td><td>0</td><td>0</td><td>  0</td><td>  0</td><td>  0</td><td>  0</td><td>  0</td><td>⋯</td><td>  0</td><td>  0</td><td>  0</td><td>  0</td><td>  0</td><td>  0</td><td>  0</td><td>0</td><td>0</td><td>0</td></tr>\n",
       "\t<tr><td>0</td><td>0</td><td>0</td><td>0</td><td>0</td><td>  0</td><td>  0</td><td>  0</td><td>  0</td><td>  0</td><td>⋯</td><td>  0</td><td>  0</td><td>  0</td><td>  0</td><td>  0</td><td>  0</td><td>  0</td><td>0</td><td>0</td><td>0</td></tr>\n",
       "\t<tr><td>0</td><td>0</td><td>0</td><td>0</td><td>0</td><td>  0</td><td>  0</td><td>  0</td><td>  0</td><td>  0</td><td>⋯</td><td>  0</td><td>  0</td><td> 42</td><td>218</td><td>134</td><td>186</td><td>  0</td><td>0</td><td>0</td><td>0</td></tr>\n",
       "\t<tr><td>0</td><td>0</td><td>0</td><td>0</td><td>0</td><td>  0</td><td>  0</td><td>  0</td><td>  0</td><td>  0</td><td>⋯</td><td>  0</td><td> 27</td><td>221</td><td>253</td><td>252</td><td>221</td><td> 16</td><td>0</td><td>0</td><td>0</td></tr>\n",
       "\t<tr><td>0</td><td>0</td><td>0</td><td>0</td><td>0</td><td>  0</td><td>  0</td><td>  0</td><td>  0</td><td>  0</td><td>⋯</td><td>  0</td><td> 16</td><td>190</td><td>253</td><td>252</td><td>252</td><td>108</td><td>0</td><td>0</td><td>0</td></tr>\n",
       "\t<tr><td>0</td><td>0</td><td>0</td><td>0</td><td>0</td><td>  0</td><td>  0</td><td>  0</td><td>  1</td><td>109</td><td>⋯</td><td>  0</td><td>  0</td><td>  0</td><td>109</td><td>252</td><td>236</td><td> 62</td><td>0</td><td>0</td><td>0</td></tr>\n",
       "\t<tr><td>0</td><td>0</td><td>0</td><td>0</td><td>0</td><td>  0</td><td>  0</td><td>  0</td><td>125</td><td>252</td><td>⋯</td><td>  0</td><td>  0</td><td>  0</td><td>109</td><td>252</td><td>215</td><td> 42</td><td>0</td><td>0</td><td>0</td></tr>\n",
       "\t<tr><td>0</td><td>0</td><td>0</td><td>0</td><td>0</td><td>  0</td><td>  0</td><td>  0</td><td> 62</td><td>189</td><td>⋯</td><td>  0</td><td>  0</td><td> 21</td><td>212</td><td>252</td><td>241</td><td>221</td><td>0</td><td>0</td><td>0</td></tr>\n",
       "\t<tr><td>0</td><td>0</td><td>0</td><td>0</td><td>0</td><td>  0</td><td>  0</td><td> 21</td><td>206</td><td>252</td><td>⋯</td><td>  0</td><td> 21</td><td>206</td><td>253</td><td>252</td><td>252</td><td>252</td><td>0</td><td>0</td><td>0</td></tr>\n",
       "\t<tr><td>0</td><td>0</td><td>0</td><td>0</td><td>0</td><td>  0</td><td> 73</td><td>253</td><td>253</td><td>253</td><td>⋯</td><td> 32</td><td>212</td><td>253</td><td>255</td><td>253</td><td>253</td><td>108</td><td>0</td><td>0</td><td>0</td></tr>\n",
       "\t<tr><td>0</td><td>0</td><td>0</td><td>0</td><td>0</td><td>  0</td><td>115</td><td>252</td><td>252</td><td>252</td><td>⋯</td><td>115</td><td>252</td><td>252</td><td>253</td><td>252</td><td>220</td><td> 15</td><td>0</td><td>0</td><td>0</td></tr>\n",
       "\t<tr><td>0</td><td>0</td><td>0</td><td>0</td><td>0</td><td>  0</td><td>217</td><td>252</td><td>252</td><td>252</td><td>⋯</td><td>242</td><td>252</td><td>252</td><td>253</td><td>252</td><td>112</td><td>  0</td><td>0</td><td>0</td><td>0</td></tr>\n",
       "\t<tr><td>0</td><td>0</td><td>0</td><td>0</td><td>0</td><td>  0</td><td>217</td><td>252</td><td>252</td><td>252</td><td>⋯</td><td>252</td><td>252</td><td>252</td><td>253</td><td>128</td><td> 31</td><td>  0</td><td>0</td><td>0</td><td>0</td></tr>\n",
       "\t<tr><td>0</td><td>0</td><td>0</td><td>0</td><td>0</td><td>110</td><td>233</td><td>253</td><td>253</td><td>144</td><td>⋯</td><td>253</td><td>253</td><td>253</td><td>208</td><td> 20</td><td>  0</td><td>  0</td><td>0</td><td>0</td><td>0</td></tr>\n",
       "\t<tr><td>0</td><td>0</td><td>0</td><td>0</td><td>0</td><td>253</td><td>252</td><td>252</td><td>252</td><td>237</td><td>⋯</td><td>252</td><td>252</td><td>210</td><td> 20</td><td>  0</td><td>  0</td><td>  0</td><td>0</td><td>0</td><td>0</td></tr>\n",
       "\t<tr><td>0</td><td>0</td><td>0</td><td>0</td><td>0</td><td>253</td><td>252</td><td>252</td><td>252</td><td>252</td><td>⋯</td><td>215</td><td>112</td><td> 31</td><td>  0</td><td>  0</td><td>  0</td><td>  0</td><td>0</td><td>0</td><td>0</td></tr>\n",
       "\t<tr><td>0</td><td>0</td><td>0</td><td>0</td><td>0</td><td>170</td><td>252</td><td>252</td><td>252</td><td>252</td><td>⋯</td><td>  0</td><td>  0</td><td>  0</td><td>  0</td><td>  0</td><td>  0</td><td>  0</td><td>0</td><td>0</td><td>0</td></tr>\n",
       "\t<tr><td>0</td><td>0</td><td>0</td><td>0</td><td>0</td><td>  0</td><td>218</td><td>253</td><td>253</td><td>253</td><td>⋯</td><td>  0</td><td>  0</td><td>  0</td><td>  0</td><td>  0</td><td>  0</td><td>  0</td><td>0</td><td>0</td><td>0</td></tr>\n",
       "\t<tr><td>0</td><td>0</td><td>0</td><td>0</td><td>0</td><td>  0</td><td> 72</td><td>231</td><td>252</td><td>252</td><td>⋯</td><td>  0</td><td>  0</td><td>  0</td><td>  0</td><td>  0</td><td>  0</td><td>  0</td><td>0</td><td>0</td><td>0</td></tr>\n",
       "\t<tr><td>0</td><td>0</td><td>0</td><td>0</td><td>0</td><td>  0</td><td>  0</td><td> 52</td><td> 71</td><td> 71</td><td>⋯</td><td>  0</td><td>  0</td><td>  0</td><td>  0</td><td>  0</td><td>  0</td><td>  0</td><td>0</td><td>0</td><td>0</td></tr>\n",
       "\t<tr><td>0</td><td>0</td><td>0</td><td>0</td><td>0</td><td>  0</td><td>  0</td><td>  0</td><td>  0</td><td>  0</td><td>⋯</td><td>  0</td><td>  0</td><td>  0</td><td>  0</td><td>  0</td><td>  0</td><td>  0</td><td>0</td><td>0</td><td>0</td></tr>\n",
       "\t<tr><td>0</td><td>0</td><td>0</td><td>0</td><td>0</td><td>  0</td><td>  0</td><td>  0</td><td>  0</td><td>  0</td><td>⋯</td><td>  0</td><td>  0</td><td>  0</td><td>  0</td><td>  0</td><td>  0</td><td>  0</td><td>0</td><td>0</td><td>0</td></tr>\n",
       "\t<tr><td>0</td><td>0</td><td>0</td><td>0</td><td>0</td><td>  0</td><td>  0</td><td>  0</td><td>  0</td><td>  0</td><td>⋯</td><td>  0</td><td>  0</td><td>  0</td><td>  0</td><td>  0</td><td>  0</td><td>  0</td><td>0</td><td>0</td><td>0</td></tr>\n",
       "\t<tr><td>0</td><td>0</td><td>0</td><td>0</td><td>0</td><td>  0</td><td>  0</td><td>  0</td><td>  0</td><td>  0</td><td>⋯</td><td>  0</td><td>  0</td><td>  0</td><td>  0</td><td>  0</td><td>  0</td><td>  0</td><td>0</td><td>0</td><td>0</td></tr>\n",
       "\t<tr><td>0</td><td>0</td><td>0</td><td>0</td><td>0</td><td>  0</td><td>  0</td><td>  0</td><td>  0</td><td>  0</td><td>⋯</td><td>  0</td><td>  0</td><td>  0</td><td>  0</td><td>  0</td><td>  0</td><td>  0</td><td>0</td><td>0</td><td>0</td></tr>\n",
       "</tbody>\n",
       "</table>\n"
      ],
      "text/latex": [
       "A matrix: 28 × 28 of type int\n",
       "\\begin{tabular}{lllllllllllllllllllll}\n",
       "\t 0 & 0 & 0 & 0 & 0 &   0 &   0 &   0 &   0 &   0 & ⋯ &   0 &   0 &   0 &   0 &   0 &   0 &   0 & 0 & 0 & 0\\\\\n",
       "\t 0 & 0 & 0 & 0 & 0 &   0 &   0 &   0 &   0 &   0 & ⋯ &   0 &   0 &   0 &   0 &   0 &   0 &   0 & 0 & 0 & 0\\\\\n",
       "\t 0 & 0 & 0 & 0 & 0 &   0 &   0 &   0 &   0 &   0 & ⋯ &   0 &   0 &   0 &   0 &   0 &   0 &   0 & 0 & 0 & 0\\\\\n",
       "\t 0 & 0 & 0 & 0 & 0 &   0 &   0 &   0 &   0 &   0 & ⋯ &   0 &   0 &   0 &   0 &   0 &   0 &   0 & 0 & 0 & 0\\\\\n",
       "\t 0 & 0 & 0 & 0 & 0 &   0 &   0 &   0 &   0 &   0 & ⋯ &   0 &   0 &   0 &   0 &   0 &   0 &   0 & 0 & 0 & 0\\\\\n",
       "\t 0 & 0 & 0 & 0 & 0 &   0 &   0 &   0 &   0 &   0 & ⋯ &   0 &   0 &  42 & 218 & 134 & 186 &   0 & 0 & 0 & 0\\\\\n",
       "\t 0 & 0 & 0 & 0 & 0 &   0 &   0 &   0 &   0 &   0 & ⋯ &   0 &  27 & 221 & 253 & 252 & 221 &  16 & 0 & 0 & 0\\\\\n",
       "\t 0 & 0 & 0 & 0 & 0 &   0 &   0 &   0 &   0 &   0 & ⋯ &   0 &  16 & 190 & 253 & 252 & 252 & 108 & 0 & 0 & 0\\\\\n",
       "\t 0 & 0 & 0 & 0 & 0 &   0 &   0 &   0 &   1 & 109 & ⋯ &   0 &   0 &   0 & 109 & 252 & 236 &  62 & 0 & 0 & 0\\\\\n",
       "\t 0 & 0 & 0 & 0 & 0 &   0 &   0 &   0 & 125 & 252 & ⋯ &   0 &   0 &   0 & 109 & 252 & 215 &  42 & 0 & 0 & 0\\\\\n",
       "\t 0 & 0 & 0 & 0 & 0 &   0 &   0 &   0 &  62 & 189 & ⋯ &   0 &   0 &  21 & 212 & 252 & 241 & 221 & 0 & 0 & 0\\\\\n",
       "\t 0 & 0 & 0 & 0 & 0 &   0 &   0 &  21 & 206 & 252 & ⋯ &   0 &  21 & 206 & 253 & 252 & 252 & 252 & 0 & 0 & 0\\\\\n",
       "\t 0 & 0 & 0 & 0 & 0 &   0 &  73 & 253 & 253 & 253 & ⋯ &  32 & 212 & 253 & 255 & 253 & 253 & 108 & 0 & 0 & 0\\\\\n",
       "\t 0 & 0 & 0 & 0 & 0 &   0 & 115 & 252 & 252 & 252 & ⋯ & 115 & 252 & 252 & 253 & 252 & 220 &  15 & 0 & 0 & 0\\\\\n",
       "\t 0 & 0 & 0 & 0 & 0 &   0 & 217 & 252 & 252 & 252 & ⋯ & 242 & 252 & 252 & 253 & 252 & 112 &   0 & 0 & 0 & 0\\\\\n",
       "\t 0 & 0 & 0 & 0 & 0 &   0 & 217 & 252 & 252 & 252 & ⋯ & 252 & 252 & 252 & 253 & 128 &  31 &   0 & 0 & 0 & 0\\\\\n",
       "\t 0 & 0 & 0 & 0 & 0 & 110 & 233 & 253 & 253 & 144 & ⋯ & 253 & 253 & 253 & 208 &  20 &   0 &   0 & 0 & 0 & 0\\\\\n",
       "\t 0 & 0 & 0 & 0 & 0 & 253 & 252 & 252 & 252 & 237 & ⋯ & 252 & 252 & 210 &  20 &   0 &   0 &   0 & 0 & 0 & 0\\\\\n",
       "\t 0 & 0 & 0 & 0 & 0 & 253 & 252 & 252 & 252 & 252 & ⋯ & 215 & 112 &  31 &   0 &   0 &   0 &   0 & 0 & 0 & 0\\\\\n",
       "\t 0 & 0 & 0 & 0 & 0 & 170 & 252 & 252 & 252 & 252 & ⋯ &   0 &   0 &   0 &   0 &   0 &   0 &   0 & 0 & 0 & 0\\\\\n",
       "\t 0 & 0 & 0 & 0 & 0 &   0 & 218 & 253 & 253 & 253 & ⋯ &   0 &   0 &   0 &   0 &   0 &   0 &   0 & 0 & 0 & 0\\\\\n",
       "\t 0 & 0 & 0 & 0 & 0 &   0 &  72 & 231 & 252 & 252 & ⋯ &   0 &   0 &   0 &   0 &   0 &   0 &   0 & 0 & 0 & 0\\\\\n",
       "\t 0 & 0 & 0 & 0 & 0 &   0 &   0 &  52 &  71 &  71 & ⋯ &   0 &   0 &   0 &   0 &   0 &   0 &   0 & 0 & 0 & 0\\\\\n",
       "\t 0 & 0 & 0 & 0 & 0 &   0 &   0 &   0 &   0 &   0 & ⋯ &   0 &   0 &   0 &   0 &   0 &   0 &   0 & 0 & 0 & 0\\\\\n",
       "\t 0 & 0 & 0 & 0 & 0 &   0 &   0 &   0 &   0 &   0 & ⋯ &   0 &   0 &   0 &   0 &   0 &   0 &   0 & 0 & 0 & 0\\\\\n",
       "\t 0 & 0 & 0 & 0 & 0 &   0 &   0 &   0 &   0 &   0 & ⋯ &   0 &   0 &   0 &   0 &   0 &   0 &   0 & 0 & 0 & 0\\\\\n",
       "\t 0 & 0 & 0 & 0 & 0 &   0 &   0 &   0 &   0 &   0 & ⋯ &   0 &   0 &   0 &   0 &   0 &   0 &   0 & 0 & 0 & 0\\\\\n",
       "\t 0 & 0 & 0 & 0 & 0 &   0 &   0 &   0 &   0 &   0 & ⋯ &   0 &   0 &   0 &   0 &   0 &   0 &   0 & 0 & 0 & 0\\\\\n",
       "\\end{tabular}\n"
      ],
      "text/markdown": [
       "\n",
       "A matrix: 28 × 28 of type int\n",
       "\n",
       "| 0 | 0 | 0 | 0 | 0 |   0 |   0 |   0 |   0 |   0 | ⋯ |   0 |   0 |   0 |   0 |   0 |   0 |   0 | 0 | 0 | 0 |\n",
       "| 0 | 0 | 0 | 0 | 0 |   0 |   0 |   0 |   0 |   0 | ⋯ |   0 |   0 |   0 |   0 |   0 |   0 |   0 | 0 | 0 | 0 |\n",
       "| 0 | 0 | 0 | 0 | 0 |   0 |   0 |   0 |   0 |   0 | ⋯ |   0 |   0 |   0 |   0 |   0 |   0 |   0 | 0 | 0 | 0 |\n",
       "| 0 | 0 | 0 | 0 | 0 |   0 |   0 |   0 |   0 |   0 | ⋯ |   0 |   0 |   0 |   0 |   0 |   0 |   0 | 0 | 0 | 0 |\n",
       "| 0 | 0 | 0 | 0 | 0 |   0 |   0 |   0 |   0 |   0 | ⋯ |   0 |   0 |   0 |   0 |   0 |   0 |   0 | 0 | 0 | 0 |\n",
       "| 0 | 0 | 0 | 0 | 0 |   0 |   0 |   0 |   0 |   0 | ⋯ |   0 |   0 |  42 | 218 | 134 | 186 |   0 | 0 | 0 | 0 |\n",
       "| 0 | 0 | 0 | 0 | 0 |   0 |   0 |   0 |   0 |   0 | ⋯ |   0 |  27 | 221 | 253 | 252 | 221 |  16 | 0 | 0 | 0 |\n",
       "| 0 | 0 | 0 | 0 | 0 |   0 |   0 |   0 |   0 |   0 | ⋯ |   0 |  16 | 190 | 253 | 252 | 252 | 108 | 0 | 0 | 0 |\n",
       "| 0 | 0 | 0 | 0 | 0 |   0 |   0 |   0 |   1 | 109 | ⋯ |   0 |   0 |   0 | 109 | 252 | 236 |  62 | 0 | 0 | 0 |\n",
       "| 0 | 0 | 0 | 0 | 0 |   0 |   0 |   0 | 125 | 252 | ⋯ |   0 |   0 |   0 | 109 | 252 | 215 |  42 | 0 | 0 | 0 |\n",
       "| 0 | 0 | 0 | 0 | 0 |   0 |   0 |   0 |  62 | 189 | ⋯ |   0 |   0 |  21 | 212 | 252 | 241 | 221 | 0 | 0 | 0 |\n",
       "| 0 | 0 | 0 | 0 | 0 |   0 |   0 |  21 | 206 | 252 | ⋯ |   0 |  21 | 206 | 253 | 252 | 252 | 252 | 0 | 0 | 0 |\n",
       "| 0 | 0 | 0 | 0 | 0 |   0 |  73 | 253 | 253 | 253 | ⋯ |  32 | 212 | 253 | 255 | 253 | 253 | 108 | 0 | 0 | 0 |\n",
       "| 0 | 0 | 0 | 0 | 0 |   0 | 115 | 252 | 252 | 252 | ⋯ | 115 | 252 | 252 | 253 | 252 | 220 |  15 | 0 | 0 | 0 |\n",
       "| 0 | 0 | 0 | 0 | 0 |   0 | 217 | 252 | 252 | 252 | ⋯ | 242 | 252 | 252 | 253 | 252 | 112 |   0 | 0 | 0 | 0 |\n",
       "| 0 | 0 | 0 | 0 | 0 |   0 | 217 | 252 | 252 | 252 | ⋯ | 252 | 252 | 252 | 253 | 128 |  31 |   0 | 0 | 0 | 0 |\n",
       "| 0 | 0 | 0 | 0 | 0 | 110 | 233 | 253 | 253 | 144 | ⋯ | 253 | 253 | 253 | 208 |  20 |   0 |   0 | 0 | 0 | 0 |\n",
       "| 0 | 0 | 0 | 0 | 0 | 253 | 252 | 252 | 252 | 237 | ⋯ | 252 | 252 | 210 |  20 |   0 |   0 |   0 | 0 | 0 | 0 |\n",
       "| 0 | 0 | 0 | 0 | 0 | 253 | 252 | 252 | 252 | 252 | ⋯ | 215 | 112 |  31 |   0 |   0 |   0 |   0 | 0 | 0 | 0 |\n",
       "| 0 | 0 | 0 | 0 | 0 | 170 | 252 | 252 | 252 | 252 | ⋯ |   0 |   0 |   0 |   0 |   0 |   0 |   0 | 0 | 0 | 0 |\n",
       "| 0 | 0 | 0 | 0 | 0 |   0 | 218 | 253 | 253 | 253 | ⋯ |   0 |   0 |   0 |   0 |   0 |   0 |   0 | 0 | 0 | 0 |\n",
       "| 0 | 0 | 0 | 0 | 0 |   0 |  72 | 231 | 252 | 252 | ⋯ |   0 |   0 |   0 |   0 |   0 |   0 |   0 | 0 | 0 | 0 |\n",
       "| 0 | 0 | 0 | 0 | 0 |   0 |   0 |  52 |  71 |  71 | ⋯ |   0 |   0 |   0 |   0 |   0 |   0 |   0 | 0 | 0 | 0 |\n",
       "| 0 | 0 | 0 | 0 | 0 |   0 |   0 |   0 |   0 |   0 | ⋯ |   0 |   0 |   0 |   0 |   0 |   0 |   0 | 0 | 0 | 0 |\n",
       "| 0 | 0 | 0 | 0 | 0 |   0 |   0 |   0 |   0 |   0 | ⋯ |   0 |   0 |   0 |   0 |   0 |   0 |   0 | 0 | 0 | 0 |\n",
       "| 0 | 0 | 0 | 0 | 0 |   0 |   0 |   0 |   0 |   0 | ⋯ |   0 |   0 |   0 |   0 |   0 |   0 |   0 | 0 | 0 | 0 |\n",
       "| 0 | 0 | 0 | 0 | 0 |   0 |   0 |   0 |   0 |   0 | ⋯ |   0 |   0 |   0 |   0 |   0 |   0 |   0 | 0 | 0 | 0 |\n",
       "| 0 | 0 | 0 | 0 | 0 |   0 |   0 |   0 |   0 |   0 | ⋯ |   0 |   0 |   0 |   0 |   0 |   0 |   0 | 0 | 0 | 0 |\n",
       "\n"
      ],
      "text/plain": [
       "      [,1] [,2] [,3] [,4] [,5] [,6] [,7] [,8] [,9] [,10] [,11] [,12] [,13]\n",
       " [1,] 0    0    0    0    0      0    0    0    0    0   ⋯       0     0  \n",
       " [2,] 0    0    0    0    0      0    0    0    0    0   ⋯       0     0  \n",
       " [3,] 0    0    0    0    0      0    0    0    0    0   ⋯       0     0  \n",
       " [4,] 0    0    0    0    0      0    0    0    0    0   ⋯       0     0  \n",
       " [5,] 0    0    0    0    0      0    0    0    0    0   ⋯       0     0  \n",
       " [6,] 0    0    0    0    0      0    0    0    0    0   ⋯       0     0  \n",
       " [7,] 0    0    0    0    0      0    0    0    0    0   ⋯       0    27  \n",
       " [8,] 0    0    0    0    0      0    0    0    0    0   ⋯       0    16  \n",
       " [9,] 0    0    0    0    0      0    0    0    1  109   ⋯       0     0  \n",
       "[10,] 0    0    0    0    0      0    0    0  125  252   ⋯       0     0  \n",
       "[11,] 0    0    0    0    0      0    0    0   62  189   ⋯       0     0  \n",
       "[12,] 0    0    0    0    0      0    0   21  206  252   ⋯       0    21  \n",
       "[13,] 0    0    0    0    0      0   73  253  253  253   ⋯      32   212  \n",
       "[14,] 0    0    0    0    0      0  115  252  252  252   ⋯     115   252  \n",
       "[15,] 0    0    0    0    0      0  217  252  252  252   ⋯     242   252  \n",
       "[16,] 0    0    0    0    0      0  217  252  252  252   ⋯     252   252  \n",
       "[17,] 0    0    0    0    0    110  233  253  253  144   ⋯     253   253  \n",
       "[18,] 0    0    0    0    0    253  252  252  252  237   ⋯     252   252  \n",
       "[19,] 0    0    0    0    0    253  252  252  252  252   ⋯     215   112  \n",
       "[20,] 0    0    0    0    0    170  252  252  252  252   ⋯       0     0  \n",
       "[21,] 0    0    0    0    0      0  218  253  253  253   ⋯       0     0  \n",
       "[22,] 0    0    0    0    0      0   72  231  252  252   ⋯       0     0  \n",
       "[23,] 0    0    0    0    0      0    0   52   71   71   ⋯       0     0  \n",
       "[24,] 0    0    0    0    0      0    0    0    0    0   ⋯       0     0  \n",
       "[25,] 0    0    0    0    0      0    0    0    0    0   ⋯       0     0  \n",
       "[26,] 0    0    0    0    0      0    0    0    0    0   ⋯       0     0  \n",
       "[27,] 0    0    0    0    0      0    0    0    0    0   ⋯       0     0  \n",
       "[28,] 0    0    0    0    0      0    0    0    0    0   ⋯       0     0  \n",
       "      [,14] [,15] [,16] [,17] [,18] [,19] [,20] [,21]\n",
       " [1,]   0     0     0     0     0   0     0     0    \n",
       " [2,]   0     0     0     0     0   0     0     0    \n",
       " [3,]   0     0     0     0     0   0     0     0    \n",
       " [4,]   0     0     0     0     0   0     0     0    \n",
       " [5,]   0     0     0     0     0   0     0     0    \n",
       " [6,]  42   218   134   186     0   0     0     0    \n",
       " [7,] 221   253   252   221    16   0     0     0    \n",
       " [8,] 190   253   252   252   108   0     0     0    \n",
       " [9,]   0   109   252   236    62   0     0     0    \n",
       "[10,]   0   109   252   215    42   0     0     0    \n",
       "[11,]  21   212   252   241   221   0     0     0    \n",
       "[12,] 206   253   252   252   252   0     0     0    \n",
       "[13,] 253   255   253   253   108   0     0     0    \n",
       "[14,] 252   253   252   220    15   0     0     0    \n",
       "[15,] 252   253   252   112     0   0     0     0    \n",
       "[16,] 252   253   128    31     0   0     0     0    \n",
       "[17,] 253   208    20     0     0   0     0     0    \n",
       "[18,] 210    20     0     0     0   0     0     0    \n",
       "[19,]  31     0     0     0     0   0     0     0    \n",
       "[20,]   0     0     0     0     0   0     0     0    \n",
       "[21,]   0     0     0     0     0   0     0     0    \n",
       "[22,]   0     0     0     0     0   0     0     0    \n",
       "[23,]   0     0     0     0     0   0     0     0    \n",
       "[24,]   0     0     0     0     0   0     0     0    \n",
       "[25,]   0     0     0     0     0   0     0     0    \n",
       "[26,]   0     0     0     0     0   0     0     0    \n",
       "[27,]   0     0     0     0     0   0     0     0    \n",
       "[28,]   0     0     0     0     0   0     0     0    "
      ]
     },
     "metadata": {},
     "output_type": "display_data"
    }
   ],
   "source": [
    "typeof(train_ds)\n",
    "length(train_ds)\n",
    "train_ds$data[42000, ,]"
   ]
  },
  {
   "cell_type": "code",
   "execution_count": 63,
   "id": "d093b385-d14c-4ec1-bd12-f492910b1f03",
   "metadata": {
    "tags": [],
    "vscode": {
     "languageId": "r"
    }
   },
   "outputs": [
    {
     "data": {
      "image/png": "[encoded data removed]",
      "text/plain": [
       "Plot with title “4”"
      ]
     },
     "metadata": {
      "image/png": {
       "height": 600,
       "width": 600
      }
     },
     "output_type": "display_data"
    }
   ],
   "source": [
    "options(repr.plot.width=10, repr.plot.height=10)\n",
    "\n",
    "i <- sample(1:length(train_ds), 1)\n",
    "x <- train_ds$data[i, ,] %>% t\n",
    "\n",
    "image(x[1:28, 28:1], useRaster=TRUE, axes=FALSE, col=gray.colors(1000), main = train_ds$targets[i]-1 )"
   ]
  },
  {
   "cell_type": "code",
   "execution_count": 64,
   "id": "b5a5d53b-923a-4c7b-b6c9-e5cb7491c29f",
   "metadata": {
    "tags": [],
    "vscode": {
     "languageId": "r"
    }
   },
   "outputs": [
    {
     "data": {
      "image/png": "[encoded data removed]",
      "text/plain": [
       "Plot with title “9”"
      ]
     },
     "metadata": {
      "image/png": {
       "height": 600,
       "width": 600
      }
     },
     "output_type": "display_data"
    }
   ],
   "source": [
    "options(repr.plot.width = 10, repr.plot.height = 10)\n",
    "par(mfrow=c(3,3))\n",
    "\n",
    "for(iter in 1:9){\n",
    "    i <- sample(1:length(train_ds), 1)\n",
    "    x <- train_ds$data[i, ,] %>% t\n",
    "    image(x[1:28, 28:1], useRaster = TRUE, axes = FALSE, col = gray.colors(1000), main = train_ds$targets[i]-1)\n",
    "}"
   ]
  },
  {
   "attachments": {},
   "cell_type": "markdown",
   "id": "a675824c-263b-4d64-b40d-ccd49aed012d",
   "metadata": {},
   "source": [
    "<br><br><br><br>\n",
    "<br><br><br><br>\n"
   ]
  },
  {
   "attachments": {},
   "cell_type": "markdown",
   "id": "a113d801-8927-4b20-b4ca-bdb81329341b",
   "metadata": {},
   "source": [
    "---"
   ]
  },
  {
   "attachments": {},
   "cell_type": "markdown",
   "id": "928330ce-4fea-4c42-ba1f-cd541831a84b",
   "metadata": {},
   "source": [
    "# Image Classification"
   ]
  },
  {
   "cell_type": "code",
   "execution_count": 73,
   "id": "94a67d0f-e62a-4ce6-bdf0-8e36dec295f1",
   "metadata": {
    "tags": [],
    "vscode": {
     "languageId": "r"
    }
   },
   "outputs": [],
   "source": [
    "train_dl <- dataloader(train_ds, batch_size = 2000, shuffle = TRUE)\n",
    "test_dl <- dataloader(test_ds, batch_size = 2000)"
   ]
  },
  {
   "cell_type": "code",
   "execution_count": 74,
   "id": "fce5deee-0a61-4a7e-a175-8ae5e9a32d74",
   "metadata": {
    "tags": [],
    "vscode": {
     "languageId": "r"
    }
   },
   "outputs": [],
   "source": [
    "NNet_10 <- nn_module(\n",
    "  initialize = function(p, q1, q2, q3, o) {\n",
    "    self$hidden1 <- nn_linear(p, q1)\n",
    "    self$hidden2 <- nn_linear(q1, q2)\n",
    "    self$hidden3 <- nn_linear(q2, q3)\n",
    "    self$OUTPUT <- nn_linear(q3, o)\n",
    "    self$activation <- nn_relu()\n",
    "  },\n",
    "  forward = function(x) {\n",
    "    x %>%\n",
    "      self$hidden1() %>%\n",
    "      self$activation() %>%\n",
    "      self$hidden2() %>%\n",
    "      self$activation() %>%\n",
    "      self$hidden3() %>%\n",
    "      self$activation() %>%\n",
    "      self$OUTPUT()\n",
    "  }\n",
    ")"
   ]
  },
  {
   "cell_type": "code",
   "execution_count": 75,
   "id": "6bc7a75f-b617-4722-acfc-557b7c63ea78",
   "metadata": {
    "tags": [],
    "vscode": {
     "languageId": "r"
    }
   },
   "outputs": [
    {
     "name": "stderr",
     "output_type": "stream",
     "text": [
      "Epoch 1/10\n",
      "Train metrics: Loss: 1.474 - Acc: 0.649\n",
      "Epoch 2/10\n",
      "Train metrics: Loss: 0.4199 - Acc: 0.8754\n",
      "Epoch 3/10\n"
     ]
    }
   ],
   "source": [
    "fit_nn <- NNet_10 %>%\n",
    "    #\n",
    "    # Setup the model\n",
    "    #\n",
    "    setup(\n",
    "        loss = nn_cross_entropy_loss(),\n",
    "        optimizer = optim_adam,\n",
    "        metrics = list(\n",
    "            luz_metric_accuracy()\n",
    "        )\n",
    "    ) %>%\n",
    "    #\n",
    "    # Set the hyperparameters\n",
    "    #\n",
    "    set_hparams(p=28*28, q1=256, q2=128, q3=64, o=10) %>% \n",
    "    #\n",
    "    # Fit the model\n",
    "    #\n",
    "    fit(\n",
    "        #\n",
    "        # Training Data\n",
    "        #\n",
    "        epochs = 10,\n",
    "        data = train_dl,\n",
    "        # valid_data = test_dl,\n",
    "        verbose=TRUE\n",
    "    )"
   ]
  },
  {
   "cell_type": "code",
   "execution_count": null,
   "id": "364bd46e-7dbb-4404-bd3d-e54ca674ba3d",
   "metadata": {
    "tags": [],
    "vscode": {
     "languageId": "r"
    }
   },
   "outputs": [],
   "source": [
    "NN10_preds <- fit_nn %>% \n",
    "  predict(test_ds) %>% \n",
    "  torch_argmax(dim = 2) %>%\n",
    "  as_array()\n",
    "\n",
    "NN10_preds"
   ]
  }
 ],
 "metadata": {
  "hide_input": false,
  "kernelspec": {
   "display_name": "R v4.2",
   "language": "R",
   "name": "ir42"
  },
  "language_info": {
   "codemirror_mode": "r",
   "file_extension": ".r",
   "mimetype": "text/x-r-source",
   "name": "R",
   "pygments_lexer": "r",
   "version": "4.2.2"
  },
  "widgets": {
   "application/vnd.jupyter.widget-state+json": {
    "state": {},
    "version_major": 2,
    "version_minor": 0
   }
  }
 },
 "nbformat": 4,
 "nbformat_minor": 5
}
