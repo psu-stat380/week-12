{
 "cells": [
  {
   "cell_type": "markdown",
   "id": "c4dae1b6",
   "metadata": {},
   "source": [
    "<!-- ---\n",
    "title: \"Week 6\"\n",
    "title-block-banner: true\n",
    "title-block-style: default\n",
    "execute:\n",
    "  freeze: true\n",
    "  cache: true\n",
    "format: html\n",
    "# format: pdf\n",
    "--- -->"
   ]
  },
  {
   "cell_type": "code",
   "execution_count": 1,
   "id": "99d0176d-3028-42c9-b4db-e49ae5d032fa",
   "metadata": {
    "tags": [],
    "vscode": {
     "languageId": "r"
    }
   },
   "outputs": [],
   "source": [
    "dir <- \"~/work/courses/stat380/weeks/week-12/\"\n",
    "# renv::activate(dir)"
   ]
  },
  {
   "cell_type": "markdown",
   "id": "9d71c7bf",
   "metadata": {},
   "source": [
    "\n",
    "#### Packages we will require this week"
   ]
  },
  {
   "cell_type": "code",
   "execution_count": 156,
   "id": "8d19e576-83a6-4d5a-b2e4-58be67e2b81c",
   "metadata": {
    "tags": [],
    "vscode": {
     "languageId": "r"
    }
   },
   "outputs": [
    {
     "data": {
      "text/html": [
       "<style>\n",
       ".dl-inline {width: auto; margin:0; padding: 0}\n",
       ".dl-inline>dt, .dl-inline>dd {float: none; width: auto; display: inline-block}\n",
       ".dl-inline>dt::after {content: \":\\0020\"; padding-right: .5ex}\n",
       ".dl-inline>dt:not(:first-of-type) {padding-left: .5ex}\n",
       "</style><dl class=dl-inline><dt>ISLR2</dt><dd>TRUE</dd><dt>dplyr</dt><dd>TRUE</dd><dt>tidyr</dt><dd>TRUE</dd><dt>readr</dt><dd>TRUE</dd><dt>purrr</dt><dd>TRUE</dd><dt>repr</dt><dd>TRUE</dd><dt>tidyverse</dt><dd>TRUE</dd><dt>kableExtra</dt><dd>TRUE</dd><dt>IRdisplay</dt><dd>TRUE</dd><dt>car</dt><dd>TRUE</dd><dt>corrplot</dt><dd>TRUE</dd><dt>torch</dt><dd>TRUE</dd><dt>torchvision</dt><dd>TRUE</dd><dt>luz</dt><dd>TRUE</dd></dl>\n"
      ],
      "text/latex": [
       "\\begin{description*}\n",
       "\\item[ISLR2] TRUE\n",
       "\\item[dplyr] TRUE\n",
       "\\item[tidyr] TRUE\n",
       "\\item[readr] TRUE\n",
       "\\item[purrr] TRUE\n",
       "\\item[repr] TRUE\n",
       "\\item[tidyverse] TRUE\n",
       "\\item[kableExtra] TRUE\n",
       "\\item[IRdisplay] TRUE\n",
       "\\item[car] TRUE\n",
       "\\item[corrplot] TRUE\n",
       "\\item[torch] TRUE\n",
       "\\item[torchvision] TRUE\n",
       "\\item[luz] TRUE\n",
       "\\end{description*}\n"
      ],
      "text/markdown": [
       "ISLR2\n",
       ":   TRUEdplyr\n",
       ":   TRUEtidyr\n",
       ":   TRUEreadr\n",
       ":   TRUEpurrr\n",
       ":   TRUErepr\n",
       ":   TRUEtidyverse\n",
       ":   TRUEkableExtra\n",
       ":   TRUEIRdisplay\n",
       ":   TRUEcar\n",
       ":   TRUEcorrplot\n",
       ":   TRUEtorch\n",
       ":   TRUEtorchvision\n",
       ":   TRUEluz\n",
       ":   TRUE\n",
       "\n"
      ],
      "text/plain": [
       "      ISLR2       dplyr       tidyr       readr       purrr        repr \n",
       "       TRUE        TRUE        TRUE        TRUE        TRUE        TRUE \n",
       "  tidyverse  kableExtra   IRdisplay         car    corrplot       torch \n",
       "       TRUE        TRUE        TRUE        TRUE        TRUE        TRUE \n",
       "torchvision         luz \n",
       "       TRUE        TRUE "
      ]
     },
     "metadata": {},
     "output_type": "display_data"
    }
   ],
   "source": [
    "packages <- c(\n",
    "    # Old packages\n",
    "    \"ISLR2\",\n",
    "    \"dplyr\",\n",
    "    \"tidyr\",\n",
    "    \"readr\",\n",
    "    \"purrr\",\n",
    "    \"repr\",\n",
    "    \"tidyverse\",\n",
    "    \"kableExtra\",\n",
    "    \"IRdisplay\",\n",
    "    \"car\",\n",
    "    \"corrplot\",\n",
    "    # NEW\n",
    "    \"torch\",\n",
    "    \"torchvision\",\n",
    "    \"luz\"\n",
    ")\n",
    "\n",
    "# renv::install(packages)\n",
    "sapply(packages, require, character.only=TRUE)"
   ]
  },
  {
   "cell_type": "markdown",
   "id": "e18b6e96-5de0-4b42-b23b-23f1702d799d",
   "metadata": {},
   "source": [
    "---\n",
    "\n",
    "# Tue, Apr 12\n",
    "\n",
    "### Agenda:\n",
    "\n",
    "1. Real-world neural network classification\n",
    "1. Dataloaders\n",
    "1. Torch for image classification"
   ]
  },
  {
   "cell_type": "markdown",
   "id": "91df4c23-4c94-40ce-b864-19be9a4d2cb7",
   "metadata": {},
   "source": [
    "<br><br><br>"
   ]
  },
  {
   "cell_type": "markdown",
   "id": "d5fbad6f-b207-4c8f-8907-9480141473e2",
   "metadata": {},
   "source": [
    "## Titanic"
   ]
  },
  {
   "cell_type": "code",
   "execution_count": 3,
   "id": "aac147d0-3915-4d86-91e4-0eae3f0226bf",
   "metadata": {
    "tags": [],
    "vscode": {
     "languageId": "r"
    }
   },
   "outputs": [
    {
     "name": "stderr",
     "output_type": "stream",
     "text": [
      "\u001b[1mRows: \u001b[22m\u001b[34m887\u001b[39m \u001b[1mColumns: \u001b[22m\u001b[34m8\u001b[39m\n",
      "\u001b[36m──\u001b[39m \u001b[1mColumn specification\u001b[22m \u001b[36m────────────────────────────────────────────────────────\u001b[39m\n",
      "\u001b[1mDelimiter:\u001b[22m \",\"\n",
      "\u001b[31mchr\u001b[39m (2): Name, Sex\n",
      "\u001b[32mdbl\u001b[39m (6): Survived, Pclass, Age, Siblings/Spouses Aboard, Parents/Children Ab...\n",
      "\n",
      "\u001b[36mℹ\u001b[39m Use `spec()` to retrieve the full column specification for this data.\n",
      "\u001b[36mℹ\u001b[39m Specify the column types or set `show_col_types = FALSE` to quiet this message.\n"
     ]
    },
    {
     "data": {
      "text/html": [
       "<table class=\"dataframe\">\n",
       "<caption>A tibble: 6 × 7</caption>\n",
       "<thead>\n",
       "\t<tr><th scope=col>pclass</th><th scope=col>sex</th><th scope=col>age</th><th scope=col>siblings/spouses aboard</th><th scope=col>parents/children aboard</th><th scope=col>fare</th><th scope=col>y</th></tr>\n",
       "\t<tr><th scope=col>&lt;dbl&gt;</th><th scope=col>&lt;fct&gt;</th><th scope=col>&lt;dbl&gt;</th><th scope=col>&lt;dbl&gt;</th><th scope=col>&lt;dbl&gt;</th><th scope=col>&lt;dbl&gt;</th><th scope=col>&lt;dbl&gt;</th></tr>\n",
       "</thead>\n",
       "<tbody>\n",
       "\t<tr><td>3</td><td>male  </td><td>22</td><td>1</td><td>0</td><td> 7.2500</td><td>0</td></tr>\n",
       "\t<tr><td>1</td><td>female</td><td>38</td><td>1</td><td>0</td><td>71.2833</td><td>1</td></tr>\n",
       "\t<tr><td>3</td><td>female</td><td>26</td><td>0</td><td>0</td><td> 7.9250</td><td>1</td></tr>\n",
       "\t<tr><td>1</td><td>female</td><td>35</td><td>1</td><td>0</td><td>53.1000</td><td>1</td></tr>\n",
       "\t<tr><td>3</td><td>male  </td><td>35</td><td>0</td><td>0</td><td> 8.0500</td><td>0</td></tr>\n",
       "\t<tr><td>3</td><td>male  </td><td>27</td><td>0</td><td>0</td><td> 8.4583</td><td>0</td></tr>\n",
       "</tbody>\n",
       "</table>\n"
      ],
      "text/latex": [
       "A tibble: 6 × 7\n",
       "\\begin{tabular}{lllllll}\n",
       " pclass & sex & age & siblings/spouses aboard & parents/children aboard & fare & y\\\\\n",
       " <dbl> & <fct> & <dbl> & <dbl> & <dbl> & <dbl> & <dbl>\\\\\n",
       "\\hline\n",
       "\t 3 & male   & 22 & 1 & 0 &  7.2500 & 0\\\\\n",
       "\t 1 & female & 38 & 1 & 0 & 71.2833 & 1\\\\\n",
       "\t 3 & female & 26 & 0 & 0 &  7.9250 & 1\\\\\n",
       "\t 1 & female & 35 & 1 & 0 & 53.1000 & 1\\\\\n",
       "\t 3 & male   & 35 & 0 & 0 &  8.0500 & 0\\\\\n",
       "\t 3 & male   & 27 & 0 & 0 &  8.4583 & 0\\\\\n",
       "\\end{tabular}\n"
      ],
      "text/markdown": [
       "\n",
       "A tibble: 6 × 7\n",
       "\n",
       "| pclass &lt;dbl&gt; | sex &lt;fct&gt; | age &lt;dbl&gt; | siblings/spouses aboard &lt;dbl&gt; | parents/children aboard &lt;dbl&gt; | fare &lt;dbl&gt; | y &lt;dbl&gt; |\n",
       "|---|---|---|---|---|---|---|\n",
       "| 3 | male   | 22 | 1 | 0 |  7.2500 | 0 |\n",
       "| 1 | female | 38 | 1 | 0 | 71.2833 | 1 |\n",
       "| 3 | female | 26 | 0 | 0 |  7.9250 | 1 |\n",
       "| 1 | female | 35 | 1 | 0 | 53.1000 | 1 |\n",
       "| 3 | male   | 35 | 0 | 0 |  8.0500 | 0 |\n",
       "| 3 | male   | 27 | 0 | 0 |  8.4583 | 0 |\n",
       "\n"
      ],
      "text/plain": [
       "  pclass sex    age siblings/spouses aboard parents/children aboard fare    y\n",
       "1 3      male   22  1                       0                        7.2500 0\n",
       "2 1      female 38  1                       0                       71.2833 1\n",
       "3 3      female 26  0                       0                        7.9250 1\n",
       "4 1      female 35  1                       0                       53.1000 1\n",
       "5 3      male   35  0                       0                        8.0500 0\n",
       "6 3      male   27  0                       0                        8.4583 0"
      ]
     },
     "metadata": {},
     "output_type": "display_data"
    }
   ],
   "source": [
    "url <- \"https://web.stanford.edu/class/archive/cs/cs109/cs109.1166/stuff/titanic.csv\"\n",
    "\n",
    "df <- read_csv(url) %>%\n",
    "    mutate_if(\\(x) is.character(x), as.factor) %>%\n",
    "    mutate(y = Survived) %>%\n",
    "    select(-c(Name, Survived)) %>%\n",
    "    (\\(x) {\n",
    "        names(x) <- tolower(names(x))\n",
    "        x\n",
    "    })\n",
    "\n",
    "df %>% head"
   ]
  },
  {
   "cell_type": "markdown",
   "id": "f9e0f368-824e-42fc-b985-a033396bd7eb",
   "metadata": {},
   "source": [
    "## Breast Cancer Prediction"
   ]
  },
  {
   "cell_type": "code",
   "execution_count": 4,
   "id": "233fddea-2bdb-4603-a002-481a2ddcd3af",
   "metadata": {
    "tags": [],
    "vscode": {
     "languageId": "r"
    }
   },
   "outputs": [],
   "source": [
    "# url <- \"https://archive.ics.uci.edu/ml/machine-learning-databases/breast-cancer-wisconsin/wdbc.data\"\n",
    "\n",
    "# col_names <- c(\"id\", \"diagnosis\", paste0(\"feat\", 1:30))\n",
    "\n",
    "# df <- read_csv(\n",
    "#         url, col_names, col_types = cols()\n",
    "#     ) %>% \n",
    "#     select(-id) %>% \n",
    "#     mutate(y = ifelse(diagnosis == \"M\", 1, 0)) %>%\n",
    "#     select(-diagnosis)\n",
    "\n",
    "\n",
    "# df %>% head"
   ]
  },
  {
   "cell_type": "markdown",
   "id": "3f5cbbe6-ea0c-4071-9527-b6555d565d9d",
   "metadata": {},
   "source": [
    "### Train/Test Split"
   ]
  },
  {
   "cell_type": "code",
   "execution_count": 5,
   "id": "0017b3a4-c40f-40bc-b811-6a92f2633d6c",
   "metadata": {
    "tags": [],
    "vscode": {
     "languageId": "r"
    }
   },
   "outputs": [],
   "source": [
    "k <- 5\n",
    "\n",
    "test_ind <- sample(\n",
    "    1:nrow(df), \n",
    "    floor(nrow(df) / k),\n",
    "    replace=FALSE\n",
    ")"
   ]
  },
  {
   "cell_type": "code",
   "execution_count": 6,
   "id": "47817320-3901-4d9b-9812-a1c6353fe26a",
   "metadata": {
    "tags": [],
    "vscode": {
     "languageId": "r"
    }
   },
   "outputs": [
    {
     "data": {
      "text/html": [
       "TRUE"
      ],
      "text/latex": [
       "TRUE"
      ],
      "text/markdown": [
       "TRUE"
      ],
      "text/plain": [
       "[1] TRUE"
      ]
     },
     "metadata": {},
     "output_type": "display_data"
    }
   ],
   "source": [
    "df_train <- df[-test_ind, ]\n",
    "df_test  <- df[test_ind, ]\n",
    "\n",
    "nrow(df_train) + nrow(df_test) == nrow(df)"
   ]
  },
  {
   "cell_type": "markdown",
   "id": "761a47d2-3694-4b2b-830d-be22bd4a501b",
   "metadata": {},
   "source": [
    "### Benchmark with Logistic Regression"
   ]
  },
  {
   "cell_type": "code",
   "execution_count": 7,
   "id": "42fe55ad-647a-49f4-93de-d87ea7ff7cad",
   "metadata": {
    "tags": [],
    "vscode": {
     "languageId": "r"
    }
   },
   "outputs": [
    {
     "data": {
      "text/plain": [
       "         \n",
       "glm_preds   0   1\n",
       "        0 100  23\n",
       "        1  13  41"
      ]
     },
     "metadata": {},
     "output_type": "display_data"
    }
   ],
   "source": [
    "fit_glm <- glm(\n",
    "    y ~ ., \n",
    "    df_train %>% mutate_at(\"y\", factor), \n",
    "    family = binomial()\n",
    ")\n",
    "\n",
    "glm_test <- predict(\n",
    "    fit_glm, \n",
    "    df_test,\n",
    "    output = \"response\"\n",
    ")\n",
    "\n",
    "glm_preds <- ifelse(glm_test > 0.5, 1, 0)\n",
    "table(glm_preds, df_test$y)"
   ]
  },
  {
   "cell_type": "markdown",
   "id": "5fc08e27-54b7-4763-b388-fbaf0b5396f1",
   "metadata": {},
   "source": [
    "### Neural Net Model"
   ]
  },
  {
   "cell_type": "code",
   "execution_count": 8,
   "id": "5aaac2c1-e98c-4ede-8ebd-c777d51e58a3",
   "metadata": {
    "tags": [],
    "vscode": {
     "languageId": "r"
    }
   },
   "outputs": [],
   "source": [
    "NNet <- nn_module(\n",
    "  initialize = function(p, q1, q2, q3) {  \n",
    "    self$hidden1 <- nn_linear(p, q1)\n",
    "    self$hidden2 <- nn_linear(q1, q2)\n",
    "    self$hidden3 <- nn_linear(q2, q3)\n",
    "    self$output <- nn_linear(q3, 1)\n",
    "    self$activation <- nn_relu()\n",
    "    self$sigmoid <- nn_sigmoid()\n",
    "  },\n",
    "    \n",
    "  forward = function(x) {\n",
    "    x %>% \n",
    "      self$hidden1() %>% self$activation() %>% \n",
    "      self$hidden2() %>% self$activation() %>% \n",
    "      self$hidden3() %>% self$activation() %>% \n",
    "      self$output() %>% self$sigmoid()\n",
    "  }\n",
    ")"
   ]
  },
  {
   "cell_type": "markdown",
   "id": "97e0f9bb-35c7-43fd-91f8-ae80c6c5dc92",
   "metadata": {},
   "source": [
    "### Fit using Luz"
   ]
  },
  {
   "cell_type": "code",
   "execution_count": 9,
   "id": "90129a4b-e587-43e3-8dd3-3a0c6694c609",
   "metadata": {
    "tags": [],
    "vscode": {
     "languageId": "r"
    }
   },
   "outputs": [],
   "source": [
    "M <- model.matrix(y ~ 0 + ., data = df_train)"
   ]
  },
  {
   "cell_type": "code",
   "execution_count": 10,
   "id": "ddd5d752-e740-4670-890c-e8795fe6f453",
   "metadata": {
    "tags": [],
    "vscode": {
     "languageId": "r"
    }
   },
   "outputs": [
    {
     "name": "stderr",
     "output_type": "stream",
     "text": [
      "Epoch 1/50\n",
      "Train metrics: Loss: 0.9823 - Acc: 12.3465\n",
      "Valid metrics: Loss: 0.6505 - Acc: 10.9774\n",
      "Epoch 2/50\n",
      "Train metrics: Loss: 0.6353 - Acc: 12.3099\n",
      "Valid metrics: Loss: 0.7829 - Acc: 10.9774\n",
      "Epoch 3/50\n",
      "Train metrics: Loss: 0.6327 - Acc: 12.4563\n",
      "Valid metrics: Loss: 0.6084 - Acc: 10.9774\n",
      "Epoch 4/50\n",
      "Train metrics: Loss: 0.5976 - Acc: 12.4563\n",
      "Valid metrics: Loss: 0.5915 - Acc: 10.9774\n",
      "Epoch 5/50\n",
      "Train metrics: Loss: 0.601 - Acc: 12.4563\n",
      "Valid metrics: Loss: 0.5774 - Acc: 10.9774\n",
      "Epoch 6/50\n",
      "Train metrics: Loss: 0.5752 - Acc: 12.4197\n",
      "Valid metrics: Loss: 0.5847 - Acc: 10.9774\n",
      "Epoch 7/50\n",
      "Train metrics: Loss: 0.5796 - Acc: 12.4563\n",
      "Valid metrics: Loss: 0.5675 - Acc: 10.9774\n",
      "Epoch 8/50\n",
      "Train metrics: Loss: 0.5633 - Acc: 12.4197\n",
      "Valid metrics: Loss: 0.558 - Acc: 10.9774\n",
      "Epoch 9/50\n",
      "Train metrics: Loss: 0.5642 - Acc: 12.3831\n",
      "Valid metrics: Loss: 0.5426 - Acc: 10.9774\n",
      "Epoch 10/50\n",
      "Train metrics: Loss: 0.5619 - Acc: 12.4563\n",
      "Valid metrics: Loss: 0.533 - Acc: 10.9774\n",
      "Epoch 11/50\n",
      "Train metrics: Loss: 0.5432 - Acc: 12.4197\n",
      "Valid metrics: Loss: 0.5344 - Acc: 10.9774\n",
      "Epoch 12/50\n",
      "Train metrics: Loss: 0.5366 - Acc: 12.3465\n",
      "Valid metrics: Loss: 0.6409 - Acc: 10.9774\n",
      "Epoch 13/50\n",
      "Train metrics: Loss: 0.5353 - Acc: 12.4563\n",
      "Valid metrics: Loss: 0.514 - Acc: 10.9774\n",
      "Epoch 14/50\n",
      "Train metrics: Loss: 0.515 - Acc: 12.4197\n",
      "Valid metrics: Loss: 0.5103 - Acc: 10.9774\n",
      "Epoch 15/50\n",
      "Train metrics: Loss: 0.5071 - Acc: 12.4197\n",
      "Valid metrics: Loss: 0.6156 - Acc: 10.9774\n",
      "Epoch 16/50\n",
      "Train metrics: Loss: 0.4905 - Acc: 12.4197\n",
      "Valid metrics: Loss: 0.5296 - Acc: 10.9774\n",
      "Epoch 17/50\n",
      "Train metrics: Loss: 0.487 - Acc: 12.493\n",
      "Valid metrics: Loss: 0.4722 - Acc: 10.9774\n",
      "Epoch 18/50\n",
      "Train metrics: Loss: 0.4897 - Acc: 12.493\n",
      "Valid metrics: Loss: 0.6861 - Acc: 10.9774\n",
      "Epoch 19/50\n",
      "Train metrics: Loss: 0.4948 - Acc: 12.493\n",
      "Valid metrics: Loss: 0.8839 - Acc: 10.9774\n",
      "Epoch 20/50\n",
      "Train metrics: Loss: 0.4981 - Acc: 12.4197\n",
      "Valid metrics: Loss: 0.5909 - Acc: 10.9774\n",
      "Epoch 21/50\n",
      "Train metrics: Loss: 0.4862 - Acc: 12.4197\n",
      "Valid metrics: Loss: 0.4511 - Acc: 10.9774\n",
      "Epoch 22/50\n",
      "Train metrics: Loss: 0.4601 - Acc: 12.493\n",
      "Valid metrics: Loss: 0.4559 - Acc: 10.9774\n",
      "Epoch 23/50\n",
      "Train metrics: Loss: 0.4549 - Acc: 12.4197\n",
      "Valid metrics: Loss: 0.452 - Acc: 10.9774\n",
      "Epoch 24/50\n",
      "Train metrics: Loss: 0.4598 - Acc: 12.4563\n",
      "Valid metrics: Loss: 0.459 - Acc: 10.9774\n",
      "Epoch 25/50\n",
      "Train metrics: Loss: 0.4494 - Acc: 12.4563\n",
      "Valid metrics: Loss: 0.4589 - Acc: 10.9774\n",
      "Epoch 26/50\n",
      "Train metrics: Loss: 0.4416 - Acc: 12.493\n",
      "Valid metrics: Loss: 0.4569 - Acc: 10.9774\n",
      "Epoch 27/50\n",
      "Train metrics: Loss: 0.4648 - Acc: 12.3831\n",
      "Valid metrics: Loss: 0.4797 - Acc: 10.9774\n",
      "Epoch 28/50\n",
      "Train metrics: Loss: 0.4336 - Acc: 12.5296\n",
      "Valid metrics: Loss: 0.5241 - Acc: 10.9774\n",
      "Epoch 29/50\n",
      "Train metrics: Loss: 0.4405 - Acc: 12.3465\n",
      "Valid metrics: Loss: 0.4962 - Acc: 10.9774\n",
      "Epoch 30/50\n",
      "Train metrics: Loss: 0.4591 - Acc: 12.3099\n",
      "Valid metrics: Loss: 0.5529 - Acc: 10.9774\n",
      "Epoch 31/50\n",
      "Train metrics: Loss: 0.4421 - Acc: 12.4563\n",
      "Valid metrics: Loss: 0.4572 - Acc: 10.9774\n",
      "Epoch 32/50\n",
      "Train metrics: Loss: 0.4619 - Acc: 12.4563\n",
      "Valid metrics: Loss: 0.472 - Acc: 10.9774\n",
      "Epoch 33/50\n",
      "Train metrics: Loss: 0.4277 - Acc: 12.4197\n",
      "Valid metrics: Loss: 0.4888 - Acc: 10.9774\n",
      "Epoch 34/50\n",
      "Train metrics: Loss: 0.4499 - Acc: 12.3831\n",
      "Valid metrics: Loss: 0.5082 - Acc: 10.9774\n",
      "Epoch 35/50\n",
      "Train metrics: Loss: 0.425 - Acc: 12.4197\n",
      "Valid metrics: Loss: 0.4408 - Acc: 10.9774\n",
      "Epoch 36/50\n",
      "Train metrics: Loss: 0.4256 - Acc: 12.3831\n",
      "Valid metrics: Loss: 0.4743 - Acc: 10.9774\n",
      "Epoch 37/50\n",
      "Train metrics: Loss: 0.425 - Acc: 12.3465\n",
      "Valid metrics: Loss: 0.4513 - Acc: 10.9774\n",
      "Epoch 38/50\n",
      "Train metrics: Loss: 0.4254 - Acc: 12.4197\n",
      "Valid metrics: Loss: 0.4555 - Acc: 10.9774\n",
      "Epoch 39/50\n",
      "Train metrics: Loss: 0.4198 - Acc: 12.3831\n",
      "Valid metrics: Loss: 0.4858 - Acc: 10.9774\n",
      "Epoch 40/50\n",
      "Train metrics: Loss: 0.4315 - Acc: 12.4563\n",
      "Valid metrics: Loss: 0.4588 - Acc: 10.9774\n",
      "Epoch 41/50\n",
      "Train metrics: Loss: 0.4179 - Acc: 12.4197\n",
      "Valid metrics: Loss: 0.4464 - Acc: 10.9774\n",
      "Epoch 42/50\n",
      "Train metrics: Loss: 0.4145 - Acc: 12.493\n",
      "Valid metrics: Loss: 0.7636 - Acc: 10.9774\n",
      "Epoch 43/50\n",
      "Train metrics: Loss: 0.4442 - Acc: 12.4563\n",
      "Valid metrics: Loss: 0.4577 - Acc: 10.9774\n",
      "Epoch 44/50\n",
      "Train metrics: Loss: 0.4528 - Acc: 12.493\n",
      "Valid metrics: Loss: 1.0059 - Acc: 10.9774\n",
      "Epoch 45/50\n",
      "Train metrics: Loss: 0.4383 - Acc: 12.4563\n",
      "Valid metrics: Loss: 0.4386 - Acc: 10.9774\n",
      "Epoch 46/50\n",
      "Train metrics: Loss: 0.4096 - Acc: 12.3831\n",
      "Valid metrics: Loss: 0.4576 - Acc: 10.9774\n",
      "Epoch 47/50\n",
      "Train metrics: Loss: 0.4051 - Acc: 12.4197\n",
      "Valid metrics: Loss: 0.447 - Acc: 10.9774\n",
      "Epoch 48/50\n",
      "Train metrics: Loss: 0.4145 - Acc: 12.4563\n",
      "Valid metrics: Loss: 0.4511 - Acc: 10.9774\n",
      "Epoch 49/50\n",
      "Train metrics: Loss: 0.4227 - Acc: 12.4197\n",
      "Valid metrics: Loss: 0.4505 - Acc: 10.9774\n",
      "Epoch 50/50\n",
      "Train metrics: Loss: 0.4055 - Acc: 12.493\n",
      "Valid metrics: Loss: 0.4438 - Acc: 10.9774\n"
     ]
    }
   ],
   "source": [
    "fit_nn <- NNet %>%\n",
    "    #\n",
    "    # Setup the model\n",
    "    #\n",
    "    setup(\n",
    "        loss = nn_bce_loss(),\n",
    "        optimizer = optim_adagrad, \n",
    "        metrics = list(\n",
    "            luz_metric_accuracy()\n",
    "        )\n",
    "    ) %>% \n",
    "    #\n",
    "    # Set the hyperparameters\n",
    "    #\n",
    "    set_hparams(p=ncol(M), q1=256, q2=128, q3=64) %>% \n",
    "    set_opt_hparams(lr=1e-2) %>% \n",
    "    #\n",
    "    # Fit the model\n",
    "    #\n",
    "    fit(\n",
    "        data = list(\n",
    "            model.matrix(y ~ 0 + ., data = df_train),\n",
    "            df_train %>% select(y) %>% as.matrix\n",
    "        ),\n",
    "        valid_data = list(\n",
    "            model.matrix(y ~ 0 + ., data = df_test),\n",
    "            df_test %>% select(y) %>% as.matrix\n",
    "        ),\n",
    "        epochs = 50, \n",
    "        verbose = TRUE\n",
    "    )"
   ]
  },
  {
   "cell_type": "code",
   "execution_count": 11,
   "id": "49081481-d781-426b-a123-3067539b57cd",
   "metadata": {
    "tags": [],
    "vscode": {
     "languageId": "r"
    }
   },
   "outputs": [
    {
     "data": {
      "image/png": "[encoded data removed]",
      "text/plain": [
       "plot without title"
      ]
     },
     "metadata": {
      "image/png": {
       "height": 420,
       "width": 420
      }
     },
     "output_type": "display_data"
    }
   ],
   "source": [
    "plot(fit_nn)"
   ]
  },
  {
   "cell_type": "code",
   "execution_count": 12,
   "id": "842aaf61-7ea7-417c-b09f-5362f4b3a571",
   "metadata": {
    "tags": [],
    "vscode": {
     "languageId": "r"
    }
   },
   "outputs": [
    {
     "data": {
      "text/plain": [
       "        \n",
       "nn_preds  0  1\n",
       "       0 98 21\n",
       "       1 15 43"
      ]
     },
     "metadata": {},
     "output_type": "display_data"
    },
    {
     "data": {
      "text/html": [
       "0.796610169491525"
      ],
      "text/latex": [
       "0.796610169491525"
      ],
      "text/markdown": [
       "0.796610169491525"
      ],
      "text/plain": [
       "[1] 0.7966102"
      ]
     },
     "metadata": {},
     "output_type": "display_data"
    }
   ],
   "source": [
    "nn_test <- predict(\n",
    "    fit_nn, \n",
    "    model.matrix(y ~ . - 1, data = df_test)\n",
    ")\n",
    "# nn_test\n",
    "nn_preds <- ifelse(nn_test > 0.5, 1, 0)\n",
    "\n",
    "table(nn_preds, df_test$y)\n",
    "mean(nn_preds == df_test$y)"
   ]
  },
  {
   "cell_type": "code",
   "execution_count": 13,
   "id": "1432d789",
   "metadata": {
    "tags": [],
    "vscode": {
     "languageId": "r"
    }
   },
   "outputs": [
    {
     "data": {
      "text/plain": [
       "         \n",
       "glm_preds   0   1\n",
       "        0 100  23\n",
       "        1  13  41"
      ]
     },
     "metadata": {},
     "output_type": "display_data"
    },
    {
     "data": {
      "text/html": [
       "0.796610169491525"
      ],
      "text/latex": [
       "0.796610169491525"
      ],
      "text/markdown": [
       "0.796610169491525"
      ],
      "text/plain": [
       "[1] 0.7966102"
      ]
     },
     "metadata": {},
     "output_type": "display_data"
    }
   ],
   "source": [
    "table(glm_preds, df_test$y)\n",
    "mean(glm_preds == df_test$y)"
   ]
  },
  {
   "cell_type": "markdown",
   "id": "d1bf68ab-aaac-449d-a591-27c5125a0ba8",
   "metadata": {
    "tags": []
   },
   "source": [
    "<br><br><br><br>\n",
    "\n",
    "---\n",
    "\n",
    "### DataLoaders\n",
    "\n",
    "* Dataloaders are a key component in the machine learning pipeline.\n",
    "\n",
    "* They handle loading and preprocessing data in a way that is efficient for training and evaluating models.\n",
    "\n",
    "* Dataloaders make it easy to work with large datasets by loading the data in smaller chunks (called **batches**) and applying transformations _on-the-fly_.\n",
    "\n",
    "\n",
    "##### Why use Dataloaders?\n",
    "\n",
    "> * **Efficient memory management:** loading data in smaller chunks reduces memory usage.\n",
    ">\n",
    "> * **Parallelism:**  supports asynchronous data loading for faster processing.\n",
    ">\n",
    "> * **Preprocessing:**  apply data transformations on-the-fly during training and evaluation.\n",
    ">\n",
    "> * **Flexibility:**  easily switch between different datasets or preprocessing steps.\n",
    ">\n",
    "> * **Standardization:**  consistent data format across various machine learning projects.\n",
    ">"
   ]
  },
  {
   "cell_type": "code",
   "execution_count": 203,
   "id": "dafa657c-e10a-40b1-bc2c-6e92024b716d",
   "metadata": {
    "tags": [],
    "vscode": {
     "languageId": "r"
    }
   },
   "outputs": [],
   "source": [
    "# ?dataloader"
   ]
  },
  {
   "cell_type": "code",
   "execution_count": 204,
   "id": "93a5ec2c-7024-4df8-8494-f3cb3c71e92c",
   "metadata": {
    "tags": [],
    "vscode": {
     "languageId": "r"
    }
   },
   "outputs": [],
   "source": [
    "transform <- function(x) x %>% \n",
    "    torch_tensor() %>% \n",
    "    torch_flatten() %>% \n",
    "    torch_div(255)"
   ]
  },
  {
   "cell_type": "code",
   "execution_count": 205,
   "id": "7571d567-5a99-4639-b4a6-0d3a6427f909",
   "metadata": {
    "tags": [],
    "vscode": {
     "languageId": "r"
    }
   },
   "outputs": [],
   "source": [
    "dir <- \"./mnist\"\n",
    "\n",
    "train_ds <- mnist_dataset(\n",
    "  dir,\n",
    "  download = TRUE,\n",
    "  transform = transform\n",
    ")\n",
    "\n",
    "test_ds <- mnist_dataset(\n",
    "  dir,\n",
    "  download = TRUE,\n",
    "  train = FALSE,\n",
    "  transform = transform\n",
    ")"
   ]
  },
  {
   "cell_type": "code",
   "execution_count": 206,
   "id": "43b4d04e-6a27-493f-b3f5-63d52d1fdcf2",
   "metadata": {
    "tags": [],
    "vscode": {
     "languageId": "r"
    }
   },
   "outputs": [
    {
     "data": {
      "text/html": [
       "'environment'"
      ],
      "text/latex": [
       "'environment'"
      ],
      "text/markdown": [
       "'environment'"
      ],
      "text/plain": [
       "[1] \"environment\""
      ]
     },
     "metadata": {},
     "output_type": "display_data"
    },
    {
     "data": {
      "text/html": [
       "60000"
      ],
      "text/latex": [
       "60000"
      ],
      "text/markdown": [
       "60000"
      ],
      "text/plain": [
       "[1] 60000"
      ]
     },
     "metadata": {},
     "output_type": "display_data"
    },
    {
     "data": {
      "text/html": [
       "<table class=\"dataframe\">\n",
       "<caption>A matrix: 28 × 28 of type int</caption>\n",
       "<tbody>\n",
       "\t<tr><td>0</td><td>0</td><td>0</td><td>0</td><td>0</td><td>  0</td><td>  0</td><td>  0</td><td>  0</td><td>  0</td><td>⋯</td><td>  0</td><td>  0</td><td>  0</td><td>  0</td><td>  0</td><td>  0</td><td>  0</td><td>0</td><td>0</td><td>0</td></tr>\n",
       "\t<tr><td>0</td><td>0</td><td>0</td><td>0</td><td>0</td><td>  0</td><td>  0</td><td>  0</td><td>  0</td><td>  0</td><td>⋯</td><td>  0</td><td>  0</td><td>  0</td><td>  0</td><td>  0</td><td>  0</td><td>  0</td><td>0</td><td>0</td><td>0</td></tr>\n",
       "\t<tr><td>0</td><td>0</td><td>0</td><td>0</td><td>0</td><td>  0</td><td>  0</td><td>  0</td><td>  0</td><td>  0</td><td>⋯</td><td>  0</td><td>  0</td><td>  0</td><td>  0</td><td>  0</td><td>  0</td><td>  0</td><td>0</td><td>0</td><td>0</td></tr>\n",
       "\t<tr><td>0</td><td>0</td><td>0</td><td>0</td><td>0</td><td>  0</td><td>  0</td><td>  0</td><td>  0</td><td>  0</td><td>⋯</td><td>  0</td><td>  0</td><td>  0</td><td>  0</td><td>  0</td><td>  0</td><td>  0</td><td>0</td><td>0</td><td>0</td></tr>\n",
       "\t<tr><td>0</td><td>0</td><td>0</td><td>0</td><td>0</td><td>  0</td><td>  0</td><td>  0</td><td>  0</td><td>  0</td><td>⋯</td><td>  0</td><td>  0</td><td>  0</td><td>  0</td><td>  0</td><td>  0</td><td>  0</td><td>0</td><td>0</td><td>0</td></tr>\n",
       "\t<tr><td>0</td><td>0</td><td>0</td><td>0</td><td>0</td><td>  0</td><td>  0</td><td>  0</td><td>  0</td><td>  0</td><td>⋯</td><td>  0</td><td>  0</td><td> 42</td><td>218</td><td>134</td><td>186</td><td>  0</td><td>0</td><td>0</td><td>0</td></tr>\n",
       "\t<tr><td>0</td><td>0</td><td>0</td><td>0</td><td>0</td><td>  0</td><td>  0</td><td>  0</td><td>  0</td><td>  0</td><td>⋯</td><td>  0</td><td> 27</td><td>221</td><td>253</td><td>252</td><td>221</td><td> 16</td><td>0</td><td>0</td><td>0</td></tr>\n",
       "\t<tr><td>0</td><td>0</td><td>0</td><td>0</td><td>0</td><td>  0</td><td>  0</td><td>  0</td><td>  0</td><td>  0</td><td>⋯</td><td>  0</td><td> 16</td><td>190</td><td>253</td><td>252</td><td>252</td><td>108</td><td>0</td><td>0</td><td>0</td></tr>\n",
       "\t<tr><td>0</td><td>0</td><td>0</td><td>0</td><td>0</td><td>  0</td><td>  0</td><td>  0</td><td>  1</td><td>109</td><td>⋯</td><td>  0</td><td>  0</td><td>  0</td><td>109</td><td>252</td><td>236</td><td> 62</td><td>0</td><td>0</td><td>0</td></tr>\n",
       "\t<tr><td>0</td><td>0</td><td>0</td><td>0</td><td>0</td><td>  0</td><td>  0</td><td>  0</td><td>125</td><td>252</td><td>⋯</td><td>  0</td><td>  0</td><td>  0</td><td>109</td><td>252</td><td>215</td><td> 42</td><td>0</td><td>0</td><td>0</td></tr>\n",
       "\t<tr><td>0</td><td>0</td><td>0</td><td>0</td><td>0</td><td>  0</td><td>  0</td><td>  0</td><td> 62</td><td>189</td><td>⋯</td><td>  0</td><td>  0</td><td> 21</td><td>212</td><td>252</td><td>241</td><td>221</td><td>0</td><td>0</td><td>0</td></tr>\n",
       "\t<tr><td>0</td><td>0</td><td>0</td><td>0</td><td>0</td><td>  0</td><td>  0</td><td> 21</td><td>206</td><td>252</td><td>⋯</td><td>  0</td><td> 21</td><td>206</td><td>253</td><td>252</td><td>252</td><td>252</td><td>0</td><td>0</td><td>0</td></tr>\n",
       "\t<tr><td>0</td><td>0</td><td>0</td><td>0</td><td>0</td><td>  0</td><td> 73</td><td>253</td><td>253</td><td>253</td><td>⋯</td><td> 32</td><td>212</td><td>253</td><td>255</td><td>253</td><td>253</td><td>108</td><td>0</td><td>0</td><td>0</td></tr>\n",
       "\t<tr><td>0</td><td>0</td><td>0</td><td>0</td><td>0</td><td>  0</td><td>115</td><td>252</td><td>252</td><td>252</td><td>⋯</td><td>115</td><td>252</td><td>252</td><td>253</td><td>252</td><td>220</td><td> 15</td><td>0</td><td>0</td><td>0</td></tr>\n",
       "\t<tr><td>0</td><td>0</td><td>0</td><td>0</td><td>0</td><td>  0</td><td>217</td><td>252</td><td>252</td><td>252</td><td>⋯</td><td>242</td><td>252</td><td>252</td><td>253</td><td>252</td><td>112</td><td>  0</td><td>0</td><td>0</td><td>0</td></tr>\n",
       "\t<tr><td>0</td><td>0</td><td>0</td><td>0</td><td>0</td><td>  0</td><td>217</td><td>252</td><td>252</td><td>252</td><td>⋯</td><td>252</td><td>252</td><td>252</td><td>253</td><td>128</td><td> 31</td><td>  0</td><td>0</td><td>0</td><td>0</td></tr>\n",
       "\t<tr><td>0</td><td>0</td><td>0</td><td>0</td><td>0</td><td>110</td><td>233</td><td>253</td><td>253</td><td>144</td><td>⋯</td><td>253</td><td>253</td><td>253</td><td>208</td><td> 20</td><td>  0</td><td>  0</td><td>0</td><td>0</td><td>0</td></tr>\n",
       "\t<tr><td>0</td><td>0</td><td>0</td><td>0</td><td>0</td><td>253</td><td>252</td><td>252</td><td>252</td><td>237</td><td>⋯</td><td>252</td><td>252</td><td>210</td><td> 20</td><td>  0</td><td>  0</td><td>  0</td><td>0</td><td>0</td><td>0</td></tr>\n",
       "\t<tr><td>0</td><td>0</td><td>0</td><td>0</td><td>0</td><td>253</td><td>252</td><td>252</td><td>252</td><td>252</td><td>⋯</td><td>215</td><td>112</td><td> 31</td><td>  0</td><td>  0</td><td>  0</td><td>  0</td><td>0</td><td>0</td><td>0</td></tr>\n",
       "\t<tr><td>0</td><td>0</td><td>0</td><td>0</td><td>0</td><td>170</td><td>252</td><td>252</td><td>252</td><td>252</td><td>⋯</td><td>  0</td><td>  0</td><td>  0</td><td>  0</td><td>  0</td><td>  0</td><td>  0</td><td>0</td><td>0</td><td>0</td></tr>\n",
       "\t<tr><td>0</td><td>0</td><td>0</td><td>0</td><td>0</td><td>  0</td><td>218</td><td>253</td><td>253</td><td>253</td><td>⋯</td><td>  0</td><td>  0</td><td>  0</td><td>  0</td><td>  0</td><td>  0</td><td>  0</td><td>0</td><td>0</td><td>0</td></tr>\n",
       "\t<tr><td>0</td><td>0</td><td>0</td><td>0</td><td>0</td><td>  0</td><td> 72</td><td>231</td><td>252</td><td>252</td><td>⋯</td><td>  0</td><td>  0</td><td>  0</td><td>  0</td><td>  0</td><td>  0</td><td>  0</td><td>0</td><td>0</td><td>0</td></tr>\n",
       "\t<tr><td>0</td><td>0</td><td>0</td><td>0</td><td>0</td><td>  0</td><td>  0</td><td> 52</td><td> 71</td><td> 71</td><td>⋯</td><td>  0</td><td>  0</td><td>  0</td><td>  0</td><td>  0</td><td>  0</td><td>  0</td><td>0</td><td>0</td><td>0</td></tr>\n",
       "\t<tr><td>0</td><td>0</td><td>0</td><td>0</td><td>0</td><td>  0</td><td>  0</td><td>  0</td><td>  0</td><td>  0</td><td>⋯</td><td>  0</td><td>  0</td><td>  0</td><td>  0</td><td>  0</td><td>  0</td><td>  0</td><td>0</td><td>0</td><td>0</td></tr>\n",
       "\t<tr><td>0</td><td>0</td><td>0</td><td>0</td><td>0</td><td>  0</td><td>  0</td><td>  0</td><td>  0</td><td>  0</td><td>⋯</td><td>  0</td><td>  0</td><td>  0</td><td>  0</td><td>  0</td><td>  0</td><td>  0</td><td>0</td><td>0</td><td>0</td></tr>\n",
       "\t<tr><td>0</td><td>0</td><td>0</td><td>0</td><td>0</td><td>  0</td><td>  0</td><td>  0</td><td>  0</td><td>  0</td><td>⋯</td><td>  0</td><td>  0</td><td>  0</td><td>  0</td><td>  0</td><td>  0</td><td>  0</td><td>0</td><td>0</td><td>0</td></tr>\n",
       "\t<tr><td>0</td><td>0</td><td>0</td><td>0</td><td>0</td><td>  0</td><td>  0</td><td>  0</td><td>  0</td><td>  0</td><td>⋯</td><td>  0</td><td>  0</td><td>  0</td><td>  0</td><td>  0</td><td>  0</td><td>  0</td><td>0</td><td>0</td><td>0</td></tr>\n",
       "\t<tr><td>0</td><td>0</td><td>0</td><td>0</td><td>0</td><td>  0</td><td>  0</td><td>  0</td><td>  0</td><td>  0</td><td>⋯</td><td>  0</td><td>  0</td><td>  0</td><td>  0</td><td>  0</td><td>  0</td><td>  0</td><td>0</td><td>0</td><td>0</td></tr>\n",
       "</tbody>\n",
       "</table>\n"
      ],
      "text/latex": [
       "A matrix: 28 × 28 of type int\n",
       "\\begin{tabular}{lllllllllllllllllllll}\n",
       "\t 0 & 0 & 0 & 0 & 0 &   0 &   0 &   0 &   0 &   0 & ⋯ &   0 &   0 &   0 &   0 &   0 &   0 &   0 & 0 & 0 & 0\\\\\n",
       "\t 0 & 0 & 0 & 0 & 0 &   0 &   0 &   0 &   0 &   0 & ⋯ &   0 &   0 &   0 &   0 &   0 &   0 &   0 & 0 & 0 & 0\\\\\n",
       "\t 0 & 0 & 0 & 0 & 0 &   0 &   0 &   0 &   0 &   0 & ⋯ &   0 &   0 &   0 &   0 &   0 &   0 &   0 & 0 & 0 & 0\\\\\n",
       "\t 0 & 0 & 0 & 0 & 0 &   0 &   0 &   0 &   0 &   0 & ⋯ &   0 &   0 &   0 &   0 &   0 &   0 &   0 & 0 & 0 & 0\\\\\n",
       "\t 0 & 0 & 0 & 0 & 0 &   0 &   0 &   0 &   0 &   0 & ⋯ &   0 &   0 &   0 &   0 &   0 &   0 &   0 & 0 & 0 & 0\\\\\n",
       "\t 0 & 0 & 0 & 0 & 0 &   0 &   0 &   0 &   0 &   0 & ⋯ &   0 &   0 &  42 & 218 & 134 & 186 &   0 & 0 & 0 & 0\\\\\n",
       "\t 0 & 0 & 0 & 0 & 0 &   0 &   0 &   0 &   0 &   0 & ⋯ &   0 &  27 & 221 & 253 & 252 & 221 &  16 & 0 & 0 & 0\\\\\n",
       "\t 0 & 0 & 0 & 0 & 0 &   0 &   0 &   0 &   0 &   0 & ⋯ &   0 &  16 & 190 & 253 & 252 & 252 & 108 & 0 & 0 & 0\\\\\n",
       "\t 0 & 0 & 0 & 0 & 0 &   0 &   0 &   0 &   1 & 109 & ⋯ &   0 &   0 &   0 & 109 & 252 & 236 &  62 & 0 & 0 & 0\\\\\n",
       "\t 0 & 0 & 0 & 0 & 0 &   0 &   0 &   0 & 125 & 252 & ⋯ &   0 &   0 &   0 & 109 & 252 & 215 &  42 & 0 & 0 & 0\\\\\n",
       "\t 0 & 0 & 0 & 0 & 0 &   0 &   0 &   0 &  62 & 189 & ⋯ &   0 &   0 &  21 & 212 & 252 & 241 & 221 & 0 & 0 & 0\\\\\n",
       "\t 0 & 0 & 0 & 0 & 0 &   0 &   0 &  21 & 206 & 252 & ⋯ &   0 &  21 & 206 & 253 & 252 & 252 & 252 & 0 & 0 & 0\\\\\n",
       "\t 0 & 0 & 0 & 0 & 0 &   0 &  73 & 253 & 253 & 253 & ⋯ &  32 & 212 & 253 & 255 & 253 & 253 & 108 & 0 & 0 & 0\\\\\n",
       "\t 0 & 0 & 0 & 0 & 0 &   0 & 115 & 252 & 252 & 252 & ⋯ & 115 & 252 & 252 & 253 & 252 & 220 &  15 & 0 & 0 & 0\\\\\n",
       "\t 0 & 0 & 0 & 0 & 0 &   0 & 217 & 252 & 252 & 252 & ⋯ & 242 & 252 & 252 & 253 & 252 & 112 &   0 & 0 & 0 & 0\\\\\n",
       "\t 0 & 0 & 0 & 0 & 0 &   0 & 217 & 252 & 252 & 252 & ⋯ & 252 & 252 & 252 & 253 & 128 &  31 &   0 & 0 & 0 & 0\\\\\n",
       "\t 0 & 0 & 0 & 0 & 0 & 110 & 233 & 253 & 253 & 144 & ⋯ & 253 & 253 & 253 & 208 &  20 &   0 &   0 & 0 & 0 & 0\\\\\n",
       "\t 0 & 0 & 0 & 0 & 0 & 253 & 252 & 252 & 252 & 237 & ⋯ & 252 & 252 & 210 &  20 &   0 &   0 &   0 & 0 & 0 & 0\\\\\n",
       "\t 0 & 0 & 0 & 0 & 0 & 253 & 252 & 252 & 252 & 252 & ⋯ & 215 & 112 &  31 &   0 &   0 &   0 &   0 & 0 & 0 & 0\\\\\n",
       "\t 0 & 0 & 0 & 0 & 0 & 170 & 252 & 252 & 252 & 252 & ⋯ &   0 &   0 &   0 &   0 &   0 &   0 &   0 & 0 & 0 & 0\\\\\n",
       "\t 0 & 0 & 0 & 0 & 0 &   0 & 218 & 253 & 253 & 253 & ⋯ &   0 &   0 &   0 &   0 &   0 &   0 &   0 & 0 & 0 & 0\\\\\n",
       "\t 0 & 0 & 0 & 0 & 0 &   0 &  72 & 231 & 252 & 252 & ⋯ &   0 &   0 &   0 &   0 &   0 &   0 &   0 & 0 & 0 & 0\\\\\n",
       "\t 0 & 0 & 0 & 0 & 0 &   0 &   0 &  52 &  71 &  71 & ⋯ &   0 &   0 &   0 &   0 &   0 &   0 &   0 & 0 & 0 & 0\\\\\n",
       "\t 0 & 0 & 0 & 0 & 0 &   0 &   0 &   0 &   0 &   0 & ⋯ &   0 &   0 &   0 &   0 &   0 &   0 &   0 & 0 & 0 & 0\\\\\n",
       "\t 0 & 0 & 0 & 0 & 0 &   0 &   0 &   0 &   0 &   0 & ⋯ &   0 &   0 &   0 &   0 &   0 &   0 &   0 & 0 & 0 & 0\\\\\n",
       "\t 0 & 0 & 0 & 0 & 0 &   0 &   0 &   0 &   0 &   0 & ⋯ &   0 &   0 &   0 &   0 &   0 &   0 &   0 & 0 & 0 & 0\\\\\n",
       "\t 0 & 0 & 0 & 0 & 0 &   0 &   0 &   0 &   0 &   0 & ⋯ &   0 &   0 &   0 &   0 &   0 &   0 &   0 & 0 & 0 & 0\\\\\n",
       "\t 0 & 0 & 0 & 0 & 0 &   0 &   0 &   0 &   0 &   0 & ⋯ &   0 &   0 &   0 &   0 &   0 &   0 &   0 & 0 & 0 & 0\\\\\n",
       "\\end{tabular}\n"
      ],
      "text/markdown": [
       "\n",
       "A matrix: 28 × 28 of type int\n",
       "\n",
       "| 0 | 0 | 0 | 0 | 0 |   0 |   0 |   0 |   0 |   0 | ⋯ |   0 |   0 |   0 |   0 |   0 |   0 |   0 | 0 | 0 | 0 |\n",
       "| 0 | 0 | 0 | 0 | 0 |   0 |   0 |   0 |   0 |   0 | ⋯ |   0 |   0 |   0 |   0 |   0 |   0 |   0 | 0 | 0 | 0 |\n",
       "| 0 | 0 | 0 | 0 | 0 |   0 |   0 |   0 |   0 |   0 | ⋯ |   0 |   0 |   0 |   0 |   0 |   0 |   0 | 0 | 0 | 0 |\n",
       "| 0 | 0 | 0 | 0 | 0 |   0 |   0 |   0 |   0 |   0 | ⋯ |   0 |   0 |   0 |   0 |   0 |   0 |   0 | 0 | 0 | 0 |\n",
       "| 0 | 0 | 0 | 0 | 0 |   0 |   0 |   0 |   0 |   0 | ⋯ |   0 |   0 |   0 |   0 |   0 |   0 |   0 | 0 | 0 | 0 |\n",
       "| 0 | 0 | 0 | 0 | 0 |   0 |   0 |   0 |   0 |   0 | ⋯ |   0 |   0 |  42 | 218 | 134 | 186 |   0 | 0 | 0 | 0 |\n",
       "| 0 | 0 | 0 | 0 | 0 |   0 |   0 |   0 |   0 |   0 | ⋯ |   0 |  27 | 221 | 253 | 252 | 221 |  16 | 0 | 0 | 0 |\n",
       "| 0 | 0 | 0 | 0 | 0 |   0 |   0 |   0 |   0 |   0 | ⋯ |   0 |  16 | 190 | 253 | 252 | 252 | 108 | 0 | 0 | 0 |\n",
       "| 0 | 0 | 0 | 0 | 0 |   0 |   0 |   0 |   1 | 109 | ⋯ |   0 |   0 |   0 | 109 | 252 | 236 |  62 | 0 | 0 | 0 |\n",
       "| 0 | 0 | 0 | 0 | 0 |   0 |   0 |   0 | 125 | 252 | ⋯ |   0 |   0 |   0 | 109 | 252 | 215 |  42 | 0 | 0 | 0 |\n",
       "| 0 | 0 | 0 | 0 | 0 |   0 |   0 |   0 |  62 | 189 | ⋯ |   0 |   0 |  21 | 212 | 252 | 241 | 221 | 0 | 0 | 0 |\n",
       "| 0 | 0 | 0 | 0 | 0 |   0 |   0 |  21 | 206 | 252 | ⋯ |   0 |  21 | 206 | 253 | 252 | 252 | 252 | 0 | 0 | 0 |\n",
       "| 0 | 0 | 0 | 0 | 0 |   0 |  73 | 253 | 253 | 253 | ⋯ |  32 | 212 | 253 | 255 | 253 | 253 | 108 | 0 | 0 | 0 |\n",
       "| 0 | 0 | 0 | 0 | 0 |   0 | 115 | 252 | 252 | 252 | ⋯ | 115 | 252 | 252 | 253 | 252 | 220 |  15 | 0 | 0 | 0 |\n",
       "| 0 | 0 | 0 | 0 | 0 |   0 | 217 | 252 | 252 | 252 | ⋯ | 242 | 252 | 252 | 253 | 252 | 112 |   0 | 0 | 0 | 0 |\n",
       "| 0 | 0 | 0 | 0 | 0 |   0 | 217 | 252 | 252 | 252 | ⋯ | 252 | 252 | 252 | 253 | 128 |  31 |   0 | 0 | 0 | 0 |\n",
       "| 0 | 0 | 0 | 0 | 0 | 110 | 233 | 253 | 253 | 144 | ⋯ | 253 | 253 | 253 | 208 |  20 |   0 |   0 | 0 | 0 | 0 |\n",
       "| 0 | 0 | 0 | 0 | 0 | 253 | 252 | 252 | 252 | 237 | ⋯ | 252 | 252 | 210 |  20 |   0 |   0 |   0 | 0 | 0 | 0 |\n",
       "| 0 | 0 | 0 | 0 | 0 | 253 | 252 | 252 | 252 | 252 | ⋯ | 215 | 112 |  31 |   0 |   0 |   0 |   0 | 0 | 0 | 0 |\n",
       "| 0 | 0 | 0 | 0 | 0 | 170 | 252 | 252 | 252 | 252 | ⋯ |   0 |   0 |   0 |   0 |   0 |   0 |   0 | 0 | 0 | 0 |\n",
       "| 0 | 0 | 0 | 0 | 0 |   0 | 218 | 253 | 253 | 253 | ⋯ |   0 |   0 |   0 |   0 |   0 |   0 |   0 | 0 | 0 | 0 |\n",
       "| 0 | 0 | 0 | 0 | 0 |   0 |  72 | 231 | 252 | 252 | ⋯ |   0 |   0 |   0 |   0 |   0 |   0 |   0 | 0 | 0 | 0 |\n",
       "| 0 | 0 | 0 | 0 | 0 |   0 |   0 |  52 |  71 |  71 | ⋯ |   0 |   0 |   0 |   0 |   0 |   0 |   0 | 0 | 0 | 0 |\n",
       "| 0 | 0 | 0 | 0 | 0 |   0 |   0 |   0 |   0 |   0 | ⋯ |   0 |   0 |   0 |   0 |   0 |   0 |   0 | 0 | 0 | 0 |\n",
       "| 0 | 0 | 0 | 0 | 0 |   0 |   0 |   0 |   0 |   0 | ⋯ |   0 |   0 |   0 |   0 |   0 |   0 |   0 | 0 | 0 | 0 |\n",
       "| 0 | 0 | 0 | 0 | 0 |   0 |   0 |   0 |   0 |   0 | ⋯ |   0 |   0 |   0 |   0 |   0 |   0 |   0 | 0 | 0 | 0 |\n",
       "| 0 | 0 | 0 | 0 | 0 |   0 |   0 |   0 |   0 |   0 | ⋯ |   0 |   0 |   0 |   0 |   0 |   0 |   0 | 0 | 0 | 0 |\n",
       "| 0 | 0 | 0 | 0 | 0 |   0 |   0 |   0 |   0 |   0 | ⋯ |   0 |   0 |   0 |   0 |   0 |   0 |   0 | 0 | 0 | 0 |\n",
       "\n"
      ],
      "text/plain": [
       "      [,1] [,2] [,3] [,4] [,5] [,6] [,7] [,8] [,9] [,10] [,11] [,12] [,13]\n",
       " [1,] 0    0    0    0    0      0    0    0    0    0   ⋯       0     0  \n",
       " [2,] 0    0    0    0    0      0    0    0    0    0   ⋯       0     0  \n",
       " [3,] 0    0    0    0    0      0    0    0    0    0   ⋯       0     0  \n",
       " [4,] 0    0    0    0    0      0    0    0    0    0   ⋯       0     0  \n",
       " [5,] 0    0    0    0    0      0    0    0    0    0   ⋯       0     0  \n",
       " [6,] 0    0    0    0    0      0    0    0    0    0   ⋯       0     0  \n",
       " [7,] 0    0    0    0    0      0    0    0    0    0   ⋯       0    27  \n",
       " [8,] 0    0    0    0    0      0    0    0    0    0   ⋯       0    16  \n",
       " [9,] 0    0    0    0    0      0    0    0    1  109   ⋯       0     0  \n",
       "[10,] 0    0    0    0    0      0    0    0  125  252   ⋯       0     0  \n",
       "[11,] 0    0    0    0    0      0    0    0   62  189   ⋯       0     0  \n",
       "[12,] 0    0    0    0    0      0    0   21  206  252   ⋯       0    21  \n",
       "[13,] 0    0    0    0    0      0   73  253  253  253   ⋯      32   212  \n",
       "[14,] 0    0    0    0    0      0  115  252  252  252   ⋯     115   252  \n",
       "[15,] 0    0    0    0    0      0  217  252  252  252   ⋯     242   252  \n",
       "[16,] 0    0    0    0    0      0  217  252  252  252   ⋯     252   252  \n",
       "[17,] 0    0    0    0    0    110  233  253  253  144   ⋯     253   253  \n",
       "[18,] 0    0    0    0    0    253  252  252  252  237   ⋯     252   252  \n",
       "[19,] 0    0    0    0    0    253  252  252  252  252   ⋯     215   112  \n",
       "[20,] 0    0    0    0    0    170  252  252  252  252   ⋯       0     0  \n",
       "[21,] 0    0    0    0    0      0  218  253  253  253   ⋯       0     0  \n",
       "[22,] 0    0    0    0    0      0   72  231  252  252   ⋯       0     0  \n",
       "[23,] 0    0    0    0    0      0    0   52   71   71   ⋯       0     0  \n",
       "[24,] 0    0    0    0    0      0    0    0    0    0   ⋯       0     0  \n",
       "[25,] 0    0    0    0    0      0    0    0    0    0   ⋯       0     0  \n",
       "[26,] 0    0    0    0    0      0    0    0    0    0   ⋯       0     0  \n",
       "[27,] 0    0    0    0    0      0    0    0    0    0   ⋯       0     0  \n",
       "[28,] 0    0    0    0    0      0    0    0    0    0   ⋯       0     0  \n",
       "      [,14] [,15] [,16] [,17] [,18] [,19] [,20] [,21]\n",
       " [1,]   0     0     0     0     0   0     0     0    \n",
       " [2,]   0     0     0     0     0   0     0     0    \n",
       " [3,]   0     0     0     0     0   0     0     0    \n",
       " [4,]   0     0     0     0     0   0     0     0    \n",
       " [5,]   0     0     0     0     0   0     0     0    \n",
       " [6,]  42   218   134   186     0   0     0     0    \n",
       " [7,] 221   253   252   221    16   0     0     0    \n",
       " [8,] 190   253   252   252   108   0     0     0    \n",
       " [9,]   0   109   252   236    62   0     0     0    \n",
       "[10,]   0   109   252   215    42   0     0     0    \n",
       "[11,]  21   212   252   241   221   0     0     0    \n",
       "[12,] 206   253   252   252   252   0     0     0    \n",
       "[13,] 253   255   253   253   108   0     0     0    \n",
       "[14,] 252   253   252   220    15   0     0     0    \n",
       "[15,] 252   253   252   112     0   0     0     0    \n",
       "[16,] 252   253   128    31     0   0     0     0    \n",
       "[17,] 253   208    20     0     0   0     0     0    \n",
       "[18,] 210    20     0     0     0   0     0     0    \n",
       "[19,]  31     0     0     0     0   0     0     0    \n",
       "[20,]   0     0     0     0     0   0     0     0    \n",
       "[21,]   0     0     0     0     0   0     0     0    \n",
       "[22,]   0     0     0     0     0   0     0     0    \n",
       "[23,]   0     0     0     0     0   0     0     0    \n",
       "[24,]   0     0     0     0     0   0     0     0    \n",
       "[25,]   0     0     0     0     0   0     0     0    \n",
       "[26,]   0     0     0     0     0   0     0     0    \n",
       "[27,]   0     0     0     0     0   0     0     0    \n",
       "[28,]   0     0     0     0     0   0     0     0    "
      ]
     },
     "metadata": {},
     "output_type": "display_data"
    }
   ],
   "source": [
    "typeof(train_ds)\n",
    "length(train_ds)\n",
    "train_ds$data[42000, ,]"
   ]
  },
  {
   "cell_type": "code",
   "execution_count": 207,
   "id": "d093b385-d14c-4ec1-bd12-f492910b1f03",
   "metadata": {
    "tags": [],
    "vscode": {
     "languageId": "r"
    }
   },
   "outputs": [
    {
     "data": {
      "image/png": "[encoded data removed]",
      "text/plain": [
       "Plot with title “6”"
      ]
     },
     "metadata": {
      "image/png": {
       "height": 600,
       "width": 600
      }
     },
     "output_type": "display_data"
    }
   ],
   "source": [
    "options(repr.plot.width=10, repr.plot.height=10)\n",
    "\n",
    "i <- sample(1:length(train_ds), 1)\n",
    "x <- train_ds$data[i, ,] %>% t\n",
    "\n",
    "image(x[1:28, 28:1], useRaster=TRUE, axes=FALSE, col=gray.colors(1000), main = train_ds$targets[i]-1 )"
   ]
  },
  {
   "cell_type": "code",
   "execution_count": 208,
   "id": "b5a5d53b-923a-4c7b-b6c9-e5cb7491c29f",
   "metadata": {
    "tags": [],
    "vscode": {
     "languageId": "r"
    }
   },
   "outputs": [
    {
     "data": {
      "image/png": "[encoded data removed]",
      "text/plain": [
       "Plot with title “2”"
      ]
     },
     "metadata": {
      "image/png": {
       "height": 600,
       "width": 600
      }
     },
     "output_type": "display_data"
    }
   ],
   "source": [
    "options(repr.plot.width = 10, repr.plot.height = 10)\n",
    "par(mfrow=c(3,3))\n",
    "\n",
    "for(iter in 1:9){\n",
    "    i <- sample(1:length(train_ds), 1)\n",
    "    x <- train_ds$data[i, ,] %>% t\n",
    "    image(x[1:28, 28:1], useRaster = TRUE, axes = FALSE, col = gray.colors(1000), main = train_ds$targets[i]-1)\n",
    "}"
   ]
  },
  {
   "cell_type": "markdown",
   "id": "a675824c-263b-4d64-b40d-ccd49aed012d",
   "metadata": {},
   "source": [
    "<br><br><br><br>\n",
    "<br><br><br><br>\n"
   ]
  },
  {
   "cell_type": "markdown",
   "id": "a113d801-8927-4b20-b4ca-bdb81329341b",
   "metadata": {},
   "source": [
    "---"
   ]
  },
  {
   "cell_type": "markdown",
   "id": "928330ce-4fea-4c42-ba1f-cd541831a84b",
   "metadata": {},
   "source": [
    "# Image Classification"
   ]
  },
  {
   "cell_type": "code",
   "execution_count": 193,
   "id": "94a67d0f-e62a-4ce6-bdf0-8e36dec295f1",
   "metadata": {
    "tags": [],
    "vscode": {
     "languageId": "r"
    }
   },
   "outputs": [],
   "source": [
    "train_dl <- dataloader(train_ds, batch_size = 2000, shuffle = TRUE)\n",
    "test_dl <- dataloader(test_ds, batch_size = 2000)"
   ]
  },
  {
   "cell_type": "code",
   "execution_count": 195,
   "id": "fce5deee-0a61-4a7e-a175-8ae5e9a32d74",
   "metadata": {
    "tags": [],
    "vscode": {
     "languageId": "r"
    }
   },
   "outputs": [],
   "source": [
    "NNet_10 <- nn_module(\n",
    "  initialize = function(p, q1, q2, q3, o) {\n",
    "    self$hidden1 <- nn_linear(p, q1)\n",
    "    self$hidden2 <- nn_linear(q1, q2)\n",
    "    self$hidden3 <- nn_linear(q2, q3)\n",
    "    self$OUTPUT <- nn_linear(q3, o)\n",
    "    self$activation <- nn_relu()\n",
    "  },\n",
    "  forward = function(x) {\n",
    "    x %>%\n",
    "      self$hidden1() %>%\n",
    "      self$activation() %>%\n",
    "      self$hidden2() %>%\n",
    "      self$activation() %>%\n",
    "      self$hidden3() %>%\n",
    "      self$activation() %>%\n",
    "      self$OUTPUT()\n",
    "  }\n",
    ")"
   ]
  },
  {
   "cell_type": "code",
   "execution_count": 196,
   "id": "6bc7a75f-b617-4722-acfc-557b7c63ea78",
   "metadata": {
    "tags": [],
    "vscode": {
     "languageId": "r"
    }
   },
   "outputs": [
    {
     "name": "stderr",
     "output_type": "stream",
     "text": [
      "Epoch 1/10\n",
      "Train metrics: Loss: 1.4951 - Acc: 0.5863\n",
      "Epoch 2/10\n",
      "Train metrics: Loss: 0.4406 - Acc: 0.8731\n",
      "Epoch 3/10\n",
      "Train metrics: Loss: 0.3131 - Acc: 0.9107\n",
      "Epoch 4/10\n",
      "Train metrics: Loss: 0.2596 - Acc: 0.9264\n",
      "Epoch 5/10\n",
      "Train metrics: Loss: 0.224 - Acc: 0.9369\n",
      "Epoch 6/10\n",
      "Train metrics: Loss: 0.1935 - Acc: 0.9455\n",
      "Epoch 7/10\n",
      "Train metrics: Loss: 0.1685 - Acc: 0.9519\n",
      "Epoch 8/10\n",
      "Train metrics: Loss: 0.1529 - Acc: 0.956\n",
      "Epoch 9/10\n",
      "Train metrics: Loss: 0.1374 - Acc: 0.9604\n",
      "Epoch 10/10\n",
      "Train metrics: Loss: 0.1228 - Acc: 0.9646\n"
     ]
    }
   ],
   "source": [
    "fit_nn <- NNet_10 %>%\n",
    "    #\n",
    "    # Setup the model\n",
    "    #\n",
    "    setup(\n",
    "        loss = nn_cross_entropy_loss(),\n",
    "        optimizer = optim_adam,\n",
    "        metrics = list(\n",
    "            luz_metric_accuracy()\n",
    "        )\n",
    "    ) %>%\n",
    "    #\n",
    "    # Set the hyperparameters\n",
    "    #\n",
    "    set_hparams(p=28*28, q1=256, q2=128, q3=64, o=10) %>% \n",
    "    #\n",
    "    # Fit the model\n",
    "    #\n",
    "    fit(\n",
    "        #\n",
    "        # Training Data\n",
    "        #\n",
    "        epochs = 10,\n",
    "        data = train_dl,\n",
    "        # valid_data = test_dl,\n",
    "        verbose=TRUE\n",
    "    )"
   ]
  },
  {
   "cell_type": "code",
   "execution_count": 236,
   "id": "364bd46e-7dbb-4404-bd3d-e54ca674ba3d",
   "metadata": {
    "tags": [],
    "vscode": {
     "languageId": "r"
    }
   },
   "outputs": [],
   "source": [
    "NN10_preds <- fit_nn %>% \n",
    "  predict(test_ds) %>% \n",
    "  torch_argmax(dim = 2) %>%\n",
    "  as_array()"
   ]
  },
  {
   "cell_type": "code",
   "execution_count": 239,
   "id": "1ee982a1-e747-4391-964e-11501d819718",
   "metadata": {
    "tags": []
   },
   "outputs": [],
   "source": [
    "NN10_preds <- NN10_preds -1 "
   ]
  },
  {
   "cell_type": "code",
   "execution_count": 240,
   "id": "578df268",
   "metadata": {
    "tags": [],
    "vscode": {
     "languageId": "r"
    }
   },
   "outputs": [
    {
     "data": {
      "text/plain": [
       "   \n",
       "       0    1    2    3    4    5    6    7    8    9\n",
       "  0  963    0    5    0    1    2    7    0    4    5\n",
       "  1    0 1118    2    0    0    1    3   13    2    6\n",
       "  2    1    3  994    8    5    0    2   12    3    1\n",
       "  3    1    2    9  963    1    5    0    4   15   11\n",
       "  4    0    0    1    1  943    1    7    1    5   17\n",
       "  5    6    1    1   18    0  864    9    1   14    5\n",
       "  6    5    5    5    0    6    7  926    0    9    1\n",
       "  7    2    2    6    8    2    1    0  983    8    4\n",
       "  8    1    4    7   11    3    5    4    2  910    5\n",
       "  9    1    0    2    1   21    6    0   12    4  954"
      ]
     },
     "metadata": {},
     "output_type": "display_data"
    }
   ],
   "source": [
    "table(\n",
    "    NN10_preds %>% as.factor(),\n",
    "    (test_ds$targets-1) %>% as.factor()\n",
    ")"
   ]
  },
  {
   "cell_type": "code",
   "execution_count": 242,
   "id": "eecf6bfb-2f09-4caf-a3bd-9d407cb8211c",
   "metadata": {
    "tags": []
   },
   "outputs": [
    {
     "data": {
      "image/png": "[encoded data removed]",
      "text/plain": [
       "Plot with title “predicted = 9”"
      ]
     },
     "metadata": {
      "image/png": {
       "height": 600,
       "width": 600
      }
     },
     "output_type": "display_data"
    }
   ],
   "source": [
    "options(repr.plot.width = 10, repr.plot.height = 10)\n",
    "par(mfrow=c(3,3))\n",
    "\n",
    "for(iter in 1:9){\n",
    "    i <- sample(1:length(test_ds), 1)\n",
    "    x <- test_ds$data[i, ,] %>% t\n",
    "    image(x[1:28, 28:1], useRaster = TRUE, axes = FALSE, col = gray.colors(1000), main = paste(\"predicted =\", NN10_preds[i]))\n",
    "}"
   ]
  },
  {
   "cell_type": "markdown",
   "id": "35e562c9-6716-4cb2-bb90-523ac63530c9",
   "metadata": {},
   "source": [
    "<br><br><br><br>\n",
    "<br><br><br><br>\n",
    "<br><br><br><br>"
   ]
  },
  {
   "cell_type": "markdown",
   "id": "dedd843c-cebb-4daa-b1af-b65290af8c33",
   "metadata": {},
   "source": [
    "---\n",
    "\n",
    "# Thu, Apr 13\n",
    "\n",
    "\n",
    "## Supervised learning\n",
    "\n",
    "For a majority of this course we have focused on **supervised learning** where we have access to **labelled data** i.e., we are given access to the _covariates and the responses_\n",
    "\n",
    "<br><br><br>\n",
    "\n",
    "$$\n",
    "\\begin{aligned}\n",
    "\\text{observation}\\ 1: &\\quad (X_{1, 1}, X_{2, 1}, \\dots X_{p, 1}, y_1)\\\\\n",
    "\\text{observation}\\ 2: &\\quad (X_{1, 2}, X_{2, 2}, \\dots X_{p, 2}, y_2)\\\\\n",
    "\\vdots\\quad & \\quad\\quad\\quad\\vdots\\\\ \n",
    "\\text{observation}\\ n: &\\quad (X_{1, n}, X_{2, n}, \\dots X_{p, n}, y_n)\n",
    "\\end{aligned}\n",
    "$$\n",
    "\n",
    "<br><br><br>\n",
    "\n",
    "Our **goal** has been to:\n",
    "\n",
    "* Predict $y$ using $X_1, X_2, \\dots X_p$\n",
    "* Understand how each $X_i$ influences the response $y$"
   ]
  },
  {
   "cell_type": "markdown",
   "id": "0b09d07b-8977-40cb-b79e-d3ee8867fd6b",
   "metadata": {},
   "source": [
    "## Unsupervised learning\n",
    "\n",
    "In unsupervised learning we **DON'T** have access to the labelled data, i.e., we are only given:\n",
    "\n",
    "<br><br><br>\n",
    "\n",
    "$$\n",
    "\\begin{aligned}\n",
    "\\text{observation}\\ 1: &\\quad (X_{1, 1}, X_{2, 1}, \\dots X_{p, 1})\\\\\n",
    "\\text{observation}\\ 2: &\\quad (X_{1, 2}, X_{2, 2}, \\dots X_{p, 2})\\\\\n",
    "\\vdots\\quad & \\quad\\quad\\quad\\vdots\\\\ \n",
    "\\text{observation}\\ n: &\\quad (X_{1, n}, X_{2, n}, \\dots X_{p, n})\n",
    "\\end{aligned}\n",
    "$$\n",
    "\n",
    "<br><br><br>\n",
    "\n",
    "Our **goal** here is:\n",
    "* To understand the relationship between $X_1, X_2, \\dots X_p$\n",
    "    > * **dimension reduction**: \n",
    "    > \n",
    "    > Can we discover subgroups of variables $X_1, X_2, \\dots X_p$ which behave similarly?\n",
    "    \n",
    "    > * **clustering**:\n",
    "    >\n",
    "    > Can we discover subgroups of observations $1, 2, \\dots n$ which are similar?\n",
    "    \n",
    "<br><br><br>"
   ]
  },
  {
   "cell_type": "markdown",
   "id": "12a07b38-994f-4d98-a871-85e79dbfd0b1",
   "metadata": {},
   "source": [
    "#### Why unsupervised learning?\n",
    "\n",
    "It is always easier to obtain unlabeled data as oppposed to labeled data (which require someone or something to actually assign the proper responses $y_1, y_2, \\dots y_n$)\n",
    "\n",
    "In statistics and data science, there are a multitude of different methods which have been proposed to tackle each of the two problems. They include:\n",
    "\n",
    "* **Dimension reduction**:\n",
    "    * Principal component analysis\n",
    "    * Uniform Manifold Approximation (UMAP)\n",
    "    * t-Stochastic Neighbor embedding (t-SNE)\n",
    "    * ...\n",
    "    \n",
    "* **Clustering**:\n",
    "    * k-means clustering\n",
    "    * Hierarchical clustering\n",
    "    * Topological clustering\n",
    "    * Laplacian eigenmaps\n",
    "    * ...\n",
    "    \n",
    "This is one of the most exciting parts of data-science"
   ]
  },
  {
   "cell_type": "markdown",
   "id": "fc550b2c-7502-4707-81be-f1b58365acab",
   "metadata": {},
   "source": [
    "---\n",
    "\n",
    "\n",
    "## Principal Component Analysis (PCA)\n",
    "\n",
    "Given variables $(X_1, X_2, \\dots X_p)$, PCA produces a low-dimensional representation of the dataset, i.e., \n",
    "\n",
    "<br><br>\n",
    "\n",
    "$$\n",
    "\\begin{aligned}\n",
    "\\text{observation}\\ 1: &\\quad (X_{1, 1}, X_{2, 1}, \\dots X_{p, 1}) \\longrightarrow (Z_{1, 1}, Z_{2, 1})\\\\\n",
    "\\text{observation}\\ 2: &\\quad (X_{1, 2}, X_{2, 2}, \\dots X_{p, 2}) \\longrightarrow (Z_{1, 2}, Z_{2, 2})\\\\\n",
    "\\vdots\\quad & \\quad\\quad\\quad\\vdots\\\\ \n",
    "\\text{observation}\\ n: &\\quad (X_{1, n}, X_{2, n}, \\dots X_{p, n}) \\longrightarrow (Z_{1, n}, Z_{2, n})\n",
    "\\end{aligned}\n",
    "$$\n",
    "\n",
    "<br><br>\n",
    "\n",
    "It tries to create variables $(Z_1, Z_2, \\dots Z_q)$ for $q < p$ such that:\n",
    "\n",
    "1. $q \\ll p$\n",
    "1. $(Z_1, Z_2, \\dots Z_q)$ contains _roughly_ the same information as $(X_1, X_2, \\dots X_p)$"
   ]
  },
  {
   "cell_type": "markdown",
   "id": "169a4b96-afc0-4b63-9f52-9b40d750da73",
   "metadata": {},
   "source": [
    "#### How does PCA achieve this?\n",
    "\n",
    "\n",
    "---\n",
    "\n",
    "<br><br>\n",
    "\n",
    "\n",
    "##### Step 1:\n",
    "\n",
    "The **first principal component** $Z_1$ is the _normalized_ linear combination of the features:\n",
    "\n",
    "<br><br>\n",
    "\n",
    "$$\n",
    "Z_1 = v_{11} X_1 + v_{21} X_2 + \\dots v_{p1} X_p\n",
    "$$\n",
    "\n",
    "<br><br>\n",
    "\n",
    "such that: \n",
    "* $Z_1$ has the largest possible variance\n",
    "* $\\sum_{i=1}^p v^2_{p, i} = 1$\n",
    "\n",
    "<br><br>\n",
    "\n",
    "\n",
    "> #### Note:\n",
    "> $V_1 = (v_{11}, v_{21}, \\dots v_{p1})$ are called the **factor loadings**\n",
    "\n",
    "<br><br>\n",
    "\n",
    "---\n",
    "\n",
    "<br><br>\n",
    "\n",
    "\n",
    "##### Step 2:\n",
    "\n",
    "The **second principal component** $Z_2$ is the _normalized_ linear combination of the features:\n",
    "\n",
    "<br><br>\n",
    "\n",
    "$$\n",
    "Z_2 = v_{12} X_1 + v_{22} X_2 + \\dots v_{p2} X_p\n",
    "$$\n",
    "\n",
    "<br><br>\n",
    "\n",
    "such that: \n",
    "* $V_2 \\perp V_1$\n",
    "* $Z_2$ has the largest possible variance\n",
    "* $\\sum_{i=1}^p v^2_{p, 2} = 1$\n",
    "\n",
    "<br><br>\n",
    "\n",
    "---\n",
    "\n",
    "$\\vdots\\\\\\vdots$\n",
    "\n",
    "---\n",
    "\n",
    "##### Step q:\n",
    "\n",
    "The **$q$th principal component** $Z_q$ is the _normalized_ linear combination of the features:\n",
    "\n",
    "<br><br>\n",
    "\n",
    "$$\n",
    "Z_2 = v_{12} X_1 + v_{22} X_2 + \\dots v_{p2} X_p\n",
    "$$\n",
    "\n",
    "<br><br>\n",
    "\n",
    "such that: \n",
    "* $Z_q$ has the largest possible variance\n",
    "* $V_q \\perp \\text{span}(V_1, V_2, \\dots, V_{q-1})$\n",
    "* $\\sum_{i=1}^p v^2_{p, 2} = 1$\n",
    "\n",
    "<br><br>\n",
    "\n",
    "\n",
    "\n",
    "<br><br>"
   ]
  },
  {
   "cell_type": "markdown",
   "id": "1e460a06-b6ea-49ed-ad83-8e346764ad8a",
   "metadata": {},
   "source": [
    "## Example in `R`\n",
    "\n",
    "In R, we can use the built-in function prcomp() to perform PCA."
   ]
  },
  {
   "cell_type": "code",
   "execution_count": 100,
   "id": "a600faf5-ff7b-4341-9a62-2b7b4ec647c7",
   "metadata": {
    "tags": []
   },
   "outputs": [],
   "source": [
    "data <- tibble(\n",
    "  x1 = rnorm(100, mean = 0, sd = 1),\n",
    "  x2 = x1 + rnorm(100, mean = 0, sd = 0.1)\n",
    ")"
   ]
  },
  {
   "cell_type": "code",
   "execution_count": 106,
   "id": "1648c03e-9dc2-41bd-93df-50eec81e0720",
   "metadata": {
    "tags": []
   },
   "outputs": [
    {
     "data": {
      "text/plain": [
       "Importance of components:\n",
       "                          Comp.1      Comp.2\n",
       "Standard deviation     1.4117122 0.084075612\n",
       "Proportion of Variance 0.9964656 0.003534354\n",
       "Cumulative Proportion  0.9964656 1.000000000"
      ]
     },
     "metadata": {},
     "output_type": "display_data"
    }
   ],
   "source": [
    "pca <- princomp(data, cor = TRUE)\n",
    "summary(pca)"
   ]
  },
  {
   "cell_type": "code",
   "execution_count": 107,
   "id": "043b82ab-443f-4359-afd2-b8e705513699",
   "metadata": {
    "tags": []
   },
   "outputs": [
    {
     "data": {
      "image/png": "[encoded data removed]",
      "text/plain": [
       "Plot with title “pca”"
      ]
     },
     "metadata": {
      "image/png": {
       "height": 420,
       "width": 420
      }
     },
     "output_type": "display_data"
    }
   ],
   "source": [
    "screeplot(pca, type=\"l\")"
   ]
  },
  {
   "cell_type": "code",
   "execution_count": 108,
   "id": "2ac3a77d-03f9-4a07-8894-3cc219ead8a1",
   "metadata": {
    "tags": []
   },
   "outputs": [
    {
     "data": {
      "image/png": "[encoded data removed]",
      "text/plain": [
       "plot without title"
      ]
     },
     "metadata": {
      "image/png": {
       "height": 300,
       "width": 600
      }
     },
     "output_type": "display_data"
    }
   ],
   "source": [
    "options(repr.plot.width=10, repr.plot.height=5)\n",
    "par(mfrow=c(1, 2))\n",
    "\n",
    "Z_pca <- predict(pca, data[, 1:2])\n",
    "plot(data)\n",
    "plot(Z_pca)"
   ]
  },
  {
   "cell_type": "markdown",
   "id": "86325f43-ca86-43f0-a37b-ad94aae9d96c",
   "metadata": {},
   "source": [
    "---"
   ]
  },
  {
   "cell_type": "markdown",
   "id": "4b9477e3-cd6c-4a65-ac4c-94a652bc348b",
   "metadata": {},
   "source": [
    "\n",
    "\n",
    "### Interpretation of principal components\n",
    "\n"
   ]
  },
  {
   "cell_type": "code",
   "execution_count": 109,
   "id": "a2aeb2fb-01de-4cf0-a4f0-cbf4376dec98",
   "metadata": {
    "tags": []
   },
   "outputs": [],
   "source": [
    "n <- 500\n",
    "science <- rnorm(n, mean = 60, sd = 10)\n",
    "humanities <- rnorm(n, mean = 80, sd=10)"
   ]
  },
  {
   "cell_type": "code",
   "execution_count": 121,
   "id": "fb7b870a-0773-4fb3-a62b-7df42bc94e31",
   "metadata": {
    "tags": []
   },
   "outputs": [],
   "source": [
    "set.seed(42)\n",
    "df <- tibble(\n",
    "  math = 0.8 * science + rnorm(n, mean = 0, sd = 7),\n",
    "  physics = 1.0 * science + rnorm(n, mean = 0, sd = 5),\n",
    "  chemistry = 1.3 * science + rnorm(n, mean = 0, sd = 3),\n",
    "  history = 0.8 * humanities + rnorm(n, mean = 0, sd = 5),\n",
    "  geography = 1.0 * humanities + rnorm(n, mean = 0, sd = 10),\n",
    "  literature = 1.2 * humanities + rnorm(n, mean = 0, sd = 2)\n",
    ")"
   ]
  },
  {
   "cell_type": "code",
   "execution_count": 127,
   "id": "202997bd-c361-4a40-a2ec-66882bb828cc",
   "metadata": {
    "tags": []
   },
   "outputs": [
    {
     "data": {
      "text/html": [
       "<table class=\"dataframe\">\n",
       "<caption>A tibble: 6 × 6</caption>\n",
       "<thead>\n",
       "\t<tr><th scope=col>math</th><th scope=col>physics</th><th scope=col>chemistry</th><th scope=col>history</th><th scope=col>geography</th><th scope=col>literature</th></tr>\n",
       "\t<tr><th scope=col>&lt;dbl&gt;</th><th scope=col>&lt;dbl&gt;</th><th scope=col>&lt;dbl&gt;</th><th scope=col>&lt;dbl&gt;</th><th scope=col>&lt;dbl&gt;</th><th scope=col>&lt;dbl&gt;</th></tr>\n",
       "</thead>\n",
       "<tbody>\n",
       "\t<tr><td>62.72906</td><td>71.56114</td><td>93.31525</td><td>56.52949</td><td>76.92628</td><td> 90.53928</td></tr>\n",
       "\t<tr><td>55.30130</td><td>78.64160</td><td>97.86042</td><td>61.75750</td><td>75.26649</td><td> 93.64579</td></tr>\n",
       "\t<tr><td>50.70690</td><td>60.19397</td><td>81.18033</td><td>63.95318</td><td>68.86457</td><td>103.15180</td></tr>\n",
       "\t<tr><td>52.07501</td><td>60.23626</td><td>78.55400</td><td>77.64647</td><td>71.79151</td><td>111.03019</td></tr>\n",
       "\t<tr><td>45.93821</td><td>50.28465</td><td>67.06324</td><td>71.78750</td><td>81.78542</td><td>114.82201</td></tr>\n",
       "\t<tr><td>31.96543</td><td>39.89476</td><td>51.35854</td><td>67.66842</td><td>86.11600</td><td> 98.91538</td></tr>\n",
       "</tbody>\n",
       "</table>\n"
      ],
      "text/latex": [
       "A tibble: 6 × 6\n",
       "\\begin{tabular}{llllll}\n",
       " math & physics & chemistry & history & geography & literature\\\\\n",
       " <dbl> & <dbl> & <dbl> & <dbl> & <dbl> & <dbl>\\\\\n",
       "\\hline\n",
       "\t 62.72906 & 71.56114 & 93.31525 & 56.52949 & 76.92628 &  90.53928\\\\\n",
       "\t 55.30130 & 78.64160 & 97.86042 & 61.75750 & 75.26649 &  93.64579\\\\\n",
       "\t 50.70690 & 60.19397 & 81.18033 & 63.95318 & 68.86457 & 103.15180\\\\\n",
       "\t 52.07501 & 60.23626 & 78.55400 & 77.64647 & 71.79151 & 111.03019\\\\\n",
       "\t 45.93821 & 50.28465 & 67.06324 & 71.78750 & 81.78542 & 114.82201\\\\\n",
       "\t 31.96543 & 39.89476 & 51.35854 & 67.66842 & 86.11600 &  98.91538\\\\\n",
       "\\end{tabular}\n"
      ],
      "text/markdown": [
       "\n",
       "A tibble: 6 × 6\n",
       "\n",
       "| math &lt;dbl&gt; | physics &lt;dbl&gt; | chemistry &lt;dbl&gt; | history &lt;dbl&gt; | geography &lt;dbl&gt; | literature &lt;dbl&gt; |\n",
       "|---|---|---|---|---|---|\n",
       "| 62.72906 | 71.56114 | 93.31525 | 56.52949 | 76.92628 |  90.53928 |\n",
       "| 55.30130 | 78.64160 | 97.86042 | 61.75750 | 75.26649 |  93.64579 |\n",
       "| 50.70690 | 60.19397 | 81.18033 | 63.95318 | 68.86457 | 103.15180 |\n",
       "| 52.07501 | 60.23626 | 78.55400 | 77.64647 | 71.79151 | 111.03019 |\n",
       "| 45.93821 | 50.28465 | 67.06324 | 71.78750 | 81.78542 | 114.82201 |\n",
       "| 31.96543 | 39.89476 | 51.35854 | 67.66842 | 86.11600 |  98.91538 |\n",
       "\n"
      ],
      "text/plain": [
       "  math     physics  chemistry history  geography literature\n",
       "1 62.72906 71.56114 93.31525  56.52949 76.92628   90.53928 \n",
       "2 55.30130 78.64160 97.86042  61.75750 75.26649   93.64579 \n",
       "3 50.70690 60.19397 81.18033  63.95318 68.86457  103.15180 \n",
       "4 52.07501 60.23626 78.55400  77.64647 71.79151  111.03019 \n",
       "5 45.93821 50.28465 67.06324  71.78750 81.78542  114.82201 \n",
       "6 31.96543 39.89476 51.35854  67.66842 86.11600   98.91538 "
      ]
     },
     "metadata": {},
     "output_type": "display_data"
    }
   ],
   "source": [
    "head(df)"
   ]
  },
  {
   "cell_type": "code",
   "execution_count": 128,
   "id": "fb699bc3-e282-43bd-bb92-908a5967c329",
   "metadata": {
    "tags": []
   },
   "outputs": [
    {
     "data": {
      "image/png": "[encoded data removed]",
      "text/plain": [
       "plot without title"
      ]
     },
     "metadata": {
      "image/png": {
       "height": 420,
       "width": 420
      }
     },
     "output_type": "display_data"
    }
   ],
   "source": [
    "options(repr.plot.width=7, repr.plot.height=7)\n",
    "plot(df$math, df$physics)"
   ]
  },
  {
   "cell_type": "code",
   "execution_count": 129,
   "id": "f5be4638-eb47-47cd-85ba-348921a10d5e",
   "metadata": {
    "tags": []
   },
   "outputs": [
    {
     "data": {
      "text/plain": [
       "Importance of components:\n",
       "                          Comp.1    Comp.2     Comp.3    Comp.4     Comp.5\n",
       "Standard deviation     1.5958957 1.5504512 0.66579452 0.5759531 0.39267017\n",
       "Proportion of Variance 0.4244805 0.4006498 0.07388039 0.0552870 0.02569831\n",
       "Cumulative Proportion  0.4244805 0.8251303 0.89901070 0.9542977 0.97999601\n",
       "                           Comp.6\n",
       "Standard deviation     0.34644470\n",
       "Proportion of Variance 0.02000399\n",
       "Cumulative Proportion  1.00000000"
      ]
     },
     "metadata": {},
     "output_type": "display_data"
    }
   ],
   "source": [
    "pca <- princomp(df, cor=TRUE)\n",
    "summary(pca)"
   ]
  },
  {
   "cell_type": "code",
   "execution_count": 130,
   "id": "0ab5f846-03ac-4cbc-8f74-d17d1053282a",
   "metadata": {
    "tags": []
   },
   "outputs": [
    {
     "data": {
      "text/plain": [
       "\n",
       "Loadings:\n",
       "           Comp.1 Comp.2 Comp.3 Comp.4 Comp.5 Comp.6\n",
       "math        0.551                0.813         0.182\n",
       "physics     0.581               -0.529         0.612\n",
       "chemistry   0.598               -0.235        -0.763\n",
       "history           -0.583  0.526        -0.616       \n",
       "geography         -0.538 -0.819        -0.187       \n",
       "literature        -0.608  0.222         0.758       \n",
       "\n",
       "               Comp.1 Comp.2 Comp.3 Comp.4 Comp.5 Comp.6\n",
       "SS loadings     1.000  1.000  1.000  1.000  1.000  1.000\n",
       "Proportion Var  0.167  0.167  0.167  0.167  0.167  0.167\n",
       "Cumulative Var  0.167  0.333  0.500  0.667  0.833  1.000"
      ]
     },
     "metadata": {},
     "output_type": "display_data"
    }
   ],
   "source": [
    "pca$loadings"
   ]
  },
  {
   "cell_type": "code",
   "execution_count": 131,
   "id": "d200a5f3-3b3c-4680-abdc-b3d7d8657942",
   "metadata": {
    "tags": []
   },
   "outputs": [
    {
     "data": {
      "image/png": "[encoded data removed]",
      "text/plain": [
       "Plot with title “pca”"
      ]
     },
     "metadata": {
      "image/png": {
       "height": 420,
       "width": 420
      }
     },
     "output_type": "display_data"
    }
   ],
   "source": [
    "plot(pca, type=\"l\")"
   ]
  },
  {
   "cell_type": "markdown",
   "id": "6368796b-e8bf-44e7-bce9-56341851c913",
   "metadata": {},
   "source": [
    "---\n",
    "\n",
    "#### Principal component regression"
   ]
  },
  {
   "cell_type": "code",
   "execution_count": 141,
   "id": "e6457c92-00f0-434d-9476-9e3b92e9c328",
   "metadata": {
    "tags": []
   },
   "outputs": [],
   "source": [
    "df$gpa <- (0.9 * science + 0.5 * humanities + rnorm(n, mean=0, sd=10)) * 4 / 100"
   ]
  },
  {
   "cell_type": "code",
   "execution_count": 142,
   "id": "7a070d84-5b1c-44ed-ad75-26777b84d869",
   "metadata": {
    "tags": []
   },
   "outputs": [
    {
     "data": {
      "text/html": [
       "<table class=\"dataframe\">\n",
       "<caption>A tibble: 6 × 7</caption>\n",
       "<thead>\n",
       "\t<tr><th scope=col>math</th><th scope=col>physics</th><th scope=col>chemistry</th><th scope=col>history</th><th scope=col>geography</th><th scope=col>literature</th><th scope=col>gpa</th></tr>\n",
       "\t<tr><th scope=col>&lt;dbl&gt;</th><th scope=col>&lt;dbl&gt;</th><th scope=col>&lt;dbl&gt;</th><th scope=col>&lt;dbl&gt;</th><th scope=col>&lt;dbl&gt;</th><th scope=col>&lt;dbl&gt;</th><th scope=col>&lt;dbl&gt;</th></tr>\n",
       "</thead>\n",
       "<tbody>\n",
       "\t<tr><td>62.72906</td><td>71.56114</td><td>93.31525</td><td>56.52949</td><td>76.92628</td><td> 90.53928</td><td>3.822642</td></tr>\n",
       "\t<tr><td>55.30130</td><td>78.64160</td><td>97.86042</td><td>61.75750</td><td>75.26649</td><td> 93.64579</td><td>3.901794</td></tr>\n",
       "\t<tr><td>50.70690</td><td>60.19397</td><td>81.18033</td><td>63.95318</td><td>68.86457</td><td>103.15180</td><td>3.759447</td></tr>\n",
       "\t<tr><td>52.07501</td><td>60.23626</td><td>78.55400</td><td>77.64647</td><td>71.79151</td><td>111.03019</td><td>4.132458</td></tr>\n",
       "\t<tr><td>45.93821</td><td>50.28465</td><td>67.06324</td><td>71.78750</td><td>81.78542</td><td>114.82201</td><td>3.036151</td></tr>\n",
       "\t<tr><td>31.96543</td><td>39.89476</td><td>51.35854</td><td>67.66842</td><td>86.11600</td><td> 98.91538</td><td>2.721283</td></tr>\n",
       "</tbody>\n",
       "</table>\n"
      ],
      "text/latex": [
       "A tibble: 6 × 7\n",
       "\\begin{tabular}{lllllll}\n",
       " math & physics & chemistry & history & geography & literature & gpa\\\\\n",
       " <dbl> & <dbl> & <dbl> & <dbl> & <dbl> & <dbl> & <dbl>\\\\\n",
       "\\hline\n",
       "\t 62.72906 & 71.56114 & 93.31525 & 56.52949 & 76.92628 &  90.53928 & 3.822642\\\\\n",
       "\t 55.30130 & 78.64160 & 97.86042 & 61.75750 & 75.26649 &  93.64579 & 3.901794\\\\\n",
       "\t 50.70690 & 60.19397 & 81.18033 & 63.95318 & 68.86457 & 103.15180 & 3.759447\\\\\n",
       "\t 52.07501 & 60.23626 & 78.55400 & 77.64647 & 71.79151 & 111.03019 & 4.132458\\\\\n",
       "\t 45.93821 & 50.28465 & 67.06324 & 71.78750 & 81.78542 & 114.82201 & 3.036151\\\\\n",
       "\t 31.96543 & 39.89476 & 51.35854 & 67.66842 & 86.11600 &  98.91538 & 2.721283\\\\\n",
       "\\end{tabular}\n"
      ],
      "text/markdown": [
       "\n",
       "A tibble: 6 × 7\n",
       "\n",
       "| math &lt;dbl&gt; | physics &lt;dbl&gt; | chemistry &lt;dbl&gt; | history &lt;dbl&gt; | geography &lt;dbl&gt; | literature &lt;dbl&gt; | gpa &lt;dbl&gt; |\n",
       "|---|---|---|---|---|---|---|\n",
       "| 62.72906 | 71.56114 | 93.31525 | 56.52949 | 76.92628 |  90.53928 | 3.822642 |\n",
       "| 55.30130 | 78.64160 | 97.86042 | 61.75750 | 75.26649 |  93.64579 | 3.901794 |\n",
       "| 50.70690 | 60.19397 | 81.18033 | 63.95318 | 68.86457 | 103.15180 | 3.759447 |\n",
       "| 52.07501 | 60.23626 | 78.55400 | 77.64647 | 71.79151 | 111.03019 | 4.132458 |\n",
       "| 45.93821 | 50.28465 | 67.06324 | 71.78750 | 81.78542 | 114.82201 | 3.036151 |\n",
       "| 31.96543 | 39.89476 | 51.35854 | 67.66842 | 86.11600 |  98.91538 | 2.721283 |\n",
       "\n"
      ],
      "text/plain": [
       "  math     physics  chemistry history  geography literature gpa     \n",
       "1 62.72906 71.56114 93.31525  56.52949 76.92628   90.53928  3.822642\n",
       "2 55.30130 78.64160 97.86042  61.75750 75.26649   93.64579  3.901794\n",
       "3 50.70690 60.19397 81.18033  63.95318 68.86457  103.15180  3.759447\n",
       "4 52.07501 60.23626 78.55400  77.64647 71.79151  111.03019  4.132458\n",
       "5 45.93821 50.28465 67.06324  71.78750 81.78542  114.82201  3.036151\n",
       "6 31.96543 39.89476 51.35854  67.66842 86.11600   98.91538  2.721283"
      ]
     },
     "metadata": {},
     "output_type": "display_data"
    }
   ],
   "source": [
    "head(df)"
   ]
  },
  {
   "cell_type": "code",
   "execution_count": 143,
   "id": "bf6629c8-698f-4333-bd2d-f239a8bf11ac",
   "metadata": {
    "tags": []
   },
   "outputs": [
    {
     "data": {
      "text/plain": [
       "\n",
       "Call:\n",
       "lm(formula = gpa ~ ., data = df)\n",
       "\n",
       "Residuals:\n",
       "     Min       1Q   Median       3Q      Max \n",
       "-1.25743 -0.30757  0.01623  0.28850  1.23963 \n",
       "\n",
       "Coefficients:\n",
       "             Estimate Std. Error t value Pr(>|t|)    \n",
       "(Intercept)  0.071525   0.189667   0.377 0.706256    \n",
       "math        -0.002119   0.002762  -0.767 0.443362    \n",
       "physics      0.010703   0.003422   3.128 0.001863 ** \n",
       "chemistry    0.020515   0.003272   6.271 7.86e-10 ***\n",
       "history      0.004258   0.003716   1.146 0.252430    \n",
       "geography    0.002150   0.001903   1.130 0.259018    \n",
       "literature   0.011402   0.003227   3.533 0.000449 ***\n",
       "---\n",
       "Signif. codes:  0 ‘***’ 0.001 ‘**’ 0.01 ‘*’ 0.05 ‘.’ 0.1 ‘ ’ 1\n",
       "\n",
       "Residual standard error: 0.4276 on 493 degrees of freedom\n",
       "Multiple R-squared:  0.4915,\tAdjusted R-squared:  0.4853 \n",
       "F-statistic: 79.41 on 6 and 493 DF,  p-value: < 2.2e-16\n"
      ]
     },
     "metadata": {},
     "output_type": "display_data"
    }
   ],
   "source": [
    "lm_fit <- lm(gpa ~ ., df)\n",
    "summary(lm_fit)"
   ]
  },
  {
   "cell_type": "code",
   "execution_count": 153,
   "id": "1f7773c2-88c6-4f4f-8051-753611dead9c",
   "metadata": {
    "tags": []
   },
   "outputs": [
    {
     "data": {
      "text/html": [
       "<table class=\"dataframe\">\n",
       "<caption>A matrix: 1 × 6 of type dbl</caption>\n",
       "<thead>\n",
       "\t<tr><th scope=col>math</th><th scope=col>physics</th><th scope=col>chemistry</th><th scope=col>history</th><th scope=col>geography</th><th scope=col>literature</th></tr>\n",
       "</thead>\n",
       "<tbody>\n",
       "\t<tr><td>2.391157</td><td>4.138398</td><td>5.190626</td><td>3.252924</td><td>1.879114</td><td>4.044063</td></tr>\n",
       "</tbody>\n",
       "</table>\n"
      ],
      "text/latex": [
       "A matrix: 1 × 6 of type dbl\n",
       "\\begin{tabular}{llllll}\n",
       " math & physics & chemistry & history & geography & literature\\\\\n",
       "\\hline\n",
       "\t 2.391157 & 4.138398 & 5.190626 & 3.252924 & 1.879114 & 4.044063\\\\\n",
       "\\end{tabular}\n"
      ],
      "text/markdown": [
       "\n",
       "A matrix: 1 × 6 of type dbl\n",
       "\n",
       "| math | physics | chemistry | history | geography | literature |\n",
       "|---|---|---|---|---|---|\n",
       "| 2.391157 | 4.138398 | 5.190626 | 3.252924 | 1.879114 | 4.044063 |\n",
       "\n"
      ],
      "text/plain": [
       "     math     physics  chemistry history  geography literature\n",
       "[1,] 2.391157 4.138398 5.190626  3.252924 1.879114  4.044063  "
      ]
     },
     "metadata": {},
     "output_type": "display_data"
    }
   ],
   "source": [
    "vif(lm_fit) %>% t"
   ]
  },
  {
   "cell_type": "code",
   "execution_count": 158,
   "id": "be00f60a-0429-45fd-840d-38e965e1de76",
   "metadata": {
    "tags": []
   },
   "outputs": [
    {
     "data": {
      "image/png": "[encoded data removed]",
      "text/plain": [
       "Plot with title “”"
      ]
     },
     "metadata": {
      "image/png": {
       "height": 420,
       "width": 420
      }
     },
     "output_type": "display_data"
    }
   ],
   "source": [
    "df %>% \n",
    "    # select(-gpa) %>% \n",
    "    cor() %>% \n",
    "    corrplot(diag=F)"
   ]
  },
  {
   "cell_type": "code",
   "execution_count": 166,
   "id": "d39bdc3a-e521-4d32-8fd4-91ee1e1fb596",
   "metadata": {
    "tags": []
   },
   "outputs": [
    {
     "data": {
      "image/png": "[encoded data removed]",
      "text/plain": [
       "Plot with title “pca”"
      ]
     },
     "metadata": {
      "image/png": {
       "height": 420,
       "width": 420
      }
     },
     "output_type": "display_data"
    }
   ],
   "source": [
    "pca <- princomp(df %>% select(-gpa), cor=TRUE)\n",
    "screeplot(pca)"
   ]
  },
  {
   "cell_type": "code",
   "execution_count": 186,
   "id": "a988c316-de0d-42cd-8f05-aa95d3da7b62",
   "metadata": {
    "tags": []
   },
   "outputs": [
    {
     "data": {
      "text/html": [
       "<table class=\"dataframe\">\n",
       "<caption>A tibble: 6 × 3</caption>\n",
       "<thead>\n",
       "\t<tr><th scope=col>Comp.1</th><th scope=col>Comp.2</th><th scope=col>gpa</th></tr>\n",
       "\t<tr><th scope=col>&lt;dbl&gt;</th><th scope=col>&lt;dbl&gt;</th><th scope=col>&lt;dbl&gt;</th></tr>\n",
       "</thead>\n",
       "<tbody>\n",
       "\t<tr><td> 2.0631176</td><td> 0.90588241</td><td>3.822642</td></tr>\n",
       "\t<tr><td> 2.2598119</td><td> 0.46384319</td><td>3.901794</td></tr>\n",
       "\t<tr><td> 0.3485496</td><td> 0.07000813</td><td>3.759447</td></tr>\n",
       "\t<tr><td> 0.3377516</td><td>-1.30354715</td><td>4.132458</td></tr>\n",
       "\t<tr><td>-1.0051541</td><td>-1.54222665</td><td>3.036151</td></tr>\n",
       "\t<tr><td>-2.9919454</td><td>-0.68932090</td><td>2.721283</td></tr>\n",
       "</tbody>\n",
       "</table>\n"
      ],
      "text/latex": [
       "A tibble: 6 × 3\n",
       "\\begin{tabular}{lll}\n",
       " Comp.1 & Comp.2 & gpa\\\\\n",
       " <dbl> & <dbl> & <dbl>\\\\\n",
       "\\hline\n",
       "\t  2.0631176 &  0.90588241 & 3.822642\\\\\n",
       "\t  2.2598119 &  0.46384319 & 3.901794\\\\\n",
       "\t  0.3485496 &  0.07000813 & 3.759447\\\\\n",
       "\t  0.3377516 & -1.30354715 & 4.132458\\\\\n",
       "\t -1.0051541 & -1.54222665 & 3.036151\\\\\n",
       "\t -2.9919454 & -0.68932090 & 2.721283\\\\\n",
       "\\end{tabular}\n"
      ],
      "text/markdown": [
       "\n",
       "A tibble: 6 × 3\n",
       "\n",
       "| Comp.1 &lt;dbl&gt; | Comp.2 &lt;dbl&gt; | gpa &lt;dbl&gt; |\n",
       "|---|---|---|\n",
       "|  2.0631176 |  0.90588241 | 3.822642 |\n",
       "|  2.2598119 |  0.46384319 | 3.901794 |\n",
       "|  0.3485496 |  0.07000813 | 3.759447 |\n",
       "|  0.3377516 | -1.30354715 | 4.132458 |\n",
       "| -1.0051541 | -1.54222665 | 3.036151 |\n",
       "| -2.9919454 | -0.68932090 | 2.721283 |\n",
       "\n"
      ],
      "text/plain": [
       "  Comp.1     Comp.2      gpa     \n",
       "1  2.0631176  0.90588241 3.822642\n",
       "2  2.2598119  0.46384319 3.901794\n",
       "3  0.3485496  0.07000813 3.759447\n",
       "4  0.3377516 -1.30354715 4.132458\n",
       "5 -1.0051541 -1.54222665 3.036151\n",
       "6 -2.9919454 -0.68932090 2.721283"
      ]
     },
     "metadata": {},
     "output_type": "display_data"
    }
   ],
   "source": [
    "Z <- predict(pca, df)\n",
    "\n",
    "df_pca <- Z %>% \n",
    "    as_tibble %>% \n",
    "    select(Comp.1, Comp.2) %>% \n",
    "    mutate(gpa = df$gpa)\n",
    "\n",
    "head(df_pca)"
   ]
  },
  {
   "cell_type": "code",
   "execution_count": 188,
   "id": "b834f22a-7197-435c-8430-b2d79c494229",
   "metadata": {
    "tags": []
   },
   "outputs": [
    {
     "data": {
      "text/plain": [
       "\n",
       "Call:\n",
       "lm(formula = gpa ~ ., data = df_pca)\n",
       "\n",
       "Residuals:\n",
       "     Min       1Q   Median       3Q      Max \n",
       "-1.35146 -0.30232  0.03189  0.28849  1.24049 \n",
       "\n",
       "Coefficients:\n",
       "            Estimate Std. Error t value Pr(>|t|)    \n",
       "(Intercept)  3.73933    0.01959 190.892   <2e-16 ***\n",
       "Comp.1       0.22479    0.01227  18.314   <2e-16 ***\n",
       "Comp.2      -0.12081    0.01263  -9.562   <2e-16 ***\n",
       "---\n",
       "Signif. codes:  0 ‘***’ 0.001 ‘**’ 0.01 ‘*’ 0.05 ‘.’ 0.1 ‘ ’ 1\n",
       "\n",
       "Residual standard error: 0.438 on 497 degrees of freedom\n",
       "Multiple R-squared:  0.462,\tAdjusted R-squared:  0.4599 \n",
       "F-statistic: 213.4 on 2 and 497 DF,  p-value: < 2.2e-16\n"
      ]
     },
     "metadata": {},
     "output_type": "display_data"
    }
   ],
   "source": [
    "lm_pca <- lm(gpa ~ ., df_pca)\n",
    "summary(lm_pca)"
   ]
  },
  {
   "cell_type": "code",
   "execution_count": 190,
   "id": "dbcb5a42-15eb-40e0-b8b5-7499b26f44ba",
   "metadata": {
    "tags": []
   },
   "outputs": [
    {
     "data": {
      "text/html": [
       "<table class=\"dataframe\">\n",
       "<caption>A matrix: 1 × 2 of type dbl</caption>\n",
       "<thead>\n",
       "\t<tr><th scope=col>Comp.1</th><th scope=col>Comp.2</th></tr>\n",
       "</thead>\n",
       "<tbody>\n",
       "\t<tr><td>1</td><td>1</td></tr>\n",
       "</tbody>\n",
       "</table>\n"
      ],
      "text/latex": [
       "A matrix: 1 × 2 of type dbl\n",
       "\\begin{tabular}{ll}\n",
       " Comp.1 & Comp.2\\\\\n",
       "\\hline\n",
       "\t 1 & 1\\\\\n",
       "\\end{tabular}\n"
      ],
      "text/markdown": [
       "\n",
       "A matrix: 1 × 2 of type dbl\n",
       "\n",
       "| Comp.1 | Comp.2 |\n",
       "|---|---|\n",
       "| 1 | 1 |\n",
       "\n"
      ],
      "text/plain": [
       "     Comp.1 Comp.2\n",
       "[1,] 1      1     "
      ]
     },
     "metadata": {},
     "output_type": "display_data"
    }
   ],
   "source": [
    "vif(lm_pca) %>% t"
   ]
  }
 ],
 "metadata": {
  "hide_input": false,
  "kernelspec": {
   "display_name": "R v4.2",
   "language": "R",
   "name": "ir42"
  },
  "language_info": {
   "codemirror_mode": "r",
   "file_extension": ".r",
   "mimetype": "text/x-r-source",
   "name": "R",
   "pygments_lexer": "r",
   "version": "4.2.2"
  },
  "widgets": {
   "application/vnd.jupyter.widget-state+json": {
    "state": {},
    "version_major": 2,
    "version_minor": 0
   }
  }
 },
 "nbformat": 4,
 "nbformat_minor": 5
}
